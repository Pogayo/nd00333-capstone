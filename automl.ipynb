{
 "cells": [
  {
   "cell_type": "markdown",
   "metadata": {},
   "source": [
    "# Automated ML\n",
    "\n",
    "TODO: Import Dependencies. In the cell below, import all the dependencies that you will need to complete the project."
   ]
  },
  {
   "cell_type": "code",
   "execution_count": 2,
   "metadata": {
    "gather": {
     "logged": 1609927945242
    },
    "jupyter": {
     "outputs_hidden": false,
     "source_hidden": false
    },
    "nteract": {
     "transient": {
      "deleting": false
     }
    }
   },
   "outputs": [],
   "source": [
    "from azureml.core import Workspace, Experiment\n",
    "\n",
    "from azureml.core.compute import ComputeTarget, AmlCompute\n",
    "from azureml.core.compute_target import ComputeTargetException\n",
    "\n",
    "from azureml.data.dataset_factory import TabularDatasetFactory\n",
    "from azureml.train.automl import AutoMLConfig\n",
    "\n",
    "from azureml.widgets import RunDetails\n",
    "\n",
    "import pandas as pd\n",
    "import numpy as np\n",
    "\n",
    "from sklearn.model_selection import train_test_split\n"
   ]
  },
  {
   "cell_type": "markdown",
   "metadata": {},
   "source": [
    "## Dataset\n",
    "\n",
    "### Overview\n",
    "TODO: In this markdown cell, give an overview of the dataset you are using. Also mention the task you will be performing.\n",
    "\n",
    "\n",
    "TODO: Get data. In the cell below, write code to access the data you will be using in this project. Remember that the dataset needs to be external."
   ]
  },
  {
   "cell_type": "code",
   "execution_count": 3,
   "metadata": {
    "gather": {
     "logged": 1609928001773
    },
    "jupyter": {
     "outputs_hidden": false,
     "source_hidden": false
    },
    "nteract": {
     "transient": {
      "deleting": false
     }
    }
   },
   "outputs": [
    {
     "name": "stdout",
     "output_type": "stream",
     "text": [
      "Performing interactive authentication. Please follow the instructions on the terminal.\n",
      "To sign in, use a web browser to open the page https://microsoft.com/devicelogin and enter the code ENUWEHLQM to authenticate.\n",
      "You have logged in. Now let us find all the subscriptions to which you have access...\n",
      "Interactive authentication successfully completed.\n"
     ]
    }
   ],
   "source": [
    "ws = Workspace.from_config()\n",
    "\n",
    "# choose a name for experiment\n",
    "experiment_name = 'mental-health-classification'\n",
    "\n",
    "experiment=Experiment(ws, experiment_name)"
   ]
  },
  {
   "cell_type": "markdown",
   "metadata": {},
   "source": [
    "### Creating the compute"
   ]
  },
  {
   "cell_type": "code",
   "execution_count": 4,
   "metadata": {
    "gather": {
     "logged": 1609928026162
    }
   },
   "outputs": [
    {
     "name": "stdout",
     "output_type": "stream",
     "text": [
      "Creating\n",
      "Succeeded\n",
      "AmlCompute wait for completion finished\n",
      "\n",
      "Minimum number of nodes requested have been provisioned\n"
     ]
    }
   ],
   "source": [
    "cpu_cluster_name = \"cpu-cluster\"\n",
    "\n",
    "   # Verify that cluster does not exist already\n",
    "try:\n",
    "    cpu_cluster = ComputeTarget(workspace=ws, name=cpu_cluster_name)\n",
    "    print('Found existing cluster, use it.')\n",
    "except ComputeTargetException:\n",
    "    compute_config = AmlCompute.provisioning_configuration(vm_size='STANDARD_D2_V2',max_nodes=7)\n",
    "    cpu_cluster = ComputeTarget.create(ws, cpu_cluster_name, compute_config)\n",
    "\n",
    "cpu_cluster.wait_for_completion(show_output=True)"
   ]
  },
  {
   "cell_type": "markdown",
   "metadata": {},
   "source": [
    "### Data Preparation\n",
    "#### Access the data"
   ]
  },
  {
   "cell_type": "code",
   "execution_count": 5,
   "metadata": {
    "gather": {
     "logged": 1609928026683
    }
   },
   "outputs": [],
   "source": [
    "# Create a project_folder if it doesn't exist\n",
    "if not os.path.isdir('data'):\n",
    "    os.mkdir('data')\n",
    "    \n",
    "if not os.path.exists('project_folder'):\n",
    "    os.makedirs('project_folder')\n",
    "\n"
   ]
  },
  {
   "cell_type": "code",
   "execution_count": 6,
   "metadata": {
    "collapsed": true,
    "gather": {
     "logged": 1609928034468
    },
    "jupyter": {
     "outputs_hidden": false,
     "source_hidden": false
    },
    "nteract": {
     "transient": {
      "deleting": false
     }
    }
   },
   "outputs": [],
   "source": [
    "project_folder=\"./project_folder/\""
   ]
  },
  {
   "cell_type": "code",
   "execution_count": 7,
   "metadata": {
    "gather": {
     "logged": 1609928037202
    }
   },
   "outputs": [],
   "source": [
    "df = pd.read_csv(\"Train.csv\")\n",
    "train_data, valid_data = train_test_split(df, test_size=0.1, random_state=42)\n",
    "label = \"label\""
   ]
  },
  {
   "cell_type": "code",
   "execution_count": 8,
   "metadata": {
    "gather": {
     "logged": 1609928043518
    }
   },
   "outputs": [
    {
     "data": {
      "text/html": [
       "<div>\n",
       "<style scoped>\n",
       "    .dataframe tbody tr th:only-of-type {\n",
       "        vertical-align: middle;\n",
       "    }\n",
       "\n",
       "    .dataframe tbody tr th {\n",
       "        vertical-align: top;\n",
       "    }\n",
       "\n",
       "    .dataframe thead th {\n",
       "        text-align: right;\n",
       "    }\n",
       "</style>\n",
       "<table border=\"1\" class=\"dataframe\">\n",
       "  <thead>\n",
       "    <tr style=\"text-align: right;\">\n",
       "      <th></th>\n",
       "      <th>ID</th>\n",
       "      <th>text</th>\n",
       "      <th>label</th>\n",
       "    </tr>\n",
       "  </thead>\n",
       "  <tbody>\n",
       "    <tr>\n",
       "      <th>56</th>\n",
       "      <td>6T8HVMG3</td>\n",
       "      <td>what can I do to minimize my alcoholism</td>\n",
       "      <td>Alcohol</td>\n",
       "    </tr>\n",
       "    <tr>\n",
       "      <th>335</th>\n",
       "      <td>458NTYKE</td>\n",
       "      <td>Had a problem with my personal looks,feel sad</td>\n",
       "      <td>Depression</td>\n",
       "    </tr>\n",
       "    <tr>\n",
       "      <th>439</th>\n",
       "      <td>43COYA4O</td>\n",
       "      <td>What is the benefit of alcohol</td>\n",
       "      <td>Alcohol</td>\n",
       "    </tr>\n",
       "    <tr>\n",
       "      <th>292</th>\n",
       "      <td>V0C7LKYN</td>\n",
       "      <td>I am very nervous and bothered,</td>\n",
       "      <td>Depression</td>\n",
       "    </tr>\n",
       "    <tr>\n",
       "      <th>611</th>\n",
       "      <td>BOHSNXCN</td>\n",
       "      <td>What should I do to stop alcoholism?</td>\n",
       "      <td>Alcohol</td>\n",
       "    </tr>\n",
       "  </tbody>\n",
       "</table>\n",
       "</div>"
      ],
      "text/plain": [
       "           ID                                           text       label\n",
       "56   6T8HVMG3        what can I do to minimize my alcoholism     Alcohol\n",
       "335  458NTYKE  Had a problem with my personal looks,feel sad  Depression\n",
       "439  43COYA4O                 What is the benefit of alcohol     Alcohol\n",
       "292  V0C7LKYN               I am very nervous and bothered,   Depression\n",
       "611  BOHSNXCN           What should I do to stop alcoholism?     Alcohol"
      ]
     },
     "execution_count": 8,
     "metadata": {},
     "output_type": "execute_result"
    }
   ],
   "source": [
    "train_data.head()"
   ]
  },
  {
   "cell_type": "code",
   "execution_count": 9,
   "metadata": {
    "gather": {
     "logged": 1609928050770
    }
   },
   "outputs": [],
   "source": [
    "train=train_data.iloc[:, 1:]\n",
    "valid=valid_data.iloc[:, 1:]\n",
    "\n",
    "\n",
    "train.to_csv('data/train.csv', index=False)\n",
    "valid.to_csv('data/valid.csv', index=False)"
   ]
  },
  {
   "cell_type": "code",
   "execution_count": 10,
   "metadata": {
    "collapsed": true,
    "gather": {
     "logged": 1609928057159
    },
    "jupyter": {
     "outputs_hidden": false,
     "source_hidden": false
    },
    "nteract": {
     "transient": {
      "deleting": false
     }
    }
   },
   "outputs": [
    {
     "data": {
      "text/html": [
       "<div>\n",
       "<style scoped>\n",
       "    .dataframe tbody tr th:only-of-type {\n",
       "        vertical-align: middle;\n",
       "    }\n",
       "\n",
       "    .dataframe tbody tr th {\n",
       "        vertical-align: top;\n",
       "    }\n",
       "\n",
       "    .dataframe thead th {\n",
       "        text-align: right;\n",
       "    }\n",
       "</style>\n",
       "<table border=\"1\" class=\"dataframe\">\n",
       "  <thead>\n",
       "    <tr style=\"text-align: right;\">\n",
       "      <th></th>\n",
       "      <th>text</th>\n",
       "      <th>label</th>\n",
       "    </tr>\n",
       "  </thead>\n",
       "  <tbody>\n",
       "    <tr>\n",
       "      <th>56</th>\n",
       "      <td>what can I do to minimize my alcoholism</td>\n",
       "      <td>Alcohol</td>\n",
       "    </tr>\n",
       "    <tr>\n",
       "      <th>335</th>\n",
       "      <td>Had a problem with my personal looks,feel sad</td>\n",
       "      <td>Depression</td>\n",
       "    </tr>\n",
       "    <tr>\n",
       "      <th>439</th>\n",
       "      <td>What is the benefit of alcohol</td>\n",
       "      <td>Alcohol</td>\n",
       "    </tr>\n",
       "    <tr>\n",
       "      <th>292</th>\n",
       "      <td>I am very nervous and bothered,</td>\n",
       "      <td>Depression</td>\n",
       "    </tr>\n",
       "    <tr>\n",
       "      <th>611</th>\n",
       "      <td>What should I do to stop alcoholism?</td>\n",
       "      <td>Alcohol</td>\n",
       "    </tr>\n",
       "  </tbody>\n",
       "</table>\n",
       "</div>"
      ],
      "text/plain": [
       "                                              text       label\n",
       "56         what can I do to minimize my alcoholism     Alcohol\n",
       "335  Had a problem with my personal looks,feel sad  Depression\n",
       "439                 What is the benefit of alcohol     Alcohol\n",
       "292               I am very nervous and bothered,   Depression\n",
       "611           What should I do to stop alcoholism?     Alcohol"
      ]
     },
     "execution_count": 10,
     "metadata": {},
     "output_type": "execute_result"
    }
   ],
   "source": [
    "train.head()"
   ]
  },
  {
   "cell_type": "code",
   "execution_count": 11,
   "metadata": {
    "gather": {
     "logged": 1609928064712
    }
   },
   "outputs": [],
   "source": [
    "datastore=ws.get_default_datastore()"
   ]
  },
  {
   "cell_type": "code",
   "execution_count": 12,
   "metadata": {
    "gather": {
     "logged": 1609928069129
    }
   },
   "outputs": [
    {
     "name": "stdout",
     "output_type": "stream",
     "text": [
      "Uploading an estimated of 2 files\n",
      "Uploading ./data/train.csv\n",
      "Uploaded ./data/train.csv, 1 files out of an estimated total of 2\n",
      "Uploading ./data/valid.csv\n",
      "Uploaded ./data/valid.csv, 2 files out of an estimated total of 2\n",
      "Uploaded 2 files\n"
     ]
    },
    {
     "data": {
      "text/plain": [
       "$AZUREML_DATAREFERENCE_8d9abfcf1a8b4f59a5618baf7b75dd05"
      ]
     },
     "execution_count": 12,
     "metadata": {},
     "output_type": "execute_result"
    }
   ],
   "source": [
    "datastore.upload(src_dir=\"./data\", target_path=\"mental_health_clf\", show_progress=True)"
   ]
  },
  {
   "cell_type": "code",
   "execution_count": 13,
   "metadata": {
    "gather": {
     "logged": 1609928082717
    }
   },
   "outputs": [],
   "source": [
    "train_set =TabularDatasetFactory.from_delimited_files(path=datastore.path(\"mental_health_clf/train.csv\"))"
   ]
  },
  {
   "cell_type": "markdown",
   "metadata": {},
   "source": [
    "## AutoML Configuration\n",
    "\n",
    "TODO: Explain why you chose the automl settings and cofiguration you used below."
   ]
  },
  {
   "cell_type": "code",
   "execution_count": 14,
   "metadata": {
    "gather": {
     "logged": 1609928090453
    },
    "jupyter": {
     "outputs_hidden": false,
     "source_hidden": false
    },
    "nteract": {
     "transient": {
      "deleting": false
     }
    }
   },
   "outputs": [],
   "source": [
    "# TODO: Put your automl settings here\n",
    "import time\n",
    "automl_settings = {\n",
    "    \"name\": \"AutoML_mental_health\".format(time.time()),\n",
    "    \"enable_early_stopping\" : True,\n",
    "    \"experiment_timeout_minutes\" : 40,\n",
    "    \"iteration_timeout_minutes\": 10,\n",
    "    \"n_cross_validations\": 5,\n",
    "    \"primary_metric\": 'accuracy',\n",
    "    \"max_concurrent_iterations\": 10,\n",
    "}\n",
    "\n",
    "# TODO: Put your automl config here\n",
    "automl_config = AutoMLConfig(task=\"classification\",\n",
    "                             training_data=train_set,\n",
    "                             label_column_name=\"label\",\n",
    "                             compute_target=cpu_cluster,\n",
    "                             debug_log='automl_errors.log',\n",
    "                             path=project_folder,\n",
    "                             model_explainability=True,\n",
    "                             **automl_settings,\n",
    "                            )"
   ]
  },
  {
   "cell_type": "code",
   "execution_count": 15,
   "metadata": {
    "gather": {
     "logged": 1609929589297
    },
    "jupyter": {
     "outputs_hidden": false,
     "source_hidden": false
    },
    "nteract": {
     "transient": {
      "deleting": false
     }
    }
   },
   "outputs": [
    {
     "name": "stdout",
     "output_type": "stream",
     "text": [
      "Running on remote.\n",
      "No run_configuration provided, running on cpu-cluster with default configuration\n",
      "Running on remote compute: cpu-cluster\n",
      "Parent Run ID: AutoML_2aadb2b0-9913-4585-ac5f-caa597a91ef1\n",
      "\n",
      "Current status: FeaturesGeneration. Generating features for the dataset.\n",
      "Current status: DatasetCrossValidationSplit. Generating individually featurized CV splits.\n",
      "Current status: ModelSelection. Beginning model selection.\n",
      "\n",
      "****************************************************************************************************\n",
      "DATA GUARDRAILS: \n",
      "\n",
      "TYPE:         Class balancing detection\n",
      "STATUS:       ALERTED\n",
      "DESCRIPTION:  To decrease model bias, please cancel the current run and fix balancing problem.\n",
      "              Learn more about imbalanced data: https://aka.ms/AutomatedMLImbalancedData\n",
      "DETAILS:      Imbalanced data can lead to a falsely perceived positive effect of a model's accuracy because the input data has bias towards one class.\n",
      "+---------------------------------+---------------------------------+--------------------------------------+\n",
      "|Size of the smallest class       |Name/Label of the smallest class |Number of samples in the training data|\n",
      "+=================================+=================================+======================================+\n",
      "|49                               |Drugs                            |554                                   |\n",
      "+---------------------------------+---------------------------------+--------------------------------------+\n",
      "\n",
      "****************************************************************************************************\n",
      "\n",
      "TYPE:         Missing feature values imputation\n",
      "STATUS:       PASSED\n",
      "DESCRIPTION:  No feature missing values were detected in the training data.\n",
      "              Learn more about missing value imputation: https://aka.ms/AutomatedMLFeaturization\n",
      "\n",
      "****************************************************************************************************\n",
      "\n",
      "TYPE:         High cardinality feature detection\n",
      "STATUS:       DONE\n",
      "DESCRIPTION:  High cardinality features were detected in your inputs and handled.\n",
      "              Learn more about high cardinality feature handling: https://aka.ms/AutomatedMLFeaturization\n",
      "DETAILS:      High cardinality features refer to columns that contain a large percentage of unique values.\n",
      "+---------------------------------+---------------------------------+\n",
      "|Column name                      |Column Content Type              |\n",
      "+=================================+=================================+\n",
      "|text                             |text                             |\n",
      "+---------------------------------+---------------------------------+\n",
      "\n",
      "****************************************************************************************************\n",
      "\n",
      "****************************************************************************************************\n",
      "ITERATION: The iteration being evaluated.\n",
      "PIPELINE: A summary description of the pipeline being evaluated.\n",
      "DURATION: Time taken for the current iteration.\n",
      "METRIC: The result of computing score on the fitted pipeline.\n",
      "BEST: The best observed score thus far.\n",
      "****************************************************************************************************\n",
      "\n",
      " ITERATION   PIPELINE                                       DURATION      METRIC      BEST\n",
      "         6   MaxAbsScaler LightGBM                          0:00:54       0.7472    0.7472\n",
      "         7   MaxAbsScaler LightGBM                          0:00:49       0.7401    0.7472\n",
      "         4   MaxAbsScaler RandomForest                      0:01:31       0.6929    0.7472\n",
      "         9   StandardScalerWrapper LogisticRegression       0:00:59       0.8393    0.8393\n",
      "        10   SparseNormalizer XGBoostClassifier             0:01:16       0.8375    0.8393\n",
      "         0   MaxAbsScaler LightGBM                          0:03:28       0.7978    0.8393\n",
      "         2   MaxAbsScaler RandomForest                      0:03:30       0.8285    0.8393\n",
      "         5   MaxAbsScaler RandomForest                      0:03:26       0.7545    0.8393\n",
      "         3   MaxAbsScaler RandomForest                      0:03:31       0.6896    0.8393\n",
      "         1   MaxAbsScaler XGBoostClassifier                 0:03:54       0.8519    0.8519\n",
      "        11   SparseNormalizer XGBoostClassifier             0:01:35       0.8465    0.8519\n",
      "        14   MaxAbsScaler LightGBM                          0:00:59       0.7545    0.8519\n",
      "        15   SparseNormalizer LightGBM                      0:00:56       0.7365    0.8519\n",
      "         8   SparseNormalizer XGBoostClassifier             0:04:29       0.8411    0.8519\n",
      "        12   SparseNormalizer XGBoostClassifier             0:01:21       0.8574    0.8574\n",
      "        13   SparseNormalizer XGBoostClassifier             0:01:11       0.8484    0.8574\n",
      "        17   SparseNormalizer XGBoostClassifier             0:01:11       0.8357    0.8574\n",
      "        16   SparseNormalizer XGBoostClassifier             0:01:08       0.8303    0.8574\n",
      "        18   StandardScalerWrapper ExtremeRandomTrees       0:01:01       0.8502    0.8574\n",
      "        20   SparseNormalizer XGBoostClassifier             0:01:07       0.8538    0.8574\n",
      "        19   SparseNormalizer XGBoostClassifier             0:01:21       0.8447    0.8574\n",
      "        23   SparseNormalizer XGBoostClassifier             0:01:17       0.8502    0.8574\n",
      "        22   SparseNormalizer XGBoostClassifier             0:01:02       0.8430    0.8574\n",
      "        25   SparseNormalizer XGBoostClassifier             0:01:02       0.5794    0.8574\n",
      "        21   SparseNormalizer XGBoostClassifier             0:02:10       0.8429    0.8574\n",
      "        26   SparseNormalizer XGBoostClassifier             0:01:08       0.8033    0.8574\n",
      "        28   SparseNormalizer XGBoostClassifier             0:01:02       0.8267    0.8574\n",
      "        29   MaxAbsScaler LightGBM                          0:01:06       0.7311    0.8574\n",
      "        27   SparseNormalizer XGBoostClassifier             0:01:26       0.8429    0.8574\n",
      "        24   SparseNormalizer XGBoostClassifier             0:02:12       0.8483    0.8574\n",
      "        30   SparseNormalizer XGBoostClassifier             0:01:13       0.5794    0.8574\n",
      "        31   StandardScalerWrapper ExtremeRandomTrees       0:01:09       0.8393    0.8574\n",
      "        32   SparseNormalizer XGBoostClassifier             0:01:16       0.8177    0.8574\n",
      "        33   SparseNormalizer XGBoostClassifier             0:01:22       0.8375    0.8574\n",
      "        36   SparseNormalizer LightGBM                      0:00:51       0.7347    0.8574\n",
      "        34   SparseNormalizer XGBoostClassifier             0:01:43       0.8465    0.8574\n",
      "        38   StandardScalerWrapper XGBoostClassifier        0:00:50       0.8267    0.8574\n",
      "        37   SparseNormalizer XGBoostClassifier             0:01:10       0.8411    0.8574\n",
      "        41   SparseNormalizer XGBoostClassifier             0:01:04       0.8411    0.8574\n",
      "        35   SparseNormalizer XGBoostClassifier             0:02:05          nan    0.8574\n",
      "        39   StandardScalerWrapper XGBoostClassifier        0:01:22          nan    0.8574\n",
      "        40   StandardScalerWrapper XGBoostClassifier        0:01:21          nan    0.8574\n",
      "        42   SparseNormalizer XGBoostClassifier             0:00:38          nan    0.8574\n",
      "        43   StandardScalerWrapper XGBoostClassifier        0:00:27          nan    0.8574\n",
      "        44                                                  0:00:11          nan    0.8574\n",
      "        45                                                  0:00:38          nan    0.8574\n",
      "        46                                                  0:00:28          nan    0.8574\n",
      "        47                                                  0:00:15          nan    0.8574\n",
      "        48    VotingEnsemble                                0:01:30       0.8646    0.8646\n",
      "        49    StackEnsemble                                 0:01:32       0.8628    0.8646\n"
     ]
    }
   ],
   "source": [
    "# TODO: Submit your experiment\n",
    "remote_run = experiment.submit(config=automl_config, show_output=True)"
   ]
  },
  {
   "cell_type": "code",
   "execution_count": 39,
   "metadata": {
    "gather": {
     "logged": 1609929590200
    },
    "jupyter": {
     "outputs_hidden": false,
     "source_hidden": false
    },
    "nteract": {
     "transient": {
      "deleting": false
     }
    }
   },
   "outputs": [
    {
     "data": {
      "application/vnd.jupyter.widget-view+json": {
       "model_id": "6c014186e5354b928287b7c957b9ff62",
       "version_major": 2,
       "version_minor": 0
      },
      "text/plain": [
       "_AutoMLWidget(widget_settings={'childWidgetDisplay': 'popup', 'send_telemetry': False, 'log_level': 'INFO', 's…"
      ]
     },
     "metadata": {},
     "output_type": "display_data"
    },
    {
     "data": {
      "application/aml.mini.widget.v1": "{\"status\": \"Completed\", \"workbench_run_details_uri\": \"https://ml.azure.com/experiments/mental-health-classification/runs/AutoML_2aadb2b0-9913-4585-ac5f-caa597a91ef1?wsid=/subscriptions/a24a24d5-8d87-4c8a-99b6-91ed2d2df51f/resourcegroups/aml-quickstarts-133629/workspaces/quick-starts-ws-133629\", \"run_id\": \"AutoML_2aadb2b0-9913-4585-ac5f-caa597a91ef1\", \"run_properties\": {\"run_id\": \"AutoML_2aadb2b0-9913-4585-ac5f-caa597a91ef1\", \"created_utc\": \"2021-01-06T10:15:00.305723Z\", \"properties\": {\"num_iterations\": \"1000\", \"training_type\": \"TrainFull\", \"acquisition_function\": \"EI\", \"primary_metric\": \"accuracy\", \"train_split\": \"0\", \"acquisition_parameter\": \"0\", \"num_cross_validation\": \"5\", \"target\": \"cpu-cluster\", \"AMLSettingsJsonString\": \"{\\\"path\\\":null,\\\"name\\\":\\\"AutoML_mental_health\\\",\\\"subscription_id\\\":\\\"a24a24d5-8d87-4c8a-99b6-91ed2d2df51f\\\",\\\"resource_group\\\":\\\"aml-quickstarts-133629\\\",\\\"workspace_name\\\":\\\"quick-starts-ws-133629\\\",\\\"region\\\":\\\"southcentralus\\\",\\\"compute_target\\\":\\\"cpu-cluster\\\",\\\"spark_service\\\":null,\\\"azure_service\\\":\\\"remote\\\",\\\"many_models\\\":false,\\\"pipeline_fetch_max_batch_size\\\":1,\\\"iterations\\\":1000,\\\"primary_metric\\\":\\\"accuracy\\\",\\\"task_type\\\":\\\"classification\\\",\\\"data_script\\\":null,\\\"validation_size\\\":0.0,\\\"n_cross_validations\\\":5,\\\"y_min\\\":null,\\\"y_max\\\":null,\\\"num_classes\\\":null,\\\"featurization\\\":\\\"auto\\\",\\\"_ignore_package_version_incompatibilities\\\":false,\\\"is_timeseries\\\":false,\\\"max_cores_per_iteration\\\":1,\\\"max_concurrent_iterations\\\":10,\\\"iteration_timeout_minutes\\\":10,\\\"mem_in_mb\\\":null,\\\"enforce_time_on_windows\\\":false,\\\"experiment_timeout_minutes\\\":40,\\\"experiment_exit_score\\\":null,\\\"whitelist_models\\\":null,\\\"blacklist_algos\\\":[\\\"TensorFlowLinearClassifier\\\",\\\"TensorFlowDNN\\\"],\\\"supported_models\\\":[\\\"GradientBoosting\\\",\\\"TensorFlowLinearClassifier\\\",\\\"MultinomialNaiveBayes\\\",\\\"ExtremeRandomTrees\\\",\\\"SVM\\\",\\\"DecisionTree\\\",\\\"LinearSVM\\\",\\\"KNN\\\",\\\"RandomForest\\\",\\\"XGBoostClassifier\\\",\\\"SGD\\\",\\\"BernoulliNaiveBayes\\\",\\\"LightGBM\\\",\\\"AveragedPerceptronClassifier\\\",\\\"LogisticRegression\\\",\\\"TensorFlowDNN\\\"],\\\"auto_blacklist\\\":true,\\\"blacklist_samples_reached\\\":false,\\\"exclude_nan_labels\\\":true,\\\"verbosity\\\":20,\\\"_debug_log\\\":\\\"azureml_automl.log\\\",\\\"show_warnings\\\":false,\\\"model_explainability\\\":true,\\\"service_url\\\":null,\\\"sdk_url\\\":null,\\\"sdk_packages\\\":null,\\\"enable_onnx_compatible_models\\\":false,\\\"enable_split_onnx_featurizer_estimator_models\\\":false,\\\"vm_type\\\":\\\"STANDARD_D2_V2\\\",\\\"telemetry_verbosity\\\":20,\\\"send_telemetry\\\":true,\\\"enable_dnn\\\":false,\\\"scenario\\\":\\\"SDK-1.13.0\\\",\\\"environment_label\\\":null,\\\"force_text_dnn\\\":false,\\\"enable_feature_sweeping\\\":true,\\\"enable_early_stopping\\\":true,\\\"early_stopping_n_iters\\\":10,\\\"metrics\\\":null,\\\"enable_ensembling\\\":true,\\\"enable_stack_ensembling\\\":true,\\\"ensemble_iterations\\\":15,\\\"enable_tf\\\":false,\\\"enable_subsampling\\\":null,\\\"subsample_seed\\\":null,\\\"enable_nimbusml\\\":false,\\\"enable_streaming\\\":false,\\\"force_streaming\\\":false,\\\"track_child_runs\\\":true,\\\"allowed_private_models\\\":[],\\\"label_column_name\\\":\\\"label\\\",\\\"weight_column_name\\\":null,\\\"cv_split_column_names\\\":null,\\\"enable_local_managed\\\":false,\\\"_local_managed_run_id\\\":null,\\\"cost_mode\\\":1,\\\"lag_length\\\":0,\\\"metric_operation\\\":\\\"maximize\\\",\\\"preprocess\\\":true}\", \"DataPrepJsonString\": \"{\\\\\\\"training_data\\\\\\\": \\\\\\\"{\\\\\\\\\\\\\\\"blocks\\\\\\\\\\\\\\\": [{\\\\\\\\\\\\\\\"id\\\\\\\\\\\\\\\": \\\\\\\\\\\\\\\"916747e9-175f-4a73-a1c5-f5e9e725838c\\\\\\\\\\\\\\\", \\\\\\\\\\\\\\\"type\\\\\\\\\\\\\\\": \\\\\\\\\\\\\\\"Microsoft.DPrep.GetDatastoreFilesBlock\\\\\\\\\\\\\\\", \\\\\\\\\\\\\\\"arguments\\\\\\\\\\\\\\\": {\\\\\\\\\\\\\\\"datastores\\\\\\\\\\\\\\\": [{\\\\\\\\\\\\\\\"datastoreName\\\\\\\\\\\\\\\": \\\\\\\\\\\\\\\"workspaceblobstore\\\\\\\\\\\\\\\", \\\\\\\\\\\\\\\"path\\\\\\\\\\\\\\\": \\\\\\\\\\\\\\\"mental_health_clf/train.csv\\\\\\\\\\\\\\\", \\\\\\\\\\\\\\\"resourceGroup\\\\\\\\\\\\\\\": \\\\\\\\\\\\\\\"aml-quickstarts-133629\\\\\\\\\\\\\\\", \\\\\\\\\\\\\\\"subscription\\\\\\\\\\\\\\\": \\\\\\\\\\\\\\\"a24a24d5-8d87-4c8a-99b6-91ed2d2df51f\\\\\\\\\\\\\\\", \\\\\\\\\\\\\\\"workspaceName\\\\\\\\\\\\\\\": \\\\\\\\\\\\\\\"quick-starts-ws-133629\\\\\\\\\\\\\\\"}]}, \\\\\\\\\\\\\\\"localData\\\\\\\\\\\\\\\": {}, \\\\\\\\\\\\\\\"isEnabled\\\\\\\\\\\\\\\": true, \\\\\\\\\\\\\\\"name\\\\\\\\\\\\\\\": null, \\\\\\\\\\\\\\\"annotation\\\\\\\\\\\\\\\": null}, {\\\\\\\\\\\\\\\"id\\\\\\\\\\\\\\\": \\\\\\\\\\\\\\\"961468f6-769a-4c7c-b4b1-59db5b4c57ff\\\\\\\\\\\\\\\", \\\\\\\\\\\\\\\"type\\\\\\\\\\\\\\\": \\\\\\\\\\\\\\\"Microsoft.DPrep.ParseDelimitedBlock\\\\\\\\\\\\\\\", \\\\\\\\\\\\\\\"arguments\\\\\\\\\\\\\\\": {\\\\\\\\\\\\\\\"columnHeadersMode\\\\\\\\\\\\\\\": 3, \\\\\\\\\\\\\\\"fileEncoding\\\\\\\\\\\\\\\": 0, \\\\\\\\\\\\\\\"handleQuotedLineBreaks\\\\\\\\\\\\\\\": false, \\\\\\\\\\\\\\\"preview\\\\\\\\\\\\\\\": false, \\\\\\\\\\\\\\\"separator\\\\\\\\\\\\\\\": \\\\\\\\\\\\\\\",\\\\\\\\\\\\\\\", \\\\\\\\\\\\\\\"skipRows\\\\\\\\\\\\\\\": 0, \\\\\\\\\\\\\\\"skipRowsMode\\\\\\\\\\\\\\\": 0}, \\\\\\\\\\\\\\\"localData\\\\\\\\\\\\\\\": {}, \\\\\\\\\\\\\\\"isEnabled\\\\\\\\\\\\\\\": true, \\\\\\\\\\\\\\\"name\\\\\\\\\\\\\\\": null, \\\\\\\\\\\\\\\"annotation\\\\\\\\\\\\\\\": null}, {\\\\\\\\\\\\\\\"id\\\\\\\\\\\\\\\": \\\\\\\\\\\\\\\"e0063c4f-09e8-4ad8-bc13-4d2aa0a875b0\\\\\\\\\\\\\\\", \\\\\\\\\\\\\\\"type\\\\\\\\\\\\\\\": \\\\\\\\\\\\\\\"Microsoft.DPrep.DropColumnsBlock\\\\\\\\\\\\\\\", \\\\\\\\\\\\\\\"arguments\\\\\\\\\\\\\\\": {\\\\\\\\\\\\\\\"columns\\\\\\\\\\\\\\\": {\\\\\\\\\\\\\\\"type\\\\\\\\\\\\\\\": 0, \\\\\\\\\\\\\\\"details\\\\\\\\\\\\\\\": {\\\\\\\\\\\\\\\"selectedColumns\\\\\\\\\\\\\\\": [\\\\\\\\\\\\\\\"Path\\\\\\\\\\\\\\\"]}}}, \\\\\\\\\\\\\\\"localData\\\\\\\\\\\\\\\": {}, \\\\\\\\\\\\\\\"isEnabled\\\\\\\\\\\\\\\": true, \\\\\\\\\\\\\\\"name\\\\\\\\\\\\\\\": null, \\\\\\\\\\\\\\\"annotation\\\\\\\\\\\\\\\": null}, {\\\\\\\\\\\\\\\"id\\\\\\\\\\\\\\\": \\\\\\\\\\\\\\\"96b27d56-b1d6-43d5-8fdd-637a42d7b9b3\\\\\\\\\\\\\\\", \\\\\\\\\\\\\\\"type\\\\\\\\\\\\\\\": \\\\\\\\\\\\\\\"Microsoft.DPrep.SetColumnTypesBlock\\\\\\\\\\\\\\\", \\\\\\\\\\\\\\\"arguments\\\\\\\\\\\\\\\": {\\\\\\\\\\\\\\\"columnConversion\\\\\\\\\\\\\\\": [{\\\\\\\\\\\\\\\"column\\\\\\\\\\\\\\\": {\\\\\\\\\\\\\\\"type\\\\\\\\\\\\\\\": 2, \\\\\\\\\\\\\\\"details\\\\\\\\\\\\\\\": {\\\\\\\\\\\\\\\"selectedColumn\\\\\\\\\\\\\\\": \\\\\\\\\\\\\\\"text\\\\\\\\\\\\\\\"}}, \\\\\\\\\\\\\\\"typeProperty\\\\\\\\\\\\\\\": 0}, {\\\\\\\\\\\\\\\"column\\\\\\\\\\\\\\\": {\\\\\\\\\\\\\\\"type\\\\\\\\\\\\\\\": 2, \\\\\\\\\\\\\\\"details\\\\\\\\\\\\\\\": {\\\\\\\\\\\\\\\"selectedColumn\\\\\\\\\\\\\\\": \\\\\\\\\\\\\\\"label\\\\\\\\\\\\\\\"}}, \\\\\\\\\\\\\\\"typeProperty\\\\\\\\\\\\\\\": 0}]}, \\\\\\\\\\\\\\\"localData\\\\\\\\\\\\\\\": {}, \\\\\\\\\\\\\\\"isEnabled\\\\\\\\\\\\\\\": true, \\\\\\\\\\\\\\\"name\\\\\\\\\\\\\\\": null, \\\\\\\\\\\\\\\"annotation\\\\\\\\\\\\\\\": null}], \\\\\\\\\\\\\\\"inspectors\\\\\\\\\\\\\\\": [], \\\\\\\\\\\\\\\"meta\\\\\\\\\\\\\\\": {\\\\\\\\\\\\\\\"savedDatasetId\\\\\\\\\\\\\\\": \\\\\\\\\\\\\\\"1e462989-fa13-44ef-9a47-6401a45fd2f8\\\\\\\\\\\\\\\", \\\\\\\\\\\\\\\"datasetType\\\\\\\\\\\\\\\": \\\\\\\\\\\\\\\"tabular\\\\\\\\\\\\\\\", \\\\\\\\\\\\\\\"subscriptionId\\\\\\\\\\\\\\\": \\\\\\\\\\\\\\\"a24a24d5-8d87-4c8a-99b6-91ed2d2df51f\\\\\\\\\\\\\\\", \\\\\\\\\\\\\\\"workspaceId\\\\\\\\\\\\\\\": \\\\\\\\\\\\\\\"b81ad1a7-8a03-4fd6-ac67-1f01fa82047a\\\\\\\\\\\\\\\", \\\\\\\\\\\\\\\"workspaceLocation\\\\\\\\\\\\\\\": \\\\\\\\\\\\\\\"southcentralus\\\\\\\\\\\\\\\"}}\\\\\\\", \\\\\\\"activities\\\\\\\": 0}\", \"EnableSubsampling\": null, \"runTemplate\": \"AutoML\", \"azureml.runsource\": \"automl\", \"display_task_type\": \"classification\", \"dependencies_versions\": \"{\\\"azureml-widgets\\\": \\\"1.19.0\\\", \\\"azureml-train\\\": \\\"1.19.0\\\", \\\"azureml-train-restclients-hyperdrive\\\": \\\"1.19.0\\\", \\\"azureml-train-core\\\": \\\"1.19.0\\\", \\\"azureml-train-automl\\\": \\\"1.19.0\\\", \\\"azureml-train-automl-runtime\\\": \\\"1.19.0\\\", \\\"azureml-train-automl-client\\\": \\\"1.19.0\\\", \\\"azureml-tensorboard\\\": \\\"1.19.0\\\", \\\"azureml-telemetry\\\": \\\"1.19.0\\\", \\\"azureml-sdk\\\": \\\"1.19.0\\\", \\\"azureml-samples\\\": \\\"0+unknown\\\", \\\"azureml-pipeline\\\": \\\"1.19.0\\\", \\\"azureml-pipeline-steps\\\": \\\"1.19.0\\\", \\\"azureml-pipeline-core\\\": \\\"1.19.0\\\", \\\"azureml-opendatasets\\\": \\\"1.19.0\\\", \\\"azureml-model-management-sdk\\\": \\\"1.0.1b6.post1\\\", \\\"azureml-mlflow\\\": \\\"1.19.0\\\", \\\"azureml-interpret\\\": \\\"1.19.0\\\", \\\"azureml-explain-model\\\": \\\"1.19.0\\\", \\\"azureml-defaults\\\": \\\"1.19.0\\\", \\\"azureml-dataset-runtime\\\": \\\"1.19.0\\\", \\\"azureml-dataprep\\\": \\\"2.6.1\\\", \\\"azureml-dataprep-rslex\\\": \\\"1.4.0\\\", \\\"azureml-dataprep-native\\\": \\\"26.0.0\\\", \\\"azureml-datadrift\\\": \\\"1.19.0\\\", \\\"azureml-core\\\": \\\"1.19.0\\\", \\\"azureml-contrib-services\\\": \\\"1.19.0\\\", \\\"azureml-contrib-server\\\": \\\"1.19.0\\\", \\\"azureml-contrib-reinforcementlearning\\\": \\\"1.19.0\\\", \\\"azureml-contrib-pipeline-steps\\\": \\\"1.19.0\\\", \\\"azureml-contrib-notebook\\\": \\\"1.19.0\\\", \\\"azureml-contrib-interpret\\\": \\\"1.19.0\\\", \\\"azureml-contrib-gbdt\\\": \\\"1.19.0\\\", \\\"azureml-contrib-fairness\\\": \\\"1.19.0\\\", \\\"azureml-contrib-dataset\\\": \\\"1.19.0\\\", \\\"azureml-cli-common\\\": \\\"1.19.0\\\", \\\"azureml-automl-runtime\\\": \\\"1.19.0\\\", \\\"azureml-automl-core\\\": \\\"1.19.0\\\", \\\"azureml-accel-models\\\": \\\"1.19.0\\\"}\", \"_aml_system_scenario_identification\": \"Remote.Parent\", \"ClientType\": \"SDK\", \"environment_cpu_name\": \"AzureML-AutoML\", \"environment_cpu_label\": \"prod\", \"environment_gpu_name\": \"AzureML-AutoML-GPU\", \"environment_gpu_label\": \"prod\", \"root_attribution\": \"automl\", \"attribution\": \"AutoML\", \"Orchestrator\": \"AutoML\", \"CancelUri\": \"https://southcentralus.experiments.azureml.net/jasmine/v1.0/subscriptions/a24a24d5-8d87-4c8a-99b6-91ed2d2df51f/resourceGroups/aml-quickstarts-133629/providers/Microsoft.MachineLearningServices/workspaces/quick-starts-ws-133629/experimentids/e69017c8-cc8a-4113-b6ee-323654ba4e03/cancel/AutoML_2aadb2b0-9913-4585-ac5f-caa597a91ef1\", \"ClientSdkVersion\": \"1.19.0\", \"snapshotId\": \"00000000-0000-0000-0000-000000000000\", \"SetupRunId\": \"AutoML_2aadb2b0-9913-4585-ac5f-caa597a91ef1_setup\", \"SetupRunContainerId\": \"dcid.AutoML_2aadb2b0-9913-4585-ac5f-caa597a91ef1_setup\", \"FeaturizationRunJsonPath\": \"featurizer_container.json\", \"FeaturizationRunId\": \"AutoML_2aadb2b0-9913-4585-ac5f-caa597a91ef1_featurize\", \"ProblemInfoJsonString\": \"{\\\"dataset_num_categorical\\\": 0, \\\"is_sparse\\\": true, \\\"subsampling\\\": false, \\\"dataset_classes\\\": 4, \\\"dataset_features\\\": 5090, \\\"dataset_samples\\\": 554, \\\"single_frequency_class_detected\\\": false}\", \"ModelExplainRunId\": \"AutoML_2aadb2b0-9913-4585-ac5f-caa597a91ef1_ModelExplain\"}, \"tags\": {\"model_explain_run\": \"best_run\", \"_aml_system_azureml.automlComponent\": \"AutoML\", \"pipeline_id\": \"\", \"score\": \"\", \"predicted_cost\": \"\", \"fit_time\": \"\", \"training_percent\": \"\", \"iteration\": \"\", \"run_preprocessor\": \"\", \"run_algorithm\": \"\", \"dynamic_whitelisting_iterations\": \"<25>;<30>;<35>;<38>;<45>;\", \"automl_best_child_run_id\": \"AutoML_2aadb2b0-9913-4585-ac5f-caa597a91ef1_48\", \"model_explain_best_run_child_id\": \"AutoML_2aadb2b0-9913-4585-ac5f-caa597a91ef1_48\"}, \"end_time_utc\": \"2021-01-06T10:39:48.158491Z\", \"status\": \"Completed\", \"log_files\": {}, \"log_groups\": [], \"run_duration\": \"0:24:47\"}, \"child_runs\": [{\"run_id\": \"AutoML_2aadb2b0-9913-4585-ac5f-caa597a91ef1_0\", \"run_number\": 5, \"metric\": null, \"status\": \"Completed\", \"run_type\": \"azureml.scriptrun\", \"training_percent\": \"100\", \"start_time\": \"2021-01-06T10:27:49.507562Z\", \"end_time\": \"2021-01-06T10:31:17.36227Z\", \"created_time\": \"2021-01-06T10:24:37.606774Z\", \"created_time_dt\": \"2021-01-06T10:24:37.606774Z\", \"duration\": \"0:06:39\", \"iteration\": \"0\", \"goal\": \"accuracy_max\", \"run_name\": \"MaxAbsScaler, LightGBM\", \"run_properties\": \"copy=True\", \"primary_metric\": 0.79780508, \"best_metric\": 0.79780508}, {\"run_id\": \"AutoML_2aadb2b0-9913-4585-ac5f-caa597a91ef1_1\", \"run_number\": 6, \"metric\": null, \"status\": \"Completed\", \"run_type\": \"azureml.scriptrun\", \"training_percent\": \"100\", \"start_time\": \"2021-01-06T10:27:50.99108Z\", \"end_time\": \"2021-01-06T10:31:44.493818Z\", \"created_time\": \"2021-01-06T10:24:37.757911Z\", \"created_time_dt\": \"2021-01-06T10:24:37.757911Z\", \"duration\": \"0:07:06\", \"iteration\": \"1\", \"goal\": \"accuracy_max\", \"run_name\": \"MaxAbsScaler, XGBoostClassifier\", \"run_properties\": \"copy=True\", \"primary_metric\": 0.85192465, \"best_metric\": 0.85192465}, {\"run_id\": \"AutoML_2aadb2b0-9913-4585-ac5f-caa597a91ef1_2\", \"run_number\": 7, \"metric\": null, \"status\": \"Completed\", \"run_type\": \"azureml.scriptrun\", \"training_percent\": \"100\", \"start_time\": \"2021-01-06T10:27:50.922429Z\", \"end_time\": \"2021-01-06T10:31:21.177354Z\", \"created_time\": \"2021-01-06T10:24:37.794224Z\", \"created_time_dt\": \"2021-01-06T10:24:37.794224Z\", \"duration\": \"0:06:43\", \"iteration\": \"2\", \"goal\": \"accuracy_max\", \"run_name\": \"MaxAbsScaler, RandomForest\", \"run_properties\": \"copy=True\", \"primary_metric\": 0.82850123, \"best_metric\": 0.85192465}, {\"run_id\": \"AutoML_2aadb2b0-9913-4585-ac5f-caa597a91ef1_6\", \"run_number\": 8, \"metric\": null, \"status\": \"Completed\", \"run_type\": \"azureml.scriptrun\", \"training_percent\": \"100\", \"start_time\": \"2021-01-06T10:24:48.495857Z\", \"end_time\": \"2021-01-06T10:25:42.550121Z\", \"created_time\": \"2021-01-06T10:24:37.8197Z\", \"created_time_dt\": \"2021-01-06T10:24:37.8197Z\", \"duration\": \"0:01:04\", \"iteration\": \"6\", \"goal\": \"accuracy_max\", \"run_name\": \"MaxAbsScaler, LightGBM\", \"run_properties\": \"copy=True\", \"primary_metric\": 0.74720721, \"best_metric\": 0.85192465}, {\"run_id\": \"AutoML_2aadb2b0-9913-4585-ac5f-caa597a91ef1_4\", \"run_number\": 9, \"metric\": null, \"status\": \"Completed\", \"run_type\": \"azureml.scriptrun\", \"training_percent\": \"100\", \"start_time\": \"2021-01-06T10:26:40.42904Z\", \"end_time\": \"2021-01-06T10:28:11.345621Z\", \"created_time\": \"2021-01-06T10:24:37.822828Z\", \"created_time_dt\": \"2021-01-06T10:24:37.822828Z\", \"duration\": \"0:03:33\", \"iteration\": \"4\", \"goal\": \"accuracy_max\", \"run_name\": \"MaxAbsScaler, RandomForest\", \"run_properties\": \"copy=True\", \"primary_metric\": 0.69292383, \"best_metric\": 0.85192465}, {\"run_id\": \"AutoML_2aadb2b0-9913-4585-ac5f-caa597a91ef1_7\", \"run_number\": 10, \"metric\": null, \"status\": \"Completed\", \"run_type\": \"azureml.scriptrun\", \"training_percent\": \"100\", \"start_time\": \"2021-01-06T10:25:49.079508Z\", \"end_time\": \"2021-01-06T10:26:37.897361Z\", \"created_time\": \"2021-01-06T10:24:37.987697Z\", \"created_time_dt\": \"2021-01-06T10:24:37.987697Z\", \"duration\": \"0:01:59\", \"iteration\": \"7\", \"goal\": \"accuracy_max\", \"run_name\": \"MaxAbsScaler, LightGBM\", \"run_properties\": \"copy=True\", \"primary_metric\": 0.7400819, \"best_metric\": 0.85192465}, {\"run_id\": \"AutoML_2aadb2b0-9913-4585-ac5f-caa597a91ef1_5\", \"run_number\": 11, \"metric\": null, \"status\": \"Completed\", \"run_type\": \"azureml.scriptrun\", \"training_percent\": \"100\", \"start_time\": \"2021-01-06T10:27:52.955986Z\", \"end_time\": \"2021-01-06T10:31:19.062225Z\", \"created_time\": \"2021-01-06T10:24:37.772853Z\", \"created_time_dt\": \"2021-01-06T10:24:37.772853Z\", \"duration\": \"0:06:41\", \"iteration\": \"5\", \"goal\": \"accuracy_max\", \"run_name\": \"MaxAbsScaler, RandomForest\", \"run_properties\": \"copy=True\", \"primary_metric\": 0.75451269, \"best_metric\": 0.85192465}, {\"run_id\": \"AutoML_2aadb2b0-9913-4585-ac5f-caa597a91ef1_3\", \"run_number\": 12, \"metric\": null, \"status\": \"Completed\", \"run_type\": \"azureml.scriptrun\", \"training_percent\": \"100\", \"start_time\": \"2021-01-06T10:27:54.865444Z\", \"end_time\": \"2021-01-06T10:31:25.919559Z\", \"created_time\": \"2021-01-06T10:24:37.795084Z\", \"created_time_dt\": \"2021-01-06T10:24:37.795084Z\", \"duration\": \"0:06:48\", \"iteration\": \"3\", \"goal\": \"accuracy_max\", \"run_name\": \"MaxAbsScaler, RandomForest\", \"run_properties\": \"copy=True\", \"primary_metric\": 0.68963145, \"best_metric\": 0.85192465}, {\"run_id\": \"AutoML_2aadb2b0-9913-4585-ac5f-caa597a91ef1_8\", \"run_number\": 13, \"metric\": null, \"status\": \"Completed\", \"run_type\": \"azureml.scriptrun\", \"training_percent\": \"100\", \"start_time\": \"2021-01-06T10:27:51.871181Z\", \"end_time\": \"2021-01-06T10:32:21.138142Z\", \"created_time\": \"2021-01-06T10:24:37.79957Z\", \"created_time_dt\": \"2021-01-06T10:24:37.79957Z\", \"duration\": \"0:07:43\", \"iteration\": \"8\", \"goal\": \"accuracy_max\", \"run_name\": \"SparseNormalizer, XGBoostClassifier\", \"run_properties\": \"<azureml.automl.runtime.shared.model_wrappers.SparseNormalizer object at 0x7fd2864c8b70\", \"primary_metric\": 0.84111384, \"best_metric\": 0.85192465}, {\"run_id\": \"AutoML_2aadb2b0-9913-4585-ac5f-caa597a91ef1_9\", \"run_number\": 14, \"metric\": null, \"status\": \"Completed\", \"run_type\": \"azureml.scriptrun\", \"training_percent\": \"100\", \"start_time\": \"2021-01-06T10:28:16.525997Z\", \"end_time\": \"2021-01-06T10:29:15.582115Z\", \"created_time\": \"2021-01-06T10:24:37.866708Z\", \"created_time_dt\": \"2021-01-06T10:24:37.866708Z\", \"duration\": \"0:04:37\", \"iteration\": \"9\", \"goal\": \"accuracy_max\", \"run_name\": \"StandardScalerWrapper, LogisticRegression\", \"run_properties\": \"<azureml.automl.runtime.shared.model_wrappers.StandardScalerWrapper object at 0x7f20b06e9630\", \"primary_metric\": 0.8393448, \"best_metric\": 0.85192465}, {\"run_id\": \"AutoML_2aadb2b0-9913-4585-ac5f-caa597a91ef1_10\", \"run_number\": 15, \"metric\": null, \"status\": \"Completed\", \"run_type\": \"azureml.scriptrun\", \"training_percent\": \"100\", \"start_time\": \"2021-01-06T10:29:19.441276Z\", \"end_time\": \"2021-01-06T10:30:35.417749Z\", \"created_time\": \"2021-01-06T10:25:48.082137Z\", \"created_time_dt\": \"2021-01-06T10:25:48.082137Z\", \"duration\": \"0:04:47\", \"iteration\": \"10\", \"goal\": \"accuracy_max\", \"run_name\": \"SparseNormalizer, XGBoostClassifier\", \"run_properties\": \"<azureml.automl.runtime.shared.model_wrappers.SparseNormalizer object at 0x7fdb7c861358\", \"primary_metric\": 0.83751024, \"best_metric\": 0.85192465}, {\"run_id\": \"AutoML_2aadb2b0-9913-4585-ac5f-caa597a91ef1_11\", \"run_number\": 16, \"metric\": null, \"status\": \"Completed\", \"run_type\": \"azureml.scriptrun\", \"training_percent\": \"100\", \"start_time\": \"2021-01-06T10:30:36.286139Z\", \"end_time\": \"2021-01-06T10:32:11.561332Z\", \"created_time\": \"2021-01-06T10:26:41.644381Z\", \"created_time_dt\": \"2021-01-06T10:26:41.644381Z\", \"duration\": \"0:05:29\", \"iteration\": \"11\", \"goal\": \"accuracy_max\", \"run_name\": \"SparseNormalizer, XGBoostClassifier\", \"run_properties\": \"<azureml.automl.runtime.shared.model_wrappers.SparseNormalizer object at 0x7fd73a6ebd30\", \"primary_metric\": 0.84650287, \"best_metric\": 0.85192465}, {\"run_id\": \"AutoML_2aadb2b0-9913-4585-ac5f-caa597a91ef1_12\", \"run_number\": 17, \"metric\": null, \"status\": \"Completed\", \"run_type\": \"azureml.scriptrun\", \"training_percent\": \"100\", \"start_time\": \"2021-01-06T10:31:16.304463Z\", \"end_time\": \"2021-01-06T10:32:37.586524Z\", \"created_time\": \"2021-01-06T10:28:13.924707Z\", \"created_time_dt\": \"2021-01-06T10:28:13.924707Z\", \"duration\": \"0:04:23\", \"iteration\": \"12\", \"goal\": \"accuracy_max\", \"run_name\": \"SparseNormalizer, XGBoostClassifier\", \"run_properties\": \"<azureml.automl.runtime.shared.model_wrappers.SparseNormalizer object at 0x7f2f9267fc50\", \"primary_metric\": 0.8573792, \"best_metric\": 0.8573792}, {\"run_id\": \"AutoML_2aadb2b0-9913-4585-ac5f-caa597a91ef1_13\", \"run_number\": 18, \"metric\": null, \"status\": \"Completed\", \"run_type\": \"azureml.scriptrun\", \"training_percent\": \"100\", \"start_time\": \"2021-01-06T10:31:21.60413Z\", \"end_time\": \"2021-01-06T10:32:33.090258Z\", \"created_time\": \"2021-01-06T10:29:18.904672Z\", \"created_time_dt\": \"2021-01-06T10:29:18.904672Z\", \"duration\": \"0:03:14\", \"iteration\": \"13\", \"goal\": \"accuracy_max\", \"run_name\": \"SparseNormalizer, XGBoostClassifier\", \"run_properties\": \"<azureml.automl.runtime.shared.model_wrappers.SparseNormalizer object at 0x7f7d02481710\", \"primary_metric\": 0.84837019, \"best_metric\": 0.8573792}, {\"run_id\": \"AutoML_2aadb2b0-9913-4585-ac5f-caa597a91ef1_14\", \"run_number\": 19, \"metric\": null, \"status\": \"Completed\", \"run_type\": \"azureml.scriptrun\", \"training_percent\": \"100\", \"start_time\": \"2021-01-06T10:31:19.580476Z\", \"end_time\": \"2021-01-06T10:32:18.860481Z\", \"created_time\": \"2021-01-06T10:30:40.367931Z\", \"created_time_dt\": \"2021-01-06T10:30:40.367931Z\", \"duration\": \"0:01:38\", \"iteration\": \"14\", \"goal\": \"accuracy_max\", \"run_name\": \"MaxAbsScaler, LightGBM\", \"run_properties\": \"copy=True\", \"primary_metric\": 0.75452907, \"best_metric\": 0.8573792}, {\"run_id\": \"AutoML_2aadb2b0-9913-4585-ac5f-caa597a91ef1_15\", \"run_number\": 20, \"metric\": null, \"status\": \"Completed\", \"run_type\": \"azureml.scriptrun\", \"training_percent\": \"100\", \"start_time\": \"2021-01-06T10:31:31.367236Z\", \"end_time\": \"2021-01-06T10:32:27.300719Z\", \"created_time\": \"2021-01-06T10:31:19.791784Z\", \"created_time_dt\": \"2021-01-06T10:31:19.791784Z\", \"duration\": \"0:01:07\", \"iteration\": \"15\", \"goal\": \"accuracy_max\", \"run_name\": \"SparseNormalizer, LightGBM\", \"run_properties\": \"<azureml.automl.runtime.shared.model_wrappers.SparseNormalizer object at 0x7fb63daed4e0\", \"primary_metric\": 0.73646192, \"best_metric\": 0.8573792}, {\"run_id\": \"AutoML_2aadb2b0-9913-4585-ac5f-caa597a91ef1_16\", \"run_number\": 21, \"metric\": null, \"status\": \"Completed\", \"run_type\": \"azureml.scriptrun\", \"training_percent\": \"100\", \"start_time\": \"2021-01-06T10:32:11.850761Z\", \"end_time\": \"2021-01-06T10:33:19.677932Z\", \"created_time\": \"2021-01-06T10:31:23.746565Z\", \"created_time_dt\": \"2021-01-06T10:31:23.746565Z\", \"duration\": \"0:01:55\", \"iteration\": \"16\", \"goal\": \"accuracy_max\", \"run_name\": \"SparseNormalizer, XGBoostClassifier\", \"run_properties\": \"<azureml.automl.runtime.shared.model_wrappers.SparseNormalizer object at 0x7f0de00aff28\", \"primary_metric\": 0.83030303, \"best_metric\": 0.8573792}, {\"run_id\": \"AutoML_2aadb2b0-9913-4585-ac5f-caa597a91ef1_17\", \"run_number\": 22, \"metric\": null, \"status\": \"Completed\", \"run_type\": \"azureml.scriptrun\", \"training_percent\": \"100\", \"start_time\": \"2021-01-06T10:31:48.332251Z\", \"end_time\": \"2021-01-06T10:32:59.42627Z\", \"created_time\": \"2021-01-06T10:31:24.288606Z\", \"created_time_dt\": \"2021-01-06T10:31:24.288606Z\", \"duration\": \"0:01:35\", \"iteration\": \"17\", \"goal\": \"accuracy_max\", \"run_name\": \"SparseNormalizer, XGBoostClassifier\", \"run_properties\": \"<azureml.automl.runtime.shared.model_wrappers.SparseNormalizer object at 0x7f0851368f98\", \"primary_metric\": 0.83569206, \"best_metric\": 0.8573792}, {\"run_id\": \"AutoML_2aadb2b0-9913-4585-ac5f-caa597a91ef1_18\", \"run_number\": 23, \"metric\": null, \"status\": \"Completed\", \"run_type\": \"azureml.scriptrun\", \"training_percent\": \"100\", \"start_time\": \"2021-01-06T10:32:19.961496Z\", \"end_time\": \"2021-01-06T10:33:20.756047Z\", \"created_time\": \"2021-01-06T10:31:29.65207Z\", \"created_time_dt\": \"2021-01-06T10:31:29.65207Z\", \"duration\": \"0:01:51\", \"iteration\": \"18\", \"goal\": \"accuracy_max\", \"run_name\": \"StandardScalerWrapper, ExtremeRandomTrees\", \"run_properties\": \"<azureml.automl.runtime.shared.model_wrappers.StandardScalerWrapper object at 0x7f6ca922a470\", \"primary_metric\": 0.85017199, \"best_metric\": 0.8573792}, {\"run_id\": \"AutoML_2aadb2b0-9913-4585-ac5f-caa597a91ef1_19\", \"run_number\": 24, \"metric\": null, \"status\": \"Completed\", \"run_type\": \"azureml.scriptrun\", \"training_percent\": \"100\", \"start_time\": \"2021-01-06T10:32:24.906214Z\", \"end_time\": \"2021-01-06T10:33:45.81091Z\", \"created_time\": \"2021-01-06T10:31:47.910886Z\", \"created_time_dt\": \"2021-01-06T10:31:47.910886Z\", \"duration\": \"0:01:57\", \"iteration\": \"19\", \"goal\": \"accuracy_max\", \"run_name\": \"SparseNormalizer, XGBoostClassifier\", \"run_properties\": \"<azureml.automl.runtime.shared.model_wrappers.SparseNormalizer object at 0x7f2a2522d358\", \"primary_metric\": 0.84473382, \"best_metric\": 0.8573792}, {\"run_id\": \"AutoML_2aadb2b0-9913-4585-ac5f-caa597a91ef1_20\", \"run_number\": 25, \"metric\": null, \"status\": \"Completed\", \"run_type\": \"azureml.scriptrun\", \"training_percent\": \"100\", \"start_time\": \"2021-01-06T10:32:31.778216Z\", \"end_time\": \"2021-01-06T10:33:38.421655Z\", \"created_time\": \"2021-01-06T10:32:14.912024Z\", \"created_time_dt\": \"2021-01-06T10:32:14.912024Z\", \"duration\": \"0:01:23\", \"iteration\": \"20\", \"goal\": \"accuracy_max\", \"run_name\": \"SparseNormalizer, XGBoostClassifier\", \"run_properties\": \"<azureml.automl.runtime.shared.model_wrappers.SparseNormalizer object at 0x7f877a909748\", \"primary_metric\": 0.85377559, \"best_metric\": 0.8573792}, {\"run_id\": \"AutoML_2aadb2b0-9913-4585-ac5f-caa597a91ef1_21\", \"run_number\": 26, \"metric\": null, \"status\": \"Completed\", \"run_type\": \"azureml.scriptrun\", \"training_percent\": \"100\", \"start_time\": \"2021-01-06T10:32:36.704981Z\", \"end_time\": \"2021-01-06T10:34:46.45523Z\", \"created_time\": \"2021-01-06T10:32:22.002584Z\", \"created_time_dt\": \"2021-01-06T10:32:22.002584Z\", \"duration\": \"0:02:24\", \"iteration\": \"21\", \"goal\": \"accuracy_max\", \"run_name\": \"SparseNormalizer, XGBoostClassifier\", \"run_properties\": \"<azureml.automl.runtime.shared.model_wrappers.SparseNormalizer object at 0x7f09642eb748\", \"primary_metric\": 0.84293202, \"best_metric\": 0.8573792}, {\"run_id\": \"AutoML_2aadb2b0-9913-4585-ac5f-caa597a91ef1_23\", \"run_number\": 27, \"metric\": null, \"status\": \"Completed\", \"run_type\": \"azureml.scriptrun\", \"training_percent\": \"100\", \"start_time\": \"2021-01-06T10:32:40.983833Z\", \"end_time\": \"2021-01-06T10:33:58.113329Z\", \"created_time\": \"2021-01-06T10:32:30.103489Z\", \"created_time_dt\": \"2021-01-06T10:32:30.103489Z\", \"duration\": \"0:01:28\", \"iteration\": \"23\", \"goal\": \"accuracy_max\", \"run_name\": \"SparseNormalizer, XGBoostClassifier\", \"run_properties\": \"<azureml.automl.runtime.shared.model_wrappers.SparseNormalizer object at 0x7f877fee5550\", \"primary_metric\": 0.85017199, \"best_metric\": 0.8573792}, {\"run_id\": \"AutoML_2aadb2b0-9913-4585-ac5f-caa597a91ef1_22\", \"run_number\": 28, \"metric\": null, \"status\": \"Completed\", \"run_type\": \"azureml.scriptrun\", \"training_percent\": \"100\", \"start_time\": \"2021-01-06T10:33:01.78441Z\", \"end_time\": \"2021-01-06T10:34:03.538388Z\", \"created_time\": \"2021-01-06T10:32:30.295982Z\", \"created_time_dt\": \"2021-01-06T10:32:30.295982Z\", \"duration\": \"0:01:33\", \"iteration\": \"22\", \"goal\": \"accuracy_max\", \"run_name\": \"SparseNormalizer, XGBoostClassifier\", \"run_properties\": \"<azureml.automl.runtime.shared.model_wrappers.SparseNormalizer object at 0x7f756123be80\", \"primary_metric\": 0.84296478, \"best_metric\": 0.8573792}, {\"run_id\": \"AutoML_2aadb2b0-9913-4585-ac5f-caa597a91ef1_24\", \"run_number\": 29, \"metric\": null, \"status\": \"Completed\", \"run_type\": \"azureml.scriptrun\", \"training_percent\": \"100\", \"start_time\": \"2021-01-06T10:33:23.997206Z\", \"end_time\": \"2021-01-06T10:35:35.758087Z\", \"created_time\": \"2021-01-06T10:32:35.714245Z\", \"created_time_dt\": \"2021-01-06T10:32:35.714245Z\", \"duration\": \"0:03:00\", \"iteration\": \"24\", \"goal\": \"accuracy_max\", \"run_name\": \"SparseNormalizer, XGBoostClassifier\", \"run_properties\": \"<azureml.automl.runtime.shared.model_wrappers.SparseNormalizer object at 0x7fbe9c15f7f0\", \"primary_metric\": 0.84830467, \"best_metric\": 0.8573792}, {\"run_id\": \"AutoML_2aadb2b0-9913-4585-ac5f-caa597a91ef1_25\", \"run_number\": 30, \"metric\": null, \"status\": \"Completed\", \"run_type\": \"azureml.scriptrun\", \"training_percent\": \"100\", \"start_time\": \"2021-01-06T10:33:25.253478Z\", \"end_time\": \"2021-01-06T10:34:27.544458Z\", \"created_time\": \"2021-01-06T10:32:42.026894Z\", \"created_time_dt\": \"2021-01-06T10:32:42.026894Z\", \"duration\": \"0:01:45\", \"iteration\": \"25\", \"goal\": \"accuracy_max\", \"run_name\": \"SparseNormalizer, XGBoostClassifier\", \"run_properties\": \"<azureml.automl.runtime.shared.model_wrappers.SparseNormalizer object at 0x7f1bedda6d68\", \"primary_metric\": 0.57944308, \"best_metric\": 0.8573792}, {\"run_id\": \"AutoML_2aadb2b0-9913-4585-ac5f-caa597a91ef1_26\", \"run_number\": 31, \"metric\": null, \"status\": \"Completed\", \"run_type\": \"azureml.scriptrun\", \"training_percent\": \"100\", \"start_time\": \"2021-01-06T10:33:41.531785Z\", \"end_time\": \"2021-01-06T10:34:49.79194Z\", \"created_time\": \"2021-01-06T10:33:02.6188Z\", \"created_time_dt\": \"2021-01-06T10:33:02.6188Z\", \"duration\": \"0:01:47\", \"iteration\": \"26\", \"goal\": \"accuracy_max\", \"run_name\": \"SparseNormalizer, XGBoostClassifier\", \"run_properties\": \"<azureml.automl.runtime.shared.model_wrappers.SparseNormalizer object at 0x7fefe0fa9f98\", \"primary_metric\": 0.80325962, \"best_metric\": 0.8573792}, {\"run_id\": \"AutoML_2aadb2b0-9913-4585-ac5f-caa597a91ef1_28\", \"run_number\": 32, \"metric\": null, \"status\": \"Completed\", \"run_type\": \"azureml.scriptrun\", \"training_percent\": \"100\", \"start_time\": \"2021-01-06T10:33:47.488035Z\", \"end_time\": \"2021-01-06T10:34:49.090817Z\", \"created_time\": \"2021-01-06T10:33:23.312017Z\", \"created_time_dt\": \"2021-01-06T10:33:23.312017Z\", \"duration\": \"0:01:25\", \"iteration\": \"28\", \"goal\": \"accuracy_max\", \"run_name\": \"SparseNormalizer, XGBoostClassifier\", \"run_properties\": \"<azureml.automl.runtime.shared.model_wrappers.SparseNormalizer object at 0x7f5b5b0a6cf8\", \"primary_metric\": 0.82669943, \"best_metric\": 0.8573792}, {\"run_id\": \"AutoML_2aadb2b0-9913-4585-ac5f-caa597a91ef1_27\", \"run_number\": 33, \"metric\": null, \"status\": \"Completed\", \"run_type\": \"azureml.scriptrun\", \"training_percent\": \"100\", \"start_time\": \"2021-01-06T10:34:00.321468Z\", \"end_time\": \"2021-01-06T10:35:25.844929Z\", \"created_time\": \"2021-01-06T10:33:23.504956Z\", \"created_time_dt\": \"2021-01-06T10:33:23.504956Z\", \"duration\": \"0:02:02\", \"iteration\": \"27\", \"goal\": \"accuracy_max\", \"run_name\": \"SparseNormalizer, XGBoostClassifier\", \"run_properties\": \"<azureml.automl.runtime.shared.model_wrappers.SparseNormalizer object at 0x7f12b2a28668\", \"primary_metric\": 0.84293202, \"best_metric\": 0.8573792}, {\"run_id\": \"AutoML_2aadb2b0-9913-4585-ac5f-caa597a91ef1_29\", \"run_number\": 34, \"metric\": null, \"status\": \"Completed\", \"run_type\": \"azureml.scriptrun\", \"training_percent\": \"100\", \"start_time\": \"2021-01-06T10:34:05.548716Z\", \"end_time\": \"2021-01-06T10:35:11.087465Z\", \"created_time\": \"2021-01-06T10:33:41.597087Z\", \"created_time_dt\": \"2021-01-06T10:33:41.597087Z\", \"duration\": \"0:01:29\", \"iteration\": \"29\", \"goal\": \"accuracy_max\", \"run_name\": \"MaxAbsScaler, LightGBM\", \"run_properties\": \"copy=True\", \"primary_metric\": 0.73107289, \"best_metric\": 0.8573792}, {\"run_id\": \"AutoML_2aadb2b0-9913-4585-ac5f-caa597a91ef1_30\", \"run_number\": 35, \"metric\": null, \"status\": \"Completed\", \"run_type\": \"azureml.scriptrun\", \"training_percent\": \"100\", \"start_time\": \"2021-01-06T10:34:28.993825Z\", \"end_time\": \"2021-01-06T10:35:42.034564Z\", \"created_time\": \"2021-01-06T10:33:48.692793Z\", \"created_time_dt\": \"2021-01-06T10:33:48.692793Z\", \"duration\": \"0:01:53\", \"iteration\": \"30\", \"goal\": \"accuracy_max\", \"run_name\": \"SparseNormalizer, XGBoostClassifier\", \"run_properties\": \"<azureml.automl.runtime.shared.model_wrappers.SparseNormalizer object at 0x7ff1dc34ef98\", \"primary_metric\": 0.57944308, \"best_metric\": 0.8573792}, {\"run_id\": \"AutoML_2aadb2b0-9913-4585-ac5f-caa597a91ef1_31\", \"run_number\": 36, \"metric\": null, \"status\": \"Completed\", \"run_type\": \"azureml.scriptrun\", \"training_percent\": \"100\", \"start_time\": \"2021-01-06T10:34:49.91574Z\", \"end_time\": \"2021-01-06T10:35:59.079605Z\", \"created_time\": \"2021-01-06T10:33:59.857538Z\", \"created_time_dt\": \"2021-01-06T10:33:59.857538Z\", \"duration\": \"0:01:59\", \"iteration\": \"31\", \"goal\": \"accuracy_max\", \"run_name\": \"StandardScalerWrapper, ExtremeRandomTrees\", \"run_properties\": \"<azureml.automl.runtime.shared.model_wrappers.StandardScalerWrapper object at 0x7f40ae4d10f0\", \"primary_metric\": 0.83931204, \"best_metric\": 0.8573792}, {\"run_id\": \"AutoML_2aadb2b0-9913-4585-ac5f-caa597a91ef1_32\", \"run_number\": 37, \"metric\": null, \"status\": \"Completed\", \"run_type\": \"azureml.scriptrun\", \"training_percent\": \"100\", \"start_time\": \"2021-01-06T10:34:53.369717Z\", \"end_time\": \"2021-01-06T10:36:09.689623Z\", \"created_time\": \"2021-01-06T10:34:05.334772Z\", \"created_time_dt\": \"2021-01-06T10:34:05.334772Z\", \"duration\": \"0:02:04\", \"iteration\": \"32\", \"goal\": \"accuracy_max\", \"run_name\": \"SparseNormalizer, XGBoostClassifier\", \"run_properties\": \"<azureml.automl.runtime.shared.model_wrappers.SparseNormalizer object at 0x7fcf9c0a3be0\", \"primary_metric\": 0.81769042, \"best_metric\": 0.8573792}, {\"run_id\": \"AutoML_2aadb2b0-9913-4585-ac5f-caa597a91ef1_33\", \"run_number\": 38, \"metric\": null, \"status\": \"Completed\", \"run_type\": \"azureml.scriptrun\", \"training_percent\": \"100\", \"start_time\": \"2021-01-06T10:34:51.089192Z\", \"end_time\": \"2021-01-06T10:36:12.803174Z\", \"created_time\": \"2021-01-06T10:34:29.597539Z\", \"created_time_dt\": \"2021-01-06T10:34:29.597539Z\", \"duration\": \"0:01:43\", \"iteration\": \"33\", \"goal\": \"accuracy_max\", \"run_name\": \"SparseNormalizer, XGBoostClassifier\", \"run_properties\": \"<azureml.automl.runtime.shared.model_wrappers.SparseNormalizer object at 0x7f508018be48\", \"primary_metric\": 0.83747748, \"best_metric\": 0.8573792}, {\"run_id\": \"AutoML_2aadb2b0-9913-4585-ac5f-caa597a91ef1_34\", \"run_number\": 39, \"metric\": null, \"status\": \"Completed\", \"run_type\": \"azureml.scriptrun\", \"training_percent\": \"100\", \"start_time\": \"2021-01-06T10:35:13.425475Z\", \"end_time\": \"2021-01-06T10:36:56.284889Z\", \"created_time\": \"2021-01-06T10:34:48.23398Z\", \"created_time_dt\": \"2021-01-06T10:34:48.23398Z\", \"duration\": \"0:02:08\", \"iteration\": \"34\", \"goal\": \"accuracy_max\", \"run_name\": \"SparseNormalizer, XGBoostClassifier\", \"run_properties\": \"<azureml.automl.runtime.shared.model_wrappers.SparseNormalizer object at 0x7f11a01d0fd0\", \"primary_metric\": 0.84653563, \"best_metric\": 0.8573792}, {\"run_id\": \"AutoML_2aadb2b0-9913-4585-ac5f-caa597a91ef1_35\", \"run_number\": 40, \"metric\": null, \"status\": \"Canceled\", \"run_type\": \"azureml.scriptrun\", \"training_percent\": \"100\", \"start_time\": \"2021-01-06T10:35:37.511084Z\", \"end_time\": \"2021-01-06T10:37:42.117786Z\", \"created_time\": \"2021-01-06T10:34:53.372165Z\", \"created_time_dt\": \"2021-01-06T10:34:53.372165Z\", \"duration\": \"0:02:48\", \"iteration\": \"35\", \"goal\": null, \"run_name\": \"SparseNormalizer, XGBoostClassifier\", \"run_properties\": null}, {\"run_id\": \"AutoML_2aadb2b0-9913-4585-ac5f-caa597a91ef1_36\", \"run_number\": 41, \"metric\": null, \"status\": \"Completed\", \"run_type\": \"azureml.scriptrun\", \"training_percent\": \"100\", \"start_time\": \"2021-01-06T10:35:30.48048Z\", \"end_time\": \"2021-01-06T10:36:21.775599Z\", \"created_time\": \"2021-01-06T10:34:53.444135Z\", \"created_time_dt\": \"2021-01-06T10:34:53.444135Z\", \"duration\": \"0:01:28\", \"iteration\": \"36\", \"goal\": \"accuracy_max\", \"run_name\": \"SparseNormalizer, LightGBM\", \"run_properties\": \"<azureml.automl.runtime.shared.model_wrappers.SparseNormalizer object at 0x7ff1febdf358\", \"primary_metric\": 0.73466011, \"best_metric\": 0.8573792}, {\"run_id\": \"AutoML_2aadb2b0-9913-4585-ac5f-caa597a91ef1_37\", \"run_number\": 42, \"metric\": null, \"status\": \"Completed\", \"run_type\": \"azureml.scriptrun\", \"training_percent\": \"100\", \"start_time\": \"2021-01-06T10:36:13.478034Z\", \"end_time\": \"2021-01-06T10:37:23.352002Z\", \"created_time\": \"2021-01-06T10:35:12.925754Z\", \"created_time_dt\": \"2021-01-06T10:35:12.925754Z\", \"duration\": \"0:02:10\", \"iteration\": \"37\", \"goal\": \"accuracy_max\", \"run_name\": \"SparseNormalizer, XGBoostClassifier\", \"run_properties\": \"<azureml.automl.runtime.shared.model_wrappers.SparseNormalizer object at 0x7f3b605f6b38\", \"primary_metric\": 0.84111384, \"best_metric\": 0.8573792}, {\"run_id\": \"AutoML_2aadb2b0-9913-4585-ac5f-caa597a91ef1_38\", \"run_number\": 43, \"metric\": null, \"status\": \"Completed\", \"run_type\": \"azureml.scriptrun\", \"training_percent\": \"100\", \"start_time\": \"2021-01-06T10:36:16.50606Z\", \"end_time\": \"2021-01-06T10:37:06.87809Z\", \"created_time\": \"2021-01-06T10:36:06.136572Z\", \"created_time_dt\": \"2021-01-06T10:36:06.136572Z\", \"duration\": \"0:01:00\", \"iteration\": \"38\", \"goal\": \"accuracy_max\", \"run_name\": \"StandardScalerWrapper, XGBoostClassifier\", \"run_properties\": \"<azureml.automl.runtime.shared.model_wrappers.StandardScalerWrapper object at 0x7f75c1c27e80\", \"primary_metric\": 0.82668305, \"best_metric\": 0.8573792}, {\"run_id\": \"AutoML_2aadb2b0-9913-4585-ac5f-caa597a91ef1_39\", \"run_number\": 44, \"metric\": null, \"status\": \"Canceled\", \"run_type\": \"azureml.scriptrun\", \"training_percent\": \"100\", \"start_time\": \"2021-01-06T10:36:18.79489Z\", \"end_time\": \"2021-01-06T10:37:40.336493Z\", \"created_time\": \"2021-01-06T10:36:06.139938Z\", \"created_time_dt\": \"2021-01-06T10:36:06.139938Z\", \"duration\": \"0:01:34\", \"iteration\": \"39\", \"goal\": null, \"run_name\": \"StandardScalerWrapper, XGBoostClassifier\", \"run_properties\": null}, {\"run_id\": \"AutoML_2aadb2b0-9913-4585-ac5f-caa597a91ef1_41\", \"run_number\": 45, \"metric\": null, \"status\": \"Completed\", \"run_type\": \"azureml.scriptrun\", \"training_percent\": \"100\", \"start_time\": \"2021-01-06T10:36:26.155781Z\", \"end_time\": \"2021-01-06T10:37:29.784331Z\", \"created_time\": \"2021-01-06T10:36:06.486784Z\", \"created_time_dt\": \"2021-01-06T10:36:06.486784Z\", \"duration\": \"0:01:23\", \"iteration\": \"41\", \"goal\": \"accuracy_max\", \"run_name\": \"SparseNormalizer, XGBoostClassifier\", \"run_properties\": \"<azureml.automl.runtime.shared.model_wrappers.SparseNormalizer object at 0x7feebc768c88\", \"primary_metric\": 0.84113022, \"best_metric\": 0.8573792}, {\"run_id\": \"AutoML_2aadb2b0-9913-4585-ac5f-caa597a91ef1_40\", \"run_number\": 46, \"metric\": null, \"status\": \"Canceled\", \"run_type\": \"azureml.scriptrun\", \"training_percent\": \"100\", \"start_time\": \"2021-01-06T10:36:18.097256Z\", \"end_time\": \"2021-01-06T10:37:39.234589Z\", \"created_time\": \"2021-01-06T10:36:06.491774Z\", \"created_time_dt\": \"2021-01-06T10:36:06.491774Z\", \"duration\": \"0:01:32\", \"iteration\": \"40\", \"goal\": null, \"run_name\": \"StandardScalerWrapper, XGBoostClassifier\", \"run_properties\": null}, {\"run_id\": \"AutoML_2aadb2b0-9913-4585-ac5f-caa597a91ef1_42\", \"run_number\": 47, \"metric\": null, \"status\": \"Canceled\", \"run_type\": \"azureml.scriptrun\", \"training_percent\": \"100\", \"start_time\": \"2021-01-06T10:36:59.915145Z\", \"end_time\": \"2021-01-06T10:37:38.006241Z\", \"created_time\": \"2021-01-06T10:36:13.927343Z\", \"created_time_dt\": \"2021-01-06T10:36:13.927343Z\", \"duration\": \"0:01:24\", \"iteration\": \"42\", \"goal\": null, \"run_name\": \"SparseNormalizer, XGBoostClassifier\", \"run_properties\": null}, {\"run_id\": \"AutoML_2aadb2b0-9913-4585-ac5f-caa597a91ef1_43\", \"run_number\": 48, \"metric\": null, \"status\": \"Canceled\", \"run_type\": \"azureml.scriptrun\", \"training_percent\": \"100\", \"start_time\": \"2021-01-06T10:37:13.38825Z\", \"end_time\": \"2021-01-06T10:37:39.92801Z\", \"created_time\": \"2021-01-06T10:36:19.049156Z\", \"created_time_dt\": \"2021-01-06T10:36:19.049156Z\", \"duration\": \"0:01:20\", \"iteration\": \"43\", \"goal\": null, \"run_name\": \"StandardScalerWrapper, XGBoostClassifier\", \"run_properties\": null}, {\"run_id\": \"AutoML_2aadb2b0-9913-4585-ac5f-caa597a91ef1_44\", \"run_number\": 49, \"metric\": null, \"status\": \"Canceled\", \"run_type\": \"azureml.scriptrun\", \"training_percent\": \"100\", \"start_time\": \"2021-01-06T10:37:26.206949Z\", \"end_time\": \"2021-01-06T10:37:37.586983Z\", \"created_time\": \"2021-01-06T10:36:24.776141Z\", \"created_time_dt\": \"2021-01-06T10:36:24.776141Z\", \"duration\": \"0:01:12\", \"iteration\": \"44\", \"goal\": null, \"run_name\": \"Canceled\", \"run_properties\": null}, {\"run_id\": \"AutoML_2aadb2b0-9913-4585-ac5f-caa597a91ef1_45\", \"run_number\": 50, \"metric\": null, \"status\": \"Canceled\", \"run_type\": \"azureml.scriptrun\", \"training_percent\": \"100\", \"start_time\": \"2021-01-06T10:37:00.94517Z\", \"end_time\": \"2021-01-06T10:37:38.60953Z\", \"created_time\": \"2021-01-06T10:37:00.94517Z\", \"created_time_dt\": \"2021-01-06T10:37:00.94517Z\", \"duration\": \"0:00:37\", \"iteration\": \"45\", \"goal\": null, \"run_name\": \"Canceled\", \"run_properties\": null}, {\"run_id\": \"AutoML_2aadb2b0-9913-4585-ac5f-caa597a91ef1_46\", \"run_number\": 51, \"metric\": null, \"status\": \"Canceled\", \"run_type\": \"azureml.scriptrun\", \"training_percent\": \"100\", \"start_time\": \"2021-01-06T10:37:10.384077Z\", \"end_time\": \"2021-01-06T10:37:38.702538Z\", \"created_time\": \"2021-01-06T10:37:10.384077Z\", \"created_time_dt\": \"2021-01-06T10:37:10.384077Z\", \"duration\": \"0:00:28\", \"iteration\": \"46\", \"goal\": null, \"run_name\": \"Canceled\", \"run_properties\": null}, {\"run_id\": \"AutoML_2aadb2b0-9913-4585-ac5f-caa597a91ef1_47\", \"run_number\": 52, \"metric\": null, \"status\": \"Canceled\", \"run_type\": \"azureml.scriptrun\", \"training_percent\": \"100\", \"start_time\": \"2021-01-06T10:37:27.083778Z\", \"end_time\": \"2021-01-06T10:37:42.360278Z\", \"created_time\": \"2021-01-06T10:37:27.083778Z\", \"created_time_dt\": \"2021-01-06T10:37:27.083778Z\", \"duration\": \"0:00:15\", \"iteration\": \"47\", \"goal\": null, \"run_name\": \"Canceled\", \"run_properties\": null}, {\"run_id\": \"AutoML_2aadb2b0-9913-4585-ac5f-caa597a91ef1_48\", \"run_number\": 53, \"metric\": null, \"status\": \"Completed\", \"run_type\": \"azureml.scriptrun\", \"training_percent\": \"100\", \"start_time\": \"2021-01-06T10:37:55.65812Z\", \"end_time\": \"2021-01-06T10:39:25.652885Z\", \"created_time\": \"2021-01-06T10:37:45.463564Z\", \"created_time_dt\": \"2021-01-06T10:37:45.463564Z\", \"duration\": \"0:01:40\", \"iteration\": \"48\", \"goal\": \"accuracy_max\", \"run_name\": \"VotingEnsemble\", \"run_properties\": \"classification_labels=None,\\n                              estimators=[('12',\\n                                           Pipeline(memory=None,\\n                                                    steps=[('sparsenormalizer',\\n                                                            <azureml.automl.runtime.shared.model_wrappers.SparseNormalizer object at 0x7fcbbe7f3b00>\", \"primary_metric\": 0.86463554, \"best_metric\": 0.86463554}, {\"run_id\": \"AutoML_2aadb2b0-9913-4585-ac5f-caa597a91ef1_49\", \"run_number\": 54, \"metric\": null, \"status\": \"Completed\", \"run_type\": \"azureml.scriptrun\", \"training_percent\": \"100\", \"start_time\": \"2021-01-06T10:37:58.571822Z\", \"end_time\": \"2021-01-06T10:39:31.051247Z\", \"created_time\": \"2021-01-06T10:37:45.503133Z\", \"created_time_dt\": \"2021-01-06T10:37:45.503133Z\", \"duration\": \"0:01:45\", \"iteration\": \"49\", \"goal\": \"accuracy_max\", \"run_name\": \"StackEnsemble\", \"run_properties\": \"base_learners=[('12',\\n                                        Pipeline(memory=None,\\n                                                 steps=[('sparsenormalizer',\\n                                                         <azureml.automl.runtime.shared.model_wrappers.SparseNormalizer object at 0x7f43995bd278>\", \"primary_metric\": 0.86275184, \"best_metric\": 0.86463554}], \"children_metrics\": {\"categories\": [0], \"series\": {\"AUC_micro\": [{\"categories\": [\"0\", \"1\", \"2\", \"3\", \"4\", \"5\", \"6\", \"7\", \"8\", \"9\", \"10\", \"11\", \"12\", \"13\", \"14\", \"15\", \"16\", \"17\", \"18\", \"19\", \"20\", \"21\", \"22\", \"23\", \"24\", \"25\", \"26\", \"27\", \"28\", \"29\", \"30\", \"31\", \"32\", \"33\", \"34\", \"36\", \"37\", \"38\", \"41\", \"48\", \"49\"], \"mode\": \"markers\", \"name\": \"AUC_micro\", \"stepped\": false, \"type\": \"scatter\", \"data\": [0.9514922592907851, 0.9647309690749495, 0.9542992988521244, 0.8722264873763645, 0.8840415052085813, 0.9298534191998564, 0.9293579458395183, 0.8962165010666239, 0.9645607626836128, 0.9526370055559245, 0.9623729644319325, 0.9648902049246029, 0.963703901802182, 0.9588639392128335, 0.9270624003498696, 0.8947432516277724, 0.9518246904487689, 0.9623742004233404, 0.9665439627700071, 0.9666053102465879, 0.96377241391492, 0.9659215212532166, 0.9576944123037489, 0.964792266467942, 0.9660324058702437, 0.7581217581217581, 0.9431588367460604, 0.9627760832085157, 0.9565939667610429, 0.902460953694369, 0.7581217581217581, 0.9614378698555603, 0.9466948422624097, 0.9638094502811947, 0.9658000372496687, 0.8889207688814569, 0.9637528714776872, 0.9437645767277217, 0.961753586957518, 0.9696338844987494, 0.9722126446303351]}, {\"categories\": [\"0\", \"1\", \"2\", \"3\", \"4\", \"5\", \"6\", \"7\", \"8\", \"9\", \"10\", \"11\", \"12\", \"13\", \"14\", \"15\", \"16\", \"17\", \"18\", \"19\", \"20\", \"21\", \"22\", \"23\", \"24\", \"25\", \"26\", \"27\", \"28\", \"29\", \"30\", \"31\", \"32\", \"33\", \"34\", \"36\", \"37\", \"38\", \"41\", \"48\", \"49\"], \"mode\": \"lines\", \"name\": \"AUC_micro_max\", \"stepped\": true, \"type\": \"scatter\", \"data\": [0.9514922592907851, 0.9647309690749495, 0.9647309690749495, 0.9647309690749495, 0.9647309690749495, 0.9647309690749495, 0.9647309690749495, 0.9647309690749495, 0.9647309690749495, 0.9647309690749495, 0.9647309690749495, 0.9648902049246029, 0.9648902049246029, 0.9648902049246029, 0.9648902049246029, 0.9648902049246029, 0.9648902049246029, 0.9648902049246029, 0.9665439627700071, 0.9666053102465879, 0.9666053102465879, 0.9666053102465879, 0.9666053102465879, 0.9666053102465879, 0.9666053102465879, 0.9666053102465879, 0.9666053102465879, 0.9666053102465879, 0.9666053102465879, 0.9666053102465879, 0.9666053102465879, 0.9666053102465879, 0.9666053102465879, 0.9666053102465879, 0.9666053102465879, 0.9666053102465879, 0.9666053102465879, 0.9666053102465879, 0.9666053102465879, 0.9696338844987494, 0.9722126446303351]}], \"precision_score_micro\": [{\"categories\": [\"0\", \"1\", \"2\", \"3\", \"4\", \"5\", \"6\", \"7\", \"8\", \"9\", \"10\", \"11\", \"12\", \"13\", \"14\", \"15\", \"16\", \"17\", \"18\", \"19\", \"20\", \"21\", \"22\", \"23\", \"24\", \"25\", \"26\", \"27\", \"28\", \"29\", \"30\", \"31\", \"32\", \"33\", \"34\", \"36\", \"37\", \"38\", \"41\", \"48\", \"49\"], \"mode\": \"markers\", \"name\": \"precision_score_micro\", \"stepped\": false, \"type\": \"scatter\", \"data\": [0.7978050778050778, 0.8519246519246518, 0.8285012285012285, 0.6896314496314496, 0.6929238329238329, 0.7545126945126944, 0.7472072072072071, 0.7400819000819001, 0.8411138411138411, 0.8393447993447994, 0.8375102375102375, 0.8465028665028665, 0.8573791973791975, 0.8483701883701883, 0.7545290745290745, 0.7364619164619165, 0.8303030303030303, 0.8356920556920556, 0.8501719901719902, 0.8447338247338247, 0.8537755937755938, 0.842932022932023, 0.842964782964783, 0.8501719901719902, 0.8483046683046684, 0.5794430794430794, 0.8032596232596234, 0.842932022932023, 0.8266994266994268, 0.7310728910728911, 0.5794430794430794, 0.8393120393120392, 0.8176904176904177, 0.8374774774774775, 0.8465356265356265, 0.7346601146601147, 0.8411138411138411, 0.8266830466830466, 0.8411302211302212, 0.8646355446355447, 0.8627518427518428]}, {\"categories\": [\"0\", \"1\", \"2\", \"3\", \"4\", \"5\", \"6\", \"7\", \"8\", \"9\", \"10\", \"11\", \"12\", \"13\", \"14\", \"15\", \"16\", \"17\", \"18\", \"19\", \"20\", \"21\", \"22\", \"23\", \"24\", \"25\", \"26\", \"27\", \"28\", \"29\", \"30\", \"31\", \"32\", \"33\", \"34\", \"36\", \"37\", \"38\", \"41\", \"48\", \"49\"], \"mode\": \"lines\", \"name\": \"precision_score_micro_max\", \"stepped\": true, \"type\": \"scatter\", \"data\": [0.7978050778050778, 0.8519246519246518, 0.8519246519246518, 0.8519246519246518, 0.8519246519246518, 0.8519246519246518, 0.8519246519246518, 0.8519246519246518, 0.8519246519246518, 0.8519246519246518, 0.8519246519246518, 0.8519246519246518, 0.8573791973791975, 0.8573791973791975, 0.8573791973791975, 0.8573791973791975, 0.8573791973791975, 0.8573791973791975, 0.8573791973791975, 0.8573791973791975, 0.8573791973791975, 0.8573791973791975, 0.8573791973791975, 0.8573791973791975, 0.8573791973791975, 0.8573791973791975, 0.8573791973791975, 0.8573791973791975, 0.8573791973791975, 0.8573791973791975, 0.8573791973791975, 0.8573791973791975, 0.8573791973791975, 0.8573791973791975, 0.8573791973791975, 0.8573791973791975, 0.8573791973791975, 0.8573791973791975, 0.8573791973791975, 0.8646355446355447, 0.8646355446355447]}], \"average_precision_score_macro\": [{\"categories\": [\"0\", \"1\", \"2\", \"3\", \"4\", \"5\", \"6\", \"7\", \"8\", \"9\", \"10\", \"11\", \"12\", \"13\", \"14\", \"15\", \"16\", \"17\", \"18\", \"19\", \"20\", \"21\", \"22\", \"23\", \"24\", \"25\", \"26\", \"27\", \"28\", \"29\", \"30\", \"31\", \"32\", \"33\", \"34\", \"36\", \"37\", \"38\", \"41\", \"48\", \"49\"], \"mode\": \"markers\", \"name\": \"average_precision_score_macro\", \"stepped\": false, \"type\": \"scatter\", \"data\": [0.7719450054986459, 0.8445389483806057, 0.8217025156577854, 0.6222229619000692, 0.6377679264586217, 0.782915536550019, 0.6586543575101229, 0.6073071324019904, 0.8456089570065973, 0.814903690594368, 0.8427238712825613, 0.8484010338690648, 0.844577157854383, 0.8272082861121935, 0.68188746270636, 0.6049600206598598, 0.8206247603933606, 0.839440531540731, 0.8459348191774649, 0.8486230117825493, 0.8578590513678979, 0.849677017185841, 0.8290859462637682, 0.8543923443059347, 0.8504777459756641, 0.25, 0.7690526063078491, 0.8426924889724183, 0.8470778722348351, 0.7828820004416068, 0.25, 0.8431241434638361, 0.7754166840988087, 0.8443636872497476, 0.848976375214443, 0.6236169751649298, 0.8416089940600038, 0.7632614014640358, 0.8394903012626773, 0.8620892631329367, 0.8692769890982672]}, {\"categories\": [\"0\", \"1\", \"2\", \"3\", \"4\", \"5\", \"6\", \"7\", \"8\", \"9\", \"10\", \"11\", \"12\", \"13\", \"14\", \"15\", \"16\", \"17\", \"18\", \"19\", \"20\", \"21\", \"22\", \"23\", \"24\", \"25\", \"26\", \"27\", \"28\", \"29\", \"30\", \"31\", \"32\", \"33\", \"34\", \"36\", \"37\", \"38\", \"41\", \"48\", \"49\"], \"mode\": \"lines\", \"name\": \"average_precision_score_macro_max\", \"stepped\": true, \"type\": \"scatter\", \"data\": [0.7719450054986459, 0.8445389483806057, 0.8445389483806057, 0.8445389483806057, 0.8445389483806057, 0.8445389483806057, 0.8445389483806057, 0.8445389483806057, 0.8456089570065973, 0.8456089570065973, 0.8456089570065973, 0.8484010338690648, 0.8484010338690648, 0.8484010338690648, 0.8484010338690648, 0.8484010338690648, 0.8484010338690648, 0.8484010338690648, 0.8484010338690648, 0.8486230117825493, 0.8578590513678979, 0.8578590513678979, 0.8578590513678979, 0.8578590513678979, 0.8578590513678979, 0.8578590513678979, 0.8578590513678979, 0.8578590513678979, 0.8578590513678979, 0.8578590513678979, 0.8578590513678979, 0.8578590513678979, 0.8578590513678979, 0.8578590513678979, 0.8578590513678979, 0.8578590513678979, 0.8578590513678979, 0.8578590513678979, 0.8578590513678979, 0.8620892631329367, 0.8692769890982672]}], \"recall_score_macro\": [{\"categories\": [\"0\", \"1\", \"2\", \"3\", \"4\", \"5\", \"6\", \"7\", \"8\", \"9\", \"10\", \"11\", \"12\", \"13\", \"14\", \"15\", \"16\", \"17\", \"18\", \"19\", \"20\", \"21\", \"22\", \"23\", \"24\", \"25\", \"26\", \"27\", \"28\", \"29\", \"30\", \"31\", \"32\", \"33\", \"34\", \"36\", \"37\", \"38\", \"41\", \"48\", \"49\"], \"mode\": \"markers\", \"name\": \"recall_score_macro\", \"stepped\": false, \"type\": \"scatter\", \"data\": [0.6549933065724204, 0.7317731552536917, 0.6486204933507811, 0.37510329450659285, 0.6008106553341828, 0.6821150864926118, 0.5207284460911646, 0.4305843056978298, 0.7311704067891291, 0.7056475217949914, 0.7064993615704911, 0.7358393884760046, 0.7515412647944197, 0.7301267305782948, 0.5005123221606199, 0.43473158478841223, 0.6735525121773118, 0.6989459731063521, 0.7100861991366083, 0.7178957919161721, 0.7251351015118194, 0.7127761694547808, 0.708722114387938, 0.7149706515026752, 0.7307490866594656, 0.25, 0.6196257693064602, 0.7100465109770047, 0.6573978622295584, 0.41677968707953716, 0.25, 0.6842731715844504, 0.6523900336525951, 0.7067676012598866, 0.7220023599309713, 0.4231456867719986, 0.7025216443694576, 0.6698509362578643, 0.7067491405271664, 0.7351680891870582, 0.7455085670786198]}, {\"categories\": [\"0\", \"1\", \"2\", \"3\", \"4\", \"5\", \"6\", \"7\", \"8\", \"9\", \"10\", \"11\", \"12\", \"13\", \"14\", \"15\", \"16\", \"17\", \"18\", \"19\", \"20\", \"21\", \"22\", \"23\", \"24\", \"25\", \"26\", \"27\", \"28\", \"29\", \"30\", \"31\", \"32\", \"33\", \"34\", \"36\", \"37\", \"38\", \"41\", \"48\", \"49\"], \"mode\": \"lines\", \"name\": \"recall_score_macro_max\", \"stepped\": true, \"type\": \"scatter\", \"data\": [0.6549933065724204, 0.7317731552536917, 0.7317731552536917, 0.7317731552536917, 0.7317731552536917, 0.7317731552536917, 0.7317731552536917, 0.7317731552536917, 0.7317731552536917, 0.7317731552536917, 0.7317731552536917, 0.7358393884760046, 0.7515412647944197, 0.7515412647944197, 0.7515412647944197, 0.7515412647944197, 0.7515412647944197, 0.7515412647944197, 0.7515412647944197, 0.7515412647944197, 0.7515412647944197, 0.7515412647944197, 0.7515412647944197, 0.7515412647944197, 0.7515412647944197, 0.7515412647944197, 0.7515412647944197, 0.7515412647944197, 0.7515412647944197, 0.7515412647944197, 0.7515412647944197, 0.7515412647944197, 0.7515412647944197, 0.7515412647944197, 0.7515412647944197, 0.7515412647944197, 0.7515412647944197, 0.7515412647944197, 0.7515412647944197, 0.7515412647944197, 0.7515412647944197]}], \"balanced_accuracy\": [{\"categories\": [\"0\", \"1\", \"2\", \"3\", \"4\", \"5\", \"6\", \"7\", \"8\", \"9\", \"10\", \"11\", \"12\", \"13\", \"14\", \"15\", \"16\", \"17\", \"18\", \"19\", \"20\", \"21\", \"22\", \"23\", \"24\", \"25\", \"26\", \"27\", \"28\", \"29\", \"30\", \"31\", \"32\", \"33\", \"34\", \"36\", \"37\", \"38\", \"41\", \"48\", \"49\"], \"mode\": \"markers\", \"name\": \"balanced_accuracy\", \"stepped\": false, \"type\": \"scatter\", \"data\": [0.6549933065724204, 0.7317731552536917, 0.6486204933507811, 0.37510329450659285, 0.6008106553341828, 0.6821150864926118, 0.5207284460911646, 0.4305843056978298, 0.7311704067891291, 0.7056475217949914, 0.7064993615704911, 0.7358393884760046, 0.7515412647944197, 0.7301267305782948, 0.5005123221606199, 0.43473158478841223, 0.6735525121773118, 0.6989459731063521, 0.7100861991366083, 0.7178957919161721, 0.7251351015118194, 0.7127761694547808, 0.708722114387938, 0.7149706515026752, 0.7307490866594656, 0.25, 0.6196257693064602, 0.7100465109770047, 0.6573978622295584, 0.41677968707953716, 0.25, 0.6842731715844504, 0.6523900336525951, 0.7067676012598866, 0.7220023599309713, 0.4231456867719986, 0.7025216443694576, 0.6698509362578643, 0.7067491405271664, 0.7351680891870582, 0.7455085670786198]}, {\"categories\": [\"0\", \"1\", \"2\", \"3\", \"4\", \"5\", \"6\", \"7\", \"8\", \"9\", \"10\", \"11\", \"12\", \"13\", \"14\", \"15\", \"16\", \"17\", \"18\", \"19\", \"20\", \"21\", \"22\", \"23\", \"24\", \"25\", \"26\", \"27\", \"28\", \"29\", \"30\", \"31\", \"32\", \"33\", \"34\", \"36\", \"37\", \"38\", \"41\", \"48\", \"49\"], \"mode\": \"lines\", \"name\": \"balanced_accuracy_max\", \"stepped\": true, \"type\": \"scatter\", \"data\": [0.6549933065724204, 0.7317731552536917, 0.7317731552536917, 0.7317731552536917, 0.7317731552536917, 0.7317731552536917, 0.7317731552536917, 0.7317731552536917, 0.7317731552536917, 0.7317731552536917, 0.7317731552536917, 0.7358393884760046, 0.7515412647944197, 0.7515412647944197, 0.7515412647944197, 0.7515412647944197, 0.7515412647944197, 0.7515412647944197, 0.7515412647944197, 0.7515412647944197, 0.7515412647944197, 0.7515412647944197, 0.7515412647944197, 0.7515412647944197, 0.7515412647944197, 0.7515412647944197, 0.7515412647944197, 0.7515412647944197, 0.7515412647944197, 0.7515412647944197, 0.7515412647944197, 0.7515412647944197, 0.7515412647944197, 0.7515412647944197, 0.7515412647944197, 0.7515412647944197, 0.7515412647944197, 0.7515412647944197, 0.7515412647944197, 0.7515412647944197, 0.7515412647944197]}], \"AUC_weighted\": [{\"categories\": [\"0\", \"1\", \"2\", \"3\", \"4\", \"5\", \"6\", \"7\", \"8\", \"9\", \"10\", \"11\", \"12\", \"13\", \"14\", \"15\", \"16\", \"17\", \"18\", \"19\", \"20\", \"21\", \"22\", \"23\", \"24\", \"25\", \"26\", \"27\", \"28\", \"29\", \"30\", \"31\", \"32\", \"33\", \"34\", \"36\", \"37\", \"38\", \"41\", \"48\", \"49\"], \"mode\": \"markers\", \"name\": \"AUC_weighted\", \"stepped\": false, \"type\": \"scatter\", \"data\": [0.9361166079318565, 0.950513324973846, 0.9448956292542683, 0.8930215129874522, 0.882071123325467, 0.9289993383943569, 0.9169222553570258, 0.8997111515936431, 0.9506612114609136, 0.9380753894311094, 0.9464289681642768, 0.9520607392370095, 0.9454654450108586, 0.9376575058553043, 0.9156923637955494, 0.8824329349842213, 0.9400502071864073, 0.9514379027196102, 0.956536603592585, 0.9550097712483054, 0.9506507893065098, 0.9522517916325258, 0.9411315947282685, 0.9496397230438658, 0.95223995837553, 0.5, 0.9229234603902523, 0.949687268376145, 0.9467150809124838, 0.926012108712707, 0.5, 0.9509996627714894, 0.9247814974242463, 0.9512091446544362, 0.9540526924138056, 0.8843613698522091, 0.9513553818764683, 0.917500547299505, 0.9462573934198572, 0.9611078680477609, 0.964756526869801]}, {\"categories\": [\"0\", \"1\", \"2\", \"3\", \"4\", \"5\", \"6\", \"7\", \"8\", \"9\", \"10\", \"11\", \"12\", \"13\", \"14\", \"15\", \"16\", \"17\", \"18\", \"19\", \"20\", \"21\", \"22\", \"23\", \"24\", \"25\", \"26\", \"27\", \"28\", \"29\", \"30\", \"31\", \"32\", \"33\", \"34\", \"36\", \"37\", \"38\", \"41\", \"48\", \"49\"], \"mode\": \"lines\", \"name\": \"AUC_weighted_max\", \"stepped\": true, \"type\": \"scatter\", \"data\": [0.9361166079318565, 0.950513324973846, 0.950513324973846, 0.950513324973846, 0.950513324973846, 0.950513324973846, 0.950513324973846, 0.950513324973846, 0.9506612114609136, 0.9506612114609136, 0.9506612114609136, 0.9520607392370095, 0.9520607392370095, 0.9520607392370095, 0.9520607392370095, 0.9520607392370095, 0.9520607392370095, 0.9520607392370095, 0.956536603592585, 0.956536603592585, 0.956536603592585, 0.956536603592585, 0.956536603592585, 0.956536603592585, 0.956536603592585, 0.956536603592585, 0.956536603592585, 0.956536603592585, 0.956536603592585, 0.956536603592585, 0.956536603592585, 0.956536603592585, 0.956536603592585, 0.956536603592585, 0.956536603592585, 0.956536603592585, 0.956536603592585, 0.956536603592585, 0.956536603592585, 0.9611078680477609, 0.964756526869801]}], \"recall_score_micro\": [{\"categories\": [\"0\", \"1\", \"2\", \"3\", \"4\", \"5\", \"6\", \"7\", \"8\", \"9\", \"10\", \"11\", \"12\", \"13\", \"14\", \"15\", \"16\", \"17\", \"18\", \"19\", \"20\", \"21\", \"22\", \"23\", \"24\", \"25\", \"26\", \"27\", \"28\", \"29\", \"30\", \"31\", \"32\", \"33\", \"34\", \"36\", \"37\", \"38\", \"41\", \"48\", \"49\"], \"mode\": \"markers\", \"name\": \"recall_score_micro\", \"stepped\": false, \"type\": \"scatter\", \"data\": [0.7978050778050778, 0.8519246519246518, 0.8285012285012285, 0.6896314496314496, 0.6929238329238329, 0.7545126945126944, 0.7472072072072071, 0.7400819000819001, 0.8411138411138411, 0.8393447993447994, 0.8375102375102375, 0.8465028665028665, 0.8573791973791975, 0.8483701883701883, 0.7545290745290745, 0.7364619164619165, 0.8303030303030303, 0.8356920556920556, 0.8501719901719902, 0.8447338247338247, 0.8537755937755938, 0.842932022932023, 0.842964782964783, 0.8501719901719902, 0.8483046683046684, 0.5794430794430794, 0.8032596232596234, 0.842932022932023, 0.8266994266994268, 0.7310728910728911, 0.5794430794430794, 0.8393120393120392, 0.8176904176904177, 0.8374774774774775, 0.8465356265356265, 0.7346601146601147, 0.8411138411138411, 0.8266830466830466, 0.8411302211302212, 0.8646355446355447, 0.8627518427518428]}, {\"categories\": [\"0\", \"1\", \"2\", \"3\", \"4\", \"5\", \"6\", \"7\", \"8\", \"9\", \"10\", \"11\", \"12\", \"13\", \"14\", \"15\", \"16\", \"17\", \"18\", \"19\", \"20\", \"21\", \"22\", \"23\", \"24\", \"25\", \"26\", \"27\", \"28\", \"29\", \"30\", \"31\", \"32\", \"33\", \"34\", \"36\", \"37\", \"38\", \"41\", \"48\", \"49\"], \"mode\": \"lines\", \"name\": \"recall_score_micro_max\", \"stepped\": true, \"type\": \"scatter\", \"data\": [0.7978050778050778, 0.8519246519246518, 0.8519246519246518, 0.8519246519246518, 0.8519246519246518, 0.8519246519246518, 0.8519246519246518, 0.8519246519246518, 0.8519246519246518, 0.8519246519246518, 0.8519246519246518, 0.8519246519246518, 0.8573791973791975, 0.8573791973791975, 0.8573791973791975, 0.8573791973791975, 0.8573791973791975, 0.8573791973791975, 0.8573791973791975, 0.8573791973791975, 0.8573791973791975, 0.8573791973791975, 0.8573791973791975, 0.8573791973791975, 0.8573791973791975, 0.8573791973791975, 0.8573791973791975, 0.8573791973791975, 0.8573791973791975, 0.8573791973791975, 0.8573791973791975, 0.8573791973791975, 0.8573791973791975, 0.8573791973791975, 0.8573791973791975, 0.8573791973791975, 0.8573791973791975, 0.8573791973791975, 0.8573791973791975, 0.8646355446355447, 0.8646355446355447]}], \"f1_score_micro\": [{\"categories\": [\"0\", \"1\", \"2\", \"3\", \"4\", \"5\", \"6\", \"7\", \"8\", \"9\", \"10\", \"11\", \"12\", \"13\", \"14\", \"15\", \"16\", \"17\", \"18\", \"19\", \"20\", \"21\", \"22\", \"23\", \"24\", \"25\", \"26\", \"27\", \"28\", \"29\", \"30\", \"31\", \"32\", \"33\", \"34\", \"36\", \"37\", \"38\", \"41\", \"48\", \"49\"], \"mode\": \"markers\", \"name\": \"f1_score_micro\", \"stepped\": false, \"type\": \"scatter\", \"data\": [0.7978050778050778, 0.8519246519246518, 0.8285012285012285, 0.6896314496314496, 0.6929238329238329, 0.7545126945126944, 0.7472072072072071, 0.7400819000819001, 0.8411138411138411, 0.8393447993447994, 0.8375102375102375, 0.8465028665028665, 0.8573791973791975, 0.8483701883701883, 0.7545290745290745, 0.7364619164619165, 0.8303030303030303, 0.8356920556920556, 0.8501719901719902, 0.8447338247338247, 0.8537755937755938, 0.842932022932023, 0.842964782964783, 0.8501719901719902, 0.8483046683046684, 0.5794430794430794, 0.8032596232596234, 0.842932022932023, 0.8266994266994268, 0.7310728910728911, 0.5794430794430794, 0.8393120393120392, 0.8176904176904177, 0.8374774774774775, 0.8465356265356265, 0.7346601146601147, 0.8411138411138411, 0.8266830466830466, 0.8411302211302212, 0.8646355446355447, 0.8627518427518428]}, {\"categories\": [\"0\", \"1\", \"2\", \"3\", \"4\", \"5\", \"6\", \"7\", \"8\", \"9\", \"10\", \"11\", \"12\", \"13\", \"14\", \"15\", \"16\", \"17\", \"18\", \"19\", \"20\", \"21\", \"22\", \"23\", \"24\", \"25\", \"26\", \"27\", \"28\", \"29\", \"30\", \"31\", \"32\", \"33\", \"34\", \"36\", \"37\", \"38\", \"41\", \"48\", \"49\"], \"mode\": \"lines\", \"name\": \"f1_score_micro_max\", \"stepped\": true, \"type\": \"scatter\", \"data\": [0.7978050778050778, 0.8519246519246518, 0.8519246519246518, 0.8519246519246518, 0.8519246519246518, 0.8519246519246518, 0.8519246519246518, 0.8519246519246518, 0.8519246519246518, 0.8519246519246518, 0.8519246519246518, 0.8519246519246518, 0.8573791973791975, 0.8573791973791975, 0.8573791973791975, 0.8573791973791975, 0.8573791973791975, 0.8573791973791975, 0.8573791973791975, 0.8573791973791975, 0.8573791973791975, 0.8573791973791975, 0.8573791973791975, 0.8573791973791975, 0.8573791973791975, 0.8573791973791975, 0.8573791973791975, 0.8573791973791975, 0.8573791973791975, 0.8573791973791975, 0.8573791973791975, 0.8573791973791975, 0.8573791973791975, 0.8573791973791975, 0.8573791973791975, 0.8573791973791975, 0.8573791973791975, 0.8573791973791975, 0.8573791973791975, 0.8646355446355447, 0.8646355446355447]}], \"AUC_macro\": [{\"categories\": [\"0\", \"1\", \"2\", \"3\", \"4\", \"5\", \"6\", \"7\", \"8\", \"9\", \"10\", \"11\", \"12\", \"13\", \"14\", \"15\", \"16\", \"17\", \"18\", \"19\", \"20\", \"21\", \"22\", \"23\", \"24\", \"25\", \"26\", \"27\", \"28\", \"29\", \"30\", \"31\", \"32\", \"33\", \"34\", \"36\", \"37\", \"38\", \"41\", \"48\", \"49\"], \"mode\": \"markers\", \"name\": \"AUC_macro\", \"stepped\": false, \"type\": \"scatter\", \"data\": [0.919644860253784, 0.9383769752704852, 0.930452290448533, 0.8558781777515894, 0.8499985063199738, 0.9089762954331277, 0.8849941696511975, 0.8630935365178158, 0.9402057723082432, 0.9210898235765494, 0.9391106727609033, 0.942271443745101, 0.936879177072042, 0.9197906939065413, 0.8913028896507346, 0.8422237735034408, 0.9236939517365654, 0.9401178125309725, 0.9506186780245839, 0.945479644538489, 0.9458779403672188, 0.9456342188187895, 0.9287723223010552, 0.9451149682280284, 0.9430019836245339, 0.5, 0.9125172936206752, 0.9433133580099554, 0.9384494737491937, 0.9120575315696282, 0.5, 0.9454078970806463, 0.9151861737038983, 0.9401376055933695, 0.9462932306600781, 0.8482591102095614, 0.9432966621633957, 0.9047299247094849, 0.9391826094562014, 0.9531536728491561, 0.9572734041252966]}, {\"categories\": [\"0\", \"1\", \"2\", \"3\", \"4\", \"5\", \"6\", \"7\", \"8\", \"9\", \"10\", \"11\", \"12\", \"13\", \"14\", \"15\", \"16\", \"17\", \"18\", \"19\", \"20\", \"21\", \"22\", \"23\", \"24\", \"25\", \"26\", \"27\", \"28\", \"29\", \"30\", \"31\", \"32\", \"33\", \"34\", \"36\", \"37\", \"38\", \"41\", \"48\", \"49\"], \"mode\": \"lines\", \"name\": \"AUC_macro_max\", \"stepped\": true, \"type\": \"scatter\", \"data\": [0.919644860253784, 0.9383769752704852, 0.9383769752704852, 0.9383769752704852, 0.9383769752704852, 0.9383769752704852, 0.9383769752704852, 0.9383769752704852, 0.9402057723082432, 0.9402057723082432, 0.9402057723082432, 0.942271443745101, 0.942271443745101, 0.942271443745101, 0.942271443745101, 0.942271443745101, 0.942271443745101, 0.942271443745101, 0.9506186780245839, 0.9506186780245839, 0.9506186780245839, 0.9506186780245839, 0.9506186780245839, 0.9506186780245839, 0.9506186780245839, 0.9506186780245839, 0.9506186780245839, 0.9506186780245839, 0.9506186780245839, 0.9506186780245839, 0.9506186780245839, 0.9506186780245839, 0.9506186780245839, 0.9506186780245839, 0.9506186780245839, 0.9506186780245839, 0.9506186780245839, 0.9506186780245839, 0.9506186780245839, 0.9531536728491561, 0.9572734041252966]}], \"recall_score_weighted\": [{\"categories\": [\"0\", \"1\", \"2\", \"3\", \"4\", \"5\", \"6\", \"7\", \"8\", \"9\", \"10\", \"11\", \"12\", \"13\", \"14\", \"15\", \"16\", \"17\", \"18\", \"19\", \"20\", \"21\", \"22\", \"23\", \"24\", \"25\", \"26\", \"27\", \"28\", \"29\", \"30\", \"31\", \"32\", \"33\", \"34\", \"36\", \"37\", \"38\", \"41\", \"48\", \"49\"], \"mode\": \"markers\", \"name\": \"recall_score_weighted\", \"stepped\": false, \"type\": \"scatter\", \"data\": [0.7978050778050778, 0.8519246519246518, 0.8285012285012285, 0.6896314496314496, 0.6929238329238329, 0.7545126945126944, 0.7472072072072071, 0.7400819000819001, 0.8411138411138411, 0.8393447993447994, 0.8375102375102375, 0.8465028665028665, 0.8573791973791975, 0.8483701883701883, 0.7545290745290745, 0.7364619164619165, 0.8303030303030303, 0.8356920556920556, 0.8501719901719902, 0.8447338247338247, 0.8537755937755938, 0.842932022932023, 0.842964782964783, 0.8501719901719902, 0.8483046683046684, 0.5794430794430794, 0.8032596232596234, 0.842932022932023, 0.8266994266994268, 0.7310728910728911, 0.5794430794430794, 0.8393120393120392, 0.8176904176904177, 0.8374774774774775, 0.8465356265356265, 0.7346601146601147, 0.8411138411138411, 0.8266830466830466, 0.8411302211302212, 0.8646355446355447, 0.8627518427518428]}, {\"categories\": [\"0\", \"1\", \"2\", \"3\", \"4\", \"5\", \"6\", \"7\", \"8\", \"9\", \"10\", \"11\", \"12\", \"13\", \"14\", \"15\", \"16\", \"17\", \"18\", \"19\", \"20\", \"21\", \"22\", \"23\", \"24\", \"25\", \"26\", \"27\", \"28\", \"29\", \"30\", \"31\", \"32\", \"33\", \"34\", \"36\", \"37\", \"38\", \"41\", \"48\", \"49\"], \"mode\": \"lines\", \"name\": \"recall_score_weighted_max\", \"stepped\": true, \"type\": \"scatter\", \"data\": [0.7978050778050778, 0.8519246519246518, 0.8519246519246518, 0.8519246519246518, 0.8519246519246518, 0.8519246519246518, 0.8519246519246518, 0.8519246519246518, 0.8519246519246518, 0.8519246519246518, 0.8519246519246518, 0.8519246519246518, 0.8573791973791975, 0.8573791973791975, 0.8573791973791975, 0.8573791973791975, 0.8573791973791975, 0.8573791973791975, 0.8573791973791975, 0.8573791973791975, 0.8573791973791975, 0.8573791973791975, 0.8573791973791975, 0.8573791973791975, 0.8573791973791975, 0.8573791973791975, 0.8573791973791975, 0.8573791973791975, 0.8573791973791975, 0.8573791973791975, 0.8573791973791975, 0.8573791973791975, 0.8573791973791975, 0.8573791973791975, 0.8573791973791975, 0.8573791973791975, 0.8573791973791975, 0.8573791973791975, 0.8573791973791975, 0.8646355446355447, 0.8646355446355447]}], \"matthews_correlation\": [{\"categories\": [\"0\", \"1\", \"2\", \"3\", \"4\", \"5\", \"6\", \"7\", \"8\", \"9\", \"10\", \"11\", \"12\", \"13\", \"14\", \"15\", \"16\", \"17\", \"18\", \"19\", \"20\", \"21\", \"22\", \"23\", \"24\", \"25\", \"26\", \"27\", \"28\", \"29\", \"30\", \"31\", \"32\", \"33\", \"34\", \"36\", \"37\", \"38\", \"41\", \"48\", \"49\"], \"mode\": \"markers\", \"name\": \"matthews_correlation\", \"stepped\": false, \"type\": \"scatter\", \"data\": [0.6482299090535568, 0.7447251805087101, 0.702827616513698, 0.4238688871684805, 0.5230755936196335, 0.6133989532294281, 0.5517159309425151, 0.5385008813023291, 0.726224035617898, 0.7211668019984808, 0.7189149767401571, 0.7374639516487453, 0.7547040922759338, 0.7391288631890173, 0.5617334918919801, 0.5219728211787201, 0.708779737733479, 0.7150389756723102, 0.7445992951613017, 0.7325256927980257, 0.7503762756866384, 0.7291517660810344, 0.7310170780675393, 0.7432543131033104, 0.7393384099862181, 0.0, 0.6626510451347348, 0.7297005149457328, 0.7021861344127153, 0.5263334933274598, 0.0, 0.7255336462145856, 0.6866151398439778, 0.7192891049717026, 0.7365965054222269, 0.5266088892533874, 0.7271166268271583, 0.7046695831072765, 0.7247751999591967, 0.7701873660869588, 0.7639035732272074]}, {\"categories\": [\"0\", \"1\", \"2\", \"3\", \"4\", \"5\", \"6\", \"7\", \"8\", \"9\", \"10\", \"11\", \"12\", \"13\", \"14\", \"15\", \"16\", \"17\", \"18\", \"19\", \"20\", \"21\", \"22\", \"23\", \"24\", \"25\", \"26\", \"27\", \"28\", \"29\", \"30\", \"31\", \"32\", \"33\", \"34\", \"36\", \"37\", \"38\", \"41\", \"48\", \"49\"], \"mode\": \"lines\", \"name\": \"matthews_correlation_max\", \"stepped\": true, \"type\": \"scatter\", \"data\": [0.6482299090535568, 0.7447251805087101, 0.7447251805087101, 0.7447251805087101, 0.7447251805087101, 0.7447251805087101, 0.7447251805087101, 0.7447251805087101, 0.7447251805087101, 0.7447251805087101, 0.7447251805087101, 0.7447251805087101, 0.7547040922759338, 0.7547040922759338, 0.7547040922759338, 0.7547040922759338, 0.7547040922759338, 0.7547040922759338, 0.7547040922759338, 0.7547040922759338, 0.7547040922759338, 0.7547040922759338, 0.7547040922759338, 0.7547040922759338, 0.7547040922759338, 0.7547040922759338, 0.7547040922759338, 0.7547040922759338, 0.7547040922759338, 0.7547040922759338, 0.7547040922759338, 0.7547040922759338, 0.7547040922759338, 0.7547040922759338, 0.7547040922759338, 0.7547040922759338, 0.7547040922759338, 0.7547040922759338, 0.7547040922759338, 0.7701873660869588, 0.7701873660869588]}], \"average_precision_score_weighted\": [{\"categories\": [\"0\", \"1\", \"2\", \"3\", \"4\", \"5\", \"6\", \"7\", \"8\", \"9\", \"10\", \"11\", \"12\", \"13\", \"14\", \"15\", \"16\", \"17\", \"18\", \"19\", \"20\", \"21\", \"22\", \"23\", \"24\", \"25\", \"26\", \"27\", \"28\", \"29\", \"30\", \"31\", \"32\", \"33\", \"34\", \"36\", \"37\", \"38\", \"41\", \"48\", \"49\"], \"mode\": \"markers\", \"name\": \"average_precision_score_weighted\", \"stepped\": false, \"type\": \"scatter\", \"data\": [0.8832742195634392, 0.9185376700804971, 0.9047779240768234, 0.8103333708618189, 0.7995640316299683, 0.8832594059703137, 0.8332213250818118, 0.8103828907570214, 0.9168090067890468, 0.896433105326038, 0.9117078917110237, 0.9186373661822357, 0.9134735073999778, 0.9039694083232244, 0.8370135843332669, 0.799875982852343, 0.9031823205235853, 0.9151129234713569, 0.9196594919562399, 0.9216420062485359, 0.919505282547127, 0.9184524338583993, 0.9055784337201309, 0.9181076197299785, 0.9193579255099973, 0.4106386717295808, 0.8636764806585934, 0.9136835289824639, 0.9137252653378454, 0.8766839026311903, 0.4106386717295808, 0.9155668061224581, 0.8631104299719492, 0.917285223655739, 0.9197338363006826, 0.8062912842931057, 0.9151053246478048, 0.8563351860354393, 0.9102034023714302, 0.9297741736377813, 0.9345856357165477]}, {\"categories\": [\"0\", \"1\", \"2\", \"3\", \"4\", \"5\", \"6\", \"7\", \"8\", \"9\", \"10\", \"11\", \"12\", \"13\", \"14\", \"15\", \"16\", \"17\", \"18\", \"19\", \"20\", \"21\", \"22\", \"23\", \"24\", \"25\", \"26\", \"27\", \"28\", \"29\", \"30\", \"31\", \"32\", \"33\", \"34\", \"36\", \"37\", \"38\", \"41\", \"48\", \"49\"], \"mode\": \"lines\", \"name\": \"average_precision_score_weighted_max\", \"stepped\": true, \"type\": \"scatter\", \"data\": [0.8832742195634392, 0.9185376700804971, 0.9185376700804971, 0.9185376700804971, 0.9185376700804971, 0.9185376700804971, 0.9185376700804971, 0.9185376700804971, 0.9185376700804971, 0.9185376700804971, 0.9185376700804971, 0.9186373661822357, 0.9186373661822357, 0.9186373661822357, 0.9186373661822357, 0.9186373661822357, 0.9186373661822357, 0.9186373661822357, 0.9196594919562399, 0.9216420062485359, 0.9216420062485359, 0.9216420062485359, 0.9216420062485359, 0.9216420062485359, 0.9216420062485359, 0.9216420062485359, 0.9216420062485359, 0.9216420062485359, 0.9216420062485359, 0.9216420062485359, 0.9216420062485359, 0.9216420062485359, 0.9216420062485359, 0.9216420062485359, 0.9216420062485359, 0.9216420062485359, 0.9216420062485359, 0.9216420062485359, 0.9216420062485359, 0.9297741736377813, 0.9345856357165477]}], \"precision_score_weighted\": [{\"categories\": [\"0\", \"1\", \"2\", \"3\", \"4\", \"5\", \"6\", \"7\", \"8\", \"9\", \"10\", \"11\", \"12\", \"13\", \"14\", \"15\", \"16\", \"17\", \"18\", \"19\", \"20\", \"21\", \"22\", \"23\", \"24\", \"25\", \"26\", \"27\", \"28\", \"29\", \"30\", \"31\", \"32\", \"33\", \"34\", \"36\", \"37\", \"38\", \"41\", \"48\", \"49\"], \"mode\": \"markers\", \"name\": \"precision_score_weighted\", \"stepped\": false, \"type\": \"scatter\", \"data\": [0.7967335751931734, 0.8561900351900352, 0.8421843763661947, 0.6050920695399539, 0.7533763242111899, 0.8143980161767184, 0.6968911642262176, 0.6209423827957096, 0.8431636832766504, 0.8389384324364686, 0.8450561261350733, 0.8559397067253064, 0.8636488897438553, 0.8552015455422086, 0.7147529738127284, 0.6062760182187068, 0.8522196347724206, 0.8387894994124266, 0.8628402850433282, 0.8476959635444103, 0.8699303964356531, 0.8482435007111724, 0.8574408235004067, 0.8658854066732855, 0.8545586206001328, 0.3367935614864362, 0.84943927717384, 0.8490627621153937, 0.8545043550109686, 0.6263625883083673, 0.3367935614864362, 0.8623207376524483, 0.8503058350830759, 0.8394591048188307, 0.8544476116555055, 0.6202247818230112, 0.852675552266766, 0.860229983410558, 0.8452596184701449, 0.874928891324742, 0.8625819257567908]}, {\"categories\": [\"0\", \"1\", \"2\", \"3\", \"4\", \"5\", \"6\", \"7\", \"8\", \"9\", \"10\", \"11\", \"12\", \"13\", \"14\", \"15\", \"16\", \"17\", \"18\", \"19\", \"20\", \"21\", \"22\", \"23\", \"24\", \"25\", \"26\", \"27\", \"28\", \"29\", \"30\", \"31\", \"32\", \"33\", \"34\", \"36\", \"37\", \"38\", \"41\", \"48\", \"49\"], \"mode\": \"lines\", \"name\": \"precision_score_weighted_max\", \"stepped\": true, \"type\": \"scatter\", \"data\": [0.7967335751931734, 0.8561900351900352, 0.8561900351900352, 0.8561900351900352, 0.8561900351900352, 0.8561900351900352, 0.8561900351900352, 0.8561900351900352, 0.8561900351900352, 0.8561900351900352, 0.8561900351900352, 0.8561900351900352, 0.8636488897438553, 0.8636488897438553, 0.8636488897438553, 0.8636488897438553, 0.8636488897438553, 0.8636488897438553, 0.8636488897438553, 0.8636488897438553, 0.8699303964356531, 0.8699303964356531, 0.8699303964356531, 0.8699303964356531, 0.8699303964356531, 0.8699303964356531, 0.8699303964356531, 0.8699303964356531, 0.8699303964356531, 0.8699303964356531, 0.8699303964356531, 0.8699303964356531, 0.8699303964356531, 0.8699303964356531, 0.8699303964356531, 0.8699303964356531, 0.8699303964356531, 0.8699303964356531, 0.8699303964356531, 0.874928891324742, 0.874928891324742]}], \"log_loss\": [{\"categories\": [\"0\", \"1\", \"2\", \"3\", \"4\", \"5\", \"6\", \"7\", \"8\", \"9\", \"10\", \"11\", \"12\", \"13\", \"14\", \"15\", \"16\", \"17\", \"18\", \"19\", \"20\", \"21\", \"22\", \"23\", \"24\", \"25\", \"26\", \"27\", \"28\", \"29\", \"30\", \"31\", \"32\", \"33\", \"34\", \"36\", \"37\", \"38\", \"41\", \"48\", \"49\"], \"mode\": \"markers\", \"name\": \"log_loss\", \"stepped\": false, \"type\": \"scatter\", \"data\": [0.6454826394312672, 0.4502787036787847, 0.5497920209715035, 0.8772347463758825, 1.2263757874701036, 0.7883883133952713, 0.6366820419865676, 0.7999460956607033, 0.4589007146464283, 0.7050545371582368, 0.5181781010278944, 0.4762771754599961, 0.4876684407161803, 0.7167034314192225, 0.6653166841697511, 0.7927944164205044, 0.7908307983724528, 0.4822925115047549, 0.4519491184685216, 0.452466570819257, 0.5021163692045565, 0.4588343922158643, 0.7486411795381104, 0.4906681822141012, 0.448669542407376, 1.110075061704639, 0.6654031999012029, 0.46735258878721436, 0.578067410157288, 0.8087273864820584, 1.1106497773245896, 0.47695447859079465, 0.8140862812535508, 0.46139166846593016, 0.4507707484337379, 0.8103543155708216, 0.4728197161129183, 0.8073984530844243, 0.47807794992829394, 0.4456959864618465, 0.42279493155126424]}, {\"categories\": [\"0\", \"1\", \"2\", \"3\", \"4\", \"5\", \"6\", \"7\", \"8\", \"9\", \"10\", \"11\", \"12\", \"13\", \"14\", \"15\", \"16\", \"17\", \"18\", \"19\", \"20\", \"21\", \"22\", \"23\", \"24\", \"25\", \"26\", \"27\", \"28\", \"29\", \"30\", \"31\", \"32\", \"33\", \"34\", \"36\", \"37\", \"38\", \"41\", \"48\", \"49\"], \"mode\": \"lines\", \"name\": \"log_loss_min\", \"stepped\": true, \"type\": \"scatter\", \"data\": [0.6454826394312672, 0.4502787036787847, 0.4502787036787847, 0.4502787036787847, 0.4502787036787847, 0.4502787036787847, 0.4502787036787847, 0.4502787036787847, 0.4502787036787847, 0.4502787036787847, 0.4502787036787847, 0.4502787036787847, 0.4502787036787847, 0.4502787036787847, 0.4502787036787847, 0.4502787036787847, 0.4502787036787847, 0.4502787036787847, 0.4502787036787847, 0.4502787036787847, 0.4502787036787847, 0.4502787036787847, 0.4502787036787847, 0.4502787036787847, 0.448669542407376, 0.448669542407376, 0.448669542407376, 0.448669542407376, 0.448669542407376, 0.448669542407376, 0.448669542407376, 0.448669542407376, 0.448669542407376, 0.448669542407376, 0.448669542407376, 0.448669542407376, 0.448669542407376, 0.448669542407376, 0.448669542407376, 0.4456959864618465, 0.42279493155126424]}], \"f1_score_weighted\": [{\"categories\": [\"0\", \"1\", \"2\", \"3\", \"4\", \"5\", \"6\", \"7\", \"8\", \"9\", \"10\", \"11\", \"12\", \"13\", \"14\", \"15\", \"16\", \"17\", \"18\", \"19\", \"20\", \"21\", \"22\", \"23\", \"24\", \"25\", \"26\", \"27\", \"28\", \"29\", \"30\", \"31\", \"32\", \"33\", \"34\", \"36\", \"37\", \"38\", \"41\", \"48\", \"49\"], \"mode\": \"markers\", \"name\": \"f1_score_weighted\", \"stepped\": false, \"type\": \"scatter\", \"data\": [0.7856959622652464, 0.8438319621607622, 0.8064262238038907, 0.5953483537142276, 0.7126528235514321, 0.7723103516100981, 0.7038989792237376, 0.6611881707516143, 0.8315716616119463, 0.8254949642161284, 0.8226791159737743, 0.837521989850875, 0.8486971139932848, 0.8369739126585196, 0.6958127791658496, 0.6590522756335401, 0.8107484726927803, 0.8199047292957383, 0.8350238727127316, 0.8317642064309331, 0.83917675593432, 0.8310814424307459, 0.8286502233989385, 0.8356939471361367, 0.8362080782285558, 0.4256919325835792, 0.7794445262471194, 0.8276348280377196, 0.8063382241228494, 0.6524509385898838, 0.4256919325835792, 0.8217990152936834, 0.7964861466325314, 0.824157022774252, 0.8346434194410195, 0.6565523752275386, 0.8247775612829082, 0.8076687950247099, 0.8260291015595834, 0.8505332713268803, 0.8529642280815539]}, {\"categories\": [\"0\", \"1\", \"2\", \"3\", \"4\", \"5\", \"6\", \"7\", \"8\", \"9\", \"10\", \"11\", \"12\", \"13\", \"14\", \"15\", \"16\", \"17\", \"18\", \"19\", \"20\", \"21\", \"22\", \"23\", \"24\", \"25\", \"26\", \"27\", \"28\", \"29\", \"30\", \"31\", \"32\", \"33\", \"34\", \"36\", \"37\", \"38\", \"41\", \"48\", \"49\"], \"mode\": \"lines\", \"name\": \"f1_score_weighted_max\", \"stepped\": true, \"type\": \"scatter\", \"data\": [0.7856959622652464, 0.8438319621607622, 0.8438319621607622, 0.8438319621607622, 0.8438319621607622, 0.8438319621607622, 0.8438319621607622, 0.8438319621607622, 0.8438319621607622, 0.8438319621607622, 0.8438319621607622, 0.8438319621607622, 0.8486971139932848, 0.8486971139932848, 0.8486971139932848, 0.8486971139932848, 0.8486971139932848, 0.8486971139932848, 0.8486971139932848, 0.8486971139932848, 0.8486971139932848, 0.8486971139932848, 0.8486971139932848, 0.8486971139932848, 0.8486971139932848, 0.8486971139932848, 0.8486971139932848, 0.8486971139932848, 0.8486971139932848, 0.8486971139932848, 0.8486971139932848, 0.8486971139932848, 0.8486971139932848, 0.8486971139932848, 0.8486971139932848, 0.8486971139932848, 0.8486971139932848, 0.8486971139932848, 0.8486971139932848, 0.8505332713268803, 0.8529642280815539]}], \"weighted_accuracy\": [{\"categories\": [\"0\", \"1\", \"2\", \"3\", \"4\", \"5\", \"6\", \"7\", \"8\", \"9\", \"10\", \"11\", \"12\", \"13\", \"14\", \"15\", \"16\", \"17\", \"18\", \"19\", \"20\", \"21\", \"22\", \"23\", \"24\", \"25\", \"26\", \"27\", \"28\", \"29\", \"30\", \"31\", \"32\", \"33\", \"34\", \"36\", \"37\", \"38\", \"41\", \"48\", \"49\"], \"mode\": \"markers\", \"name\": \"weighted_accuracy\", \"stepped\": false, \"type\": \"scatter\", \"data\": [0.8800243697937619, 0.9211108543180246, 0.9261904678165447, 0.8780277467299124, 0.7404099486929282, 0.7982456708923069, 0.8778982872523894, 0.9029099273664206, 0.905967208642872, 0.9203022010639282, 0.9172610429155398, 0.9146448232677582, 0.9220771338986381, 0.9204822312788703, 0.8960051552167716, 0.8900494029346773, 0.9272356272341558, 0.9188497149654469, 0.9355944778391342, 0.9207904563089718, 0.9357595913982534, 0.9217176489435968, 0.9275561857672809, 0.9306912819557296, 0.9196587933660547, 0.8180480092438309, 0.9182671325797491, 0.9255201515370496, 0.9270120120794234, 0.9027904632946923, 0.8180480092438309, 0.9320403765834522, 0.9234462137533814, 0.9143666486872126, 0.9229482934210711, 0.9017323125289678, 0.9274919333360243, 0.9277958437074864, 0.9215596180484071, 0.9425678676969792, 0.9289397655341085]}, {\"categories\": [\"0\", \"1\", \"2\", \"3\", \"4\", \"5\", \"6\", \"7\", \"8\", \"9\", \"10\", \"11\", \"12\", \"13\", \"14\", \"15\", \"16\", \"17\", \"18\", \"19\", \"20\", \"21\", \"22\", \"23\", \"24\", \"25\", \"26\", \"27\", \"28\", \"29\", \"30\", \"31\", \"32\", \"33\", \"34\", \"36\", \"37\", \"38\", \"41\", \"48\", \"49\"], \"mode\": \"lines\", \"name\": \"weighted_accuracy_max\", \"stepped\": true, \"type\": \"scatter\", \"data\": [0.8800243697937619, 0.9211108543180246, 0.9261904678165447, 0.9261904678165447, 0.9261904678165447, 0.9261904678165447, 0.9261904678165447, 0.9261904678165447, 0.9261904678165447, 0.9261904678165447, 0.9261904678165447, 0.9261904678165447, 0.9261904678165447, 0.9261904678165447, 0.9261904678165447, 0.9261904678165447, 0.9272356272341558, 0.9272356272341558, 0.9355944778391342, 0.9355944778391342, 0.9357595913982534, 0.9357595913982534, 0.9357595913982534, 0.9357595913982534, 0.9357595913982534, 0.9357595913982534, 0.9357595913982534, 0.9357595913982534, 0.9357595913982534, 0.9357595913982534, 0.9357595913982534, 0.9357595913982534, 0.9357595913982534, 0.9357595913982534, 0.9357595913982534, 0.9357595913982534, 0.9357595913982534, 0.9357595913982534, 0.9357595913982534, 0.9425678676969792, 0.9425678676969792]}], \"f1_score_macro\": [{\"categories\": [\"0\", \"1\", \"2\", \"3\", \"4\", \"5\", \"6\", \"7\", \"8\", \"9\", \"10\", \"11\", \"12\", \"13\", \"14\", \"15\", \"16\", \"17\", \"18\", \"19\", \"20\", \"21\", \"22\", \"23\", \"24\", \"25\", \"26\", \"27\", \"28\", \"29\", \"30\", \"31\", \"32\", \"33\", \"34\", \"36\", \"37\", \"38\", \"41\", \"48\", \"49\"], \"mode\": \"markers\", \"name\": \"f1_score_macro\", \"stepped\": false, \"type\": \"scatter\", \"data\": [0.665955199187966, 0.7740009273722558, 0.6981005917219532, 0.3505397674822208, 0.5727236158404037, 0.651839918317936, 0.5239939341272026, 0.4076561216589122, 0.7565482494203783, 0.7434979791487139, 0.7498907398437074, 0.7728882917299241, 0.7890025925785886, 0.7670466238869095, 0.5037424009937068, 0.4052767239511482, 0.7264301111424364, 0.7356747804700292, 0.7617830661941508, 0.7539029931385945, 0.77227175405572, 0.7477738271643929, 0.7580264140618789, 0.7594657938764189, 0.765465284228249, 0.18329855657564492, 0.6825609188243208, 0.7550298965143909, 0.7152789271361825, 0.4017854235915365, 0.18329855657564492, 0.7394749052648149, 0.714164231688861, 0.7391469041697806, 0.7534969820112892, 0.4034819843331568, 0.7507614236266922, 0.7323140815385495, 0.7458104413285938, 0.78308235331467, 0.7774422914864731]}, {\"categories\": [\"0\", \"1\", \"2\", \"3\", \"4\", \"5\", \"6\", \"7\", \"8\", \"9\", \"10\", \"11\", \"12\", \"13\", \"14\", \"15\", \"16\", \"17\", \"18\", \"19\", \"20\", \"21\", \"22\", \"23\", \"24\", \"25\", \"26\", \"27\", \"28\", \"29\", \"30\", \"31\", \"32\", \"33\", \"34\", \"36\", \"37\", \"38\", \"41\", \"48\", \"49\"], \"mode\": \"lines\", \"name\": \"f1_score_macro_max\", \"stepped\": true, \"type\": \"scatter\", \"data\": [0.665955199187966, 0.7740009273722558, 0.7740009273722558, 0.7740009273722558, 0.7740009273722558, 0.7740009273722558, 0.7740009273722558, 0.7740009273722558, 0.7740009273722558, 0.7740009273722558, 0.7740009273722558, 0.7740009273722558, 0.7890025925785886, 0.7890025925785886, 0.7890025925785886, 0.7890025925785886, 0.7890025925785886, 0.7890025925785886, 0.7890025925785886, 0.7890025925785886, 0.7890025925785886, 0.7890025925785886, 0.7890025925785886, 0.7890025925785886, 0.7890025925785886, 0.7890025925785886, 0.7890025925785886, 0.7890025925785886, 0.7890025925785886, 0.7890025925785886, 0.7890025925785886, 0.7890025925785886, 0.7890025925785886, 0.7890025925785886, 0.7890025925785886, 0.7890025925785886, 0.7890025925785886, 0.7890025925785886, 0.7890025925785886, 0.7890025925785886, 0.7890025925785886]}], \"average_precision_score_micro\": [{\"categories\": [\"0\", \"1\", \"2\", \"3\", \"4\", \"5\", \"6\", \"7\", \"8\", \"9\", \"10\", \"11\", \"12\", \"13\", \"14\", \"15\", \"16\", \"17\", \"18\", \"19\", \"20\", \"21\", \"22\", \"23\", \"24\", \"25\", \"26\", \"27\", \"28\", \"29\", \"30\", \"31\", \"32\", \"33\", \"34\", \"36\", \"37\", \"38\", \"41\", \"48\", \"49\"], \"mode\": \"markers\", \"name\": \"average_precision_score_micro\", \"stepped\": false, \"type\": \"scatter\", \"data\": [0.8988494893409442, 0.9275142940134629, 0.905331406702684, 0.7851034409758284, 0.772635497552662, 0.8702359626230333, 0.8626644914535531, 0.8256738998552073, 0.9235620401999085, 0.9022643688886364, 0.9190496912400532, 0.9256427564468914, 0.922650977838023, 0.9177736664882709, 0.8623425522236989, 0.8154337965193414, 0.9029715250811575, 0.9219235013430325, 0.9287169800731764, 0.929025974175962, 0.9255245857173545, 0.9266872346450296, 0.9134243178275938, 0.9246703641649571, 0.9279030778631675, 0.48111347286531564, 0.8730609046171305, 0.9214644953830113, 0.9069762029680708, 0.8093115278565813, 0.48111347286531564, 0.9207254145321244, 0.8837676164737545, 0.9234903819225547, 0.9274648602431445, 0.8135384498565965, 0.924354926982628, 0.8816131158599327, 0.9172489803948913, 0.9357323306605096, 0.9404652124838547]}, {\"categories\": [\"0\", \"1\", \"2\", \"3\", \"4\", \"5\", \"6\", \"7\", \"8\", \"9\", \"10\", \"11\", \"12\", \"13\", \"14\", \"15\", \"16\", \"17\", \"18\", \"19\", \"20\", \"21\", \"22\", \"23\", \"24\", \"25\", \"26\", \"27\", \"28\", \"29\", \"30\", \"31\", \"32\", \"33\", \"34\", \"36\", \"37\", \"38\", \"41\", \"48\", \"49\"], \"mode\": \"lines\", \"name\": \"average_precision_score_micro_max\", \"stepped\": true, \"type\": \"scatter\", \"data\": [0.8988494893409442, 0.9275142940134629, 0.9275142940134629, 0.9275142940134629, 0.9275142940134629, 0.9275142940134629, 0.9275142940134629, 0.9275142940134629, 0.9275142940134629, 0.9275142940134629, 0.9275142940134629, 0.9275142940134629, 0.9275142940134629, 0.9275142940134629, 0.9275142940134629, 0.9275142940134629, 0.9275142940134629, 0.9275142940134629, 0.9287169800731764, 0.929025974175962, 0.929025974175962, 0.929025974175962, 0.929025974175962, 0.929025974175962, 0.929025974175962, 0.929025974175962, 0.929025974175962, 0.929025974175962, 0.929025974175962, 0.929025974175962, 0.929025974175962, 0.929025974175962, 0.929025974175962, 0.929025974175962, 0.929025974175962, 0.929025974175962, 0.929025974175962, 0.929025974175962, 0.929025974175962, 0.9357323306605096, 0.9404652124838547]}], \"norm_macro_recall\": [{\"categories\": [\"0\", \"1\", \"2\", \"3\", \"4\", \"5\", \"6\", \"7\", \"8\", \"9\", \"10\", \"11\", \"12\", \"13\", \"14\", \"15\", \"16\", \"17\", \"18\", \"19\", \"20\", \"21\", \"22\", \"23\", \"24\", \"25\", \"26\", \"27\", \"28\", \"29\", \"30\", \"31\", \"32\", \"33\", \"34\", \"36\", \"37\", \"38\", \"41\", \"48\", \"49\"], \"mode\": \"markers\", \"name\": \"norm_macro_recall\", \"stepped\": false, \"type\": \"scatter\", \"data\": [0.5399910754298938, 0.642364207004922, 0.5314939911343748, 0.16680439267545716, 0.467747540445577, 0.5761534486568157, 0.3609712614548862, 0.24077907426377307, 0.6415605423855056, 0.6075300290599884, 0.6086658154273213, 0.6477858513013396, 0.6687216863925597, 0.6401689741043931, 0.3340164295474932, 0.2463087797178829, 0.5647366829030825, 0.5985946308084695, 0.6134482655154778, 0.6238610558882295, 0.6335134686824259, 0.6170348926063743, 0.611629485850584, 0.6199608686702336, 0.6409987822126207, 0.0, 0.4928343590752802, 0.6133953479693395, 0.5431971496394112, 0.22237291610604956, 0.0, 0.5790308954459339, 0.5365200448701267, 0.6090234683465156, 0.6293364799079616, 0.23086091569599815, 0.6033621924926101, 0.5598012483438192, 0.6089988540362221, 0.6468907855827445, 0.6606780894381596]}, {\"categories\": [\"0\", \"1\", \"2\", \"3\", \"4\", \"5\", \"6\", \"7\", \"8\", \"9\", \"10\", \"11\", \"12\", \"13\", \"14\", \"15\", \"16\", \"17\", \"18\", \"19\", \"20\", \"21\", \"22\", \"23\", \"24\", \"25\", \"26\", \"27\", \"28\", \"29\", \"30\", \"31\", \"32\", \"33\", \"34\", \"36\", \"37\", \"38\", \"41\", \"48\", \"49\"], \"mode\": \"lines\", \"name\": \"norm_macro_recall_max\", \"stepped\": true, \"type\": \"scatter\", \"data\": [0.5399910754298938, 0.642364207004922, 0.642364207004922, 0.642364207004922, 0.642364207004922, 0.642364207004922, 0.642364207004922, 0.642364207004922, 0.642364207004922, 0.642364207004922, 0.642364207004922, 0.6477858513013396, 0.6687216863925597, 0.6687216863925597, 0.6687216863925597, 0.6687216863925597, 0.6687216863925597, 0.6687216863925597, 0.6687216863925597, 0.6687216863925597, 0.6687216863925597, 0.6687216863925597, 0.6687216863925597, 0.6687216863925597, 0.6687216863925597, 0.6687216863925597, 0.6687216863925597, 0.6687216863925597, 0.6687216863925597, 0.6687216863925597, 0.6687216863925597, 0.6687216863925597, 0.6687216863925597, 0.6687216863925597, 0.6687216863925597, 0.6687216863925597, 0.6687216863925597, 0.6687216863925597, 0.6687216863925597, 0.6687216863925597, 0.6687216863925597]}], \"precision_score_macro\": [{\"categories\": [\"0\", \"1\", \"2\", \"3\", \"4\", \"5\", \"6\", \"7\", \"8\", \"9\", \"10\", \"11\", \"12\", \"13\", \"14\", \"15\", \"16\", \"17\", \"18\", \"19\", \"20\", \"21\", \"22\", \"23\", \"24\", \"25\", \"26\", \"27\", \"28\", \"29\", \"30\", \"31\", \"32\", \"33\", \"34\", \"36\", \"37\", \"38\", \"41\", \"48\", \"49\"], \"mode\": \"markers\", \"name\": \"precision_score_macro\", \"stepped\": false, \"type\": \"scatter\", \"data\": [0.7142453386577661, 0.8504334831834832, 0.8596188811188812, 0.406863500849569, 0.5791486478719472, 0.6698485743641933, 0.5839501361425194, 0.4073485054930643, 0.8185587490907456, 0.8228807114666636, 0.854784286619813, 0.8543257761301242, 0.8621256880673356, 0.8438039948615831, 0.6645846166185936, 0.38780263002501225, 0.887297592203813, 0.8304347325349489, 0.883486588813593, 0.8349448326396522, 0.9033389614809522, 0.8310609685413004, 0.8719234670822225, 0.8807851407851407, 0.8485703690510954, 0.14486076986076984, 0.920925556111001, 0.8641411877596088, 0.9108128064417592, 0.4208249190468648, 0.14486076986076984, 0.8997485932926452, 0.9039139765943206, 0.8214939463531014, 0.8384293997220281, 0.40895177093008944, 0.8710242623741846, 0.9294692465537198, 0.8435812068048911, 0.9003002540510868, 0.838257842025722]}, {\"categories\": [\"0\", \"1\", \"2\", \"3\", \"4\", \"5\", \"6\", \"7\", \"8\", \"9\", \"10\", \"11\", \"12\", \"13\", \"14\", \"15\", \"16\", \"17\", \"18\", \"19\", \"20\", \"21\", \"22\", \"23\", \"24\", \"25\", \"26\", \"27\", \"28\", \"29\", \"30\", \"31\", \"32\", \"33\", \"34\", \"36\", \"37\", \"38\", \"41\", \"48\", \"49\"], \"mode\": \"lines\", \"name\": \"precision_score_macro_max\", \"stepped\": true, \"type\": \"scatter\", \"data\": [0.7142453386577661, 0.8504334831834832, 0.8596188811188812, 0.8596188811188812, 0.8596188811188812, 0.8596188811188812, 0.8596188811188812, 0.8596188811188812, 0.8596188811188812, 0.8596188811188812, 0.8596188811188812, 0.8596188811188812, 0.8621256880673356, 0.8621256880673356, 0.8621256880673356, 0.8621256880673356, 0.887297592203813, 0.887297592203813, 0.887297592203813, 0.887297592203813, 0.9033389614809522, 0.9033389614809522, 0.9033389614809522, 0.9033389614809522, 0.9033389614809522, 0.9033389614809522, 0.920925556111001, 0.920925556111001, 0.920925556111001, 0.920925556111001, 0.920925556111001, 0.920925556111001, 0.920925556111001, 0.920925556111001, 0.920925556111001, 0.920925556111001, 0.920925556111001, 0.9294692465537198, 0.9294692465537198, 0.9294692465537198, 0.9294692465537198]}], \"accuracy\": [{\"categories\": [\"0\", \"1\", \"2\", \"3\", \"4\", \"5\", \"6\", \"7\", \"8\", \"9\", \"10\", \"11\", \"12\", \"13\", \"14\", \"15\", \"16\", \"17\", \"18\", \"19\", \"20\", \"21\", \"22\", \"23\", \"24\", \"25\", \"26\", \"27\", \"28\", \"29\", \"30\", \"31\", \"32\", \"33\", \"34\", \"36\", \"37\", \"38\", \"41\", \"48\", \"49\"], \"mode\": \"markers\", \"name\": \"accuracy\", \"stepped\": false, \"type\": \"scatter\", \"data\": [0.7978050778050778, 0.8519246519246518, 0.8285012285012285, 0.6896314496314496, 0.6929238329238329, 0.7545126945126944, 0.7472072072072071, 0.7400819000819001, 0.8411138411138411, 0.8393447993447994, 0.8375102375102375, 0.8465028665028665, 0.8573791973791975, 0.8483701883701883, 0.7545290745290745, 0.7364619164619165, 0.8303030303030303, 0.8356920556920556, 0.8501719901719902, 0.8447338247338247, 0.8537755937755938, 0.842932022932023, 0.842964782964783, 0.8501719901719902, 0.8483046683046684, 0.5794430794430794, 0.8032596232596234, 0.842932022932023, 0.8266994266994268, 0.7310728910728911, 0.5794430794430794, 0.8393120393120392, 0.8176904176904177, 0.8374774774774775, 0.8465356265356265, 0.7346601146601147, 0.8411138411138411, 0.8266830466830466, 0.8411302211302212, 0.8646355446355447, 0.8627518427518428]}, {\"categories\": [\"0\", \"1\", \"2\", \"3\", \"4\", \"5\", \"6\", \"7\", \"8\", \"9\", \"10\", \"11\", \"12\", \"13\", \"14\", \"15\", \"16\", \"17\", \"18\", \"19\", \"20\", \"21\", \"22\", \"23\", \"24\", \"25\", \"26\", \"27\", \"28\", \"29\", \"30\", \"31\", \"32\", \"33\", \"34\", \"36\", \"37\", \"38\", \"41\", \"48\", \"49\"], \"mode\": \"lines\", \"name\": \"accuracy_max\", \"stepped\": true, \"type\": \"scatter\", \"data\": [0.7978050778050778, 0.8519246519246518, 0.8519246519246518, 0.8519246519246518, 0.8519246519246518, 0.8519246519246518, 0.8519246519246518, 0.8519246519246518, 0.8519246519246518, 0.8519246519246518, 0.8519246519246518, 0.8519246519246518, 0.8573791973791975, 0.8573791973791975, 0.8573791973791975, 0.8573791973791975, 0.8573791973791975, 0.8573791973791975, 0.8573791973791975, 0.8573791973791975, 0.8573791973791975, 0.8573791973791975, 0.8573791973791975, 0.8573791973791975, 0.8573791973791975, 0.8573791973791975, 0.8573791973791975, 0.8573791973791975, 0.8573791973791975, 0.8573791973791975, 0.8573791973791975, 0.8573791973791975, 0.8573791973791975, 0.8573791973791975, 0.8573791973791975, 0.8573791973791975, 0.8573791973791975, 0.8573791973791975, 0.8573791973791975, 0.8646355446355447, 0.8646355446355447]}]}, \"metricName\": null, \"primaryMetricName\": \"accuracy\", \"showLegend\": false}, \"run_metrics\": [{\"name\": \"experiment_status\", \"run_id\": \"AutoML_2aadb2b0-9913-4585-ac5f-caa597a91ef1\", \"categories\": [0, 1, 2, 3, 4, 5, 6, 7, 8, 9, 10, 11, 12, 13, 14], \"series\": [{\"data\": [\"DatasetEvaluation\", \"FeaturesGeneration\", \"DatasetFeaturization\", \"DatasetFeaturizationCompleted\", \"DatasetBalancing\", \"DatasetCrossValidationSplit\", \"ModelSelection\", \"BestRunExplainModel\", \"ModelExplanationDataSetSetup\", \"PickSurrogateModel\", \"EngineeredFeatureExplanations\", \"EngineeredFeatureExplanations\", \"RawFeaturesExplanations\", \"RawFeaturesExplanations\", \"BestRunExplainModel\"]}]}, {\"name\": \"experiment_status_description\", \"run_id\": \"AutoML_2aadb2b0-9913-4585-ac5f-caa597a91ef1\", \"categories\": [0, 1, 2, 3, 4, 5, 6, 7, 8, 9, 10, 11, 12, 13, 14], \"series\": [{\"data\": [\"Gathering dataset statistics.\", \"Generating features for the dataset.\", \"Beginning to fit featurizers and featurize the dataset.\", \"Completed fit featurizers and featurizing the dataset.\", \"Performing class balancing sweeping\", \"Generating individually featurized CV splits.\", \"Beginning model selection.\", \"Best run model explanations started\", \"Model explanations data setup completed\", \"Choosing LinearModel as the surrogate model for explanations\", \"Computation of engineered features started\", \"Computation of engineered features completed\", \"Computation of raw features started\", \"Computation of raw features completed\", \"Best run model explanations completed\"]}]}, {\"name\": \"f1_score_weighted\", \"run_id\": \"AutoML_2aadb2b0-9913-4585-ac5f-caa597a91ef1\", \"categories\": [0], \"series\": [{\"data\": [0.8505332713268803]}]}, {\"name\": \"AUC_macro\", \"run_id\": \"AutoML_2aadb2b0-9913-4585-ac5f-caa597a91ef1\", \"categories\": [0], \"series\": [{\"data\": [0.9531536728491561]}]}, {\"name\": \"f1_score_macro\", \"run_id\": \"AutoML_2aadb2b0-9913-4585-ac5f-caa597a91ef1\", \"categories\": [0], \"series\": [{\"data\": [0.78308235331467]}]}, {\"name\": \"AUC_micro\", \"run_id\": \"AutoML_2aadb2b0-9913-4585-ac5f-caa597a91ef1\", \"categories\": [0], \"series\": [{\"data\": [0.9696338844987494]}]}, {\"name\": \"weighted_accuracy\", \"run_id\": \"AutoML_2aadb2b0-9913-4585-ac5f-caa597a91ef1\", \"categories\": [0], \"series\": [{\"data\": [0.9425678676969792]}]}, {\"name\": \"average_precision_score_micro\", \"run_id\": \"AutoML_2aadb2b0-9913-4585-ac5f-caa597a91ef1\", \"categories\": [0], \"series\": [{\"data\": [0.9357323306605096]}]}, {\"name\": \"recall_score_macro\", \"run_id\": \"AutoML_2aadb2b0-9913-4585-ac5f-caa597a91ef1\", \"categories\": [0], \"series\": [{\"data\": [0.7351680891870582]}]}, {\"name\": \"log_loss\", \"run_id\": \"AutoML_2aadb2b0-9913-4585-ac5f-caa597a91ef1\", \"categories\": [0], \"series\": [{\"data\": [0.4456959864618465]}]}, {\"name\": \"norm_macro_recall\", \"run_id\": \"AutoML_2aadb2b0-9913-4585-ac5f-caa597a91ef1\", \"categories\": [0], \"series\": [{\"data\": [0.6468907855827445]}]}, {\"name\": \"precision_score_weighted\", \"run_id\": \"AutoML_2aadb2b0-9913-4585-ac5f-caa597a91ef1\", \"categories\": [0], \"series\": [{\"data\": [0.874928891324742]}]}, {\"name\": \"matthews_correlation\", \"run_id\": \"AutoML_2aadb2b0-9913-4585-ac5f-caa597a91ef1\", \"categories\": [0], \"series\": [{\"data\": [0.7701873660869588]}]}, {\"name\": \"precision_score_micro\", \"run_id\": \"AutoML_2aadb2b0-9913-4585-ac5f-caa597a91ef1\", \"categories\": [0], \"series\": [{\"data\": [0.8646355446355447]}]}, {\"name\": \"f1_score_micro\", \"run_id\": \"AutoML_2aadb2b0-9913-4585-ac5f-caa597a91ef1\", \"categories\": [0], \"series\": [{\"data\": [0.8646355446355447]}]}, {\"name\": \"balanced_accuracy\", \"run_id\": \"AutoML_2aadb2b0-9913-4585-ac5f-caa597a91ef1\", \"categories\": [0], \"series\": [{\"data\": [0.7351680891870582]}]}, {\"name\": \"precision_score_macro\", \"run_id\": \"AutoML_2aadb2b0-9913-4585-ac5f-caa597a91ef1\", \"categories\": [0], \"series\": [{\"data\": [0.9003002540510868]}]}, {\"name\": \"recall_score_micro\", \"run_id\": \"AutoML_2aadb2b0-9913-4585-ac5f-caa597a91ef1\", \"categories\": [0], \"series\": [{\"data\": [0.8646355446355447]}]}, {\"name\": \"recall_score_weighted\", \"run_id\": \"AutoML_2aadb2b0-9913-4585-ac5f-caa597a91ef1\", \"categories\": [0], \"series\": [{\"data\": [0.8646355446355447]}]}, {\"name\": \"accuracy\", \"run_id\": \"AutoML_2aadb2b0-9913-4585-ac5f-caa597a91ef1\", \"categories\": [0], \"series\": [{\"data\": [0.8646355446355447]}]}, {\"name\": \"average_precision_score_weighted\", \"run_id\": \"AutoML_2aadb2b0-9913-4585-ac5f-caa597a91ef1\", \"categories\": [0], \"series\": [{\"data\": [0.9297741736377813]}]}, {\"name\": \"AUC_weighted\", \"run_id\": \"AutoML_2aadb2b0-9913-4585-ac5f-caa597a91ef1\", \"categories\": [0], \"series\": [{\"data\": [0.9611078680477609]}]}, {\"name\": \"average_precision_score_macro\", \"run_id\": \"AutoML_2aadb2b0-9913-4585-ac5f-caa597a91ef1\", \"categories\": [0], \"series\": [{\"data\": [0.8620892631329367]}]}], \"run_logs\": \"\\nRun is completed.\", \"graph\": {}, \"widget_settings\": {\"childWidgetDisplay\": \"popup\", \"send_telemetry\": false, \"log_level\": \"INFO\", \"sdk_version\": \"1.19.0\"}, \"loading\": false}"
     },
     "metadata": {},
     "output_type": "display_data"
    }
   ],
   "source": [
    "RunDetails(remote_run).show()"
   ]
  },
  {
   "cell_type": "markdown",
   "metadata": {},
   "source": [
    "## Run Details\n",
    "\n",
    "OPTIONAL: Write about the different models trained and their performance. Why do you think some models did better than others?\n",
    "\n",
    "TODO: In the cell below, use the `RunDetails` widget to show the different experiments."
   ]
  },
  {
   "cell_type": "markdown",
   "metadata": {},
   "source": [
    "## Best Model\n",
    "\n",
    "TODO: In the cell below, get the best model from the automl experiments and display all the properties of the model.\n",
    "\n"
   ]
  },
  {
   "cell_type": "code",
   "execution_count": 40,
   "metadata": {
    "gather": {
     "logged": 1609929605589
    },
    "jupyter": {
     "outputs_hidden": false,
     "source_hidden": false
    },
    "nteract": {
     "transient": {
      "deleting": false
     }
    }
   },
   "outputs": [],
   "source": [
    "best_run, fitted_model= remote_run.get_output()"
   ]
  },
  {
   "cell_type": "code",
   "execution_count": 41,
   "metadata": {
    "gather": {
     "logged": 1609929605995
    },
    "jupyter": {
     "outputs_hidden": false,
     "source_hidden": false
    },
    "nteract": {
     "transient": {
      "deleting": false
     }
    }
   },
   "outputs": [
    {
     "name": "stdout",
     "output_type": "stream",
     "text": [
      "Run(Experiment: mental-health-classification,\n",
      "Id: AutoML_2aadb2b0-9913-4585-ac5f-caa597a91ef1_48,\n",
      "Type: azureml.scriptrun,\n",
      "Status: Completed)\n"
     ]
    }
   ],
   "source": [
    "print(best_run)"
   ]
  },
  {
   "cell_type": "code",
   "execution_count": 19,
   "metadata": {
    "gather": {
     "logged": 1609929606347
    },
    "jupyter": {
     "outputs_hidden": false,
     "source_hidden": false
    },
    "nteract": {
     "transient": {
      "deleting": false
     }
    }
   },
   "outputs": [
    {
     "name": "stdout",
     "output_type": "stream",
     "text": [
      "Pipeline(memory=None,\n",
      "         steps=[('datatransformer',\n",
      "                 DataTransformer(enable_dnn=None, enable_feature_sweeping=None,\n",
      "                                 feature_sweeping_config=None,\n",
      "                                 feature_sweeping_timeout=None,\n",
      "                                 featurization_config=None, force_text_dnn=None,\n",
      "                                 is_cross_validation=None,\n",
      "                                 is_onnx_compatible=None, logger=None,\n",
      "                                 observer=None, task=None, working_dir=None)),\n",
      "                ('prefittedsoftvotingclassifier',...\n",
      "                                                                                                intercept_scaling=1,\n",
      "                                                                                                l1_ratio=None,\n",
      "                                                                                                max_iter=100,\n",
      "                                                                                                multi_class='multinomial',\n",
      "                                                                                                n_jobs=1,\n",
      "                                                                                                penalty='l2',\n",
      "                                                                                                random_state=None,\n",
      "                                                                                                solver='lbfgs',\n",
      "                                                                                                tol=0.0001,\n",
      "                                                                                                verbose=0,\n",
      "                                                                                                warm_start=False))],\n",
      "                                                                     verbose=False))],\n",
      "                                               flatten_transform=None,\n",
      "                                               weights=[0.16666666666666666,\n",
      "                                                        0.16666666666666666,\n",
      "                                                        0.16666666666666666,\n",
      "                                                        0.16666666666666666,\n",
      "                                                        0.16666666666666666,\n",
      "                                                        0.16666666666666666]))],\n",
      "         verbose=False)\n",
      "Y_transformer(['LabelEncoder', LabelEncoder()])\n"
     ]
    }
   ],
   "source": [
    "print(fitted_model)"
   ]
  },
  {
   "cell_type": "code",
   "execution_count": 42,
   "metadata": {
    "gather": {
     "logged": 1609929607074
    },
    "jupyter": {
     "outputs_hidden": false,
     "source_hidden": false
    },
    "nteract": {
     "transient": {
      "deleting": false
     }
    }
   },
   "outputs": [
    {
     "data": {
      "text/plain": [
       "['text_CharGramTfIdf_ , ',\n",
       " 'text_CharGramTfIdf_ ,h',\n",
       " 'text_CharGramTfIdf_ ,n',\n",
       " 'text_CharGramTfIdf_ -d',\n",
       " 'text_CharGramTfIdf_ -h',\n",
       " 'text_CharGramTfIdf_ a ',\n",
       " 'text_CharGramTfIdf_ ab',\n",
       " 'text_CharGramTfIdf_ ac',\n",
       " 'text_CharGramTfIdf_ ad',\n",
       " 'text_CharGramTfIdf_ af',\n",
       " 'text_CharGramTfIdf_ ag',\n",
       " 'text_CharGramTfIdf_ ah',\n",
       " 'text_CharGramTfIdf_ al',\n",
       " 'text_CharGramTfIdf_ am',\n",
       " 'text_CharGramTfIdf_ an',\n",
       " 'text_CharGramTfIdf_ ap',\n",
       " 'text_CharGramTfIdf_ ar',\n",
       " 'text_CharGramTfIdf_ as',\n",
       " 'text_CharGramTfIdf_ at',\n",
       " 'text_CharGramTfIdf_ av',\n",
       " 'text_CharGramTfIdf_ aw',\n",
       " 'text_CharGramTfIdf_ ba',\n",
       " 'text_CharGramTfIdf_ be',\n",
       " 'text_CharGramTfIdf_ bh',\n",
       " 'text_CharGramTfIdf_ bo',\n",
       " 'text_CharGramTfIdf_ br',\n",
       " 'text_CharGramTfIdf_ bu',\n",
       " 'text_CharGramTfIdf_ by',\n",
       " 'text_CharGramTfIdf_ ca',\n",
       " 'text_CharGramTfIdf_ ce',\n",
       " 'text_CharGramTfIdf_ ch',\n",
       " 'text_CharGramTfIdf_ cl',\n",
       " 'text_CharGramTfIdf_ co',\n",
       " 'text_CharGramTfIdf_ cr',\n",
       " 'text_CharGramTfIdf_ cu',\n",
       " 'text_CharGramTfIdf_ d ',\n",
       " 'text_CharGramTfIdf_ da',\n",
       " 'text_CharGramTfIdf_ de',\n",
       " 'text_CharGramTfIdf_ di',\n",
       " 'text_CharGramTfIdf_ do',\n",
       " 'text_CharGramTfIdf_ dr',\n",
       " 'text_CharGramTfIdf_ du',\n",
       " 'text_CharGramTfIdf_ ea',\n",
       " 'text_CharGramTfIdf_ ed',\n",
       " 'text_CharGramTfIdf_ ef',\n",
       " 'text_CharGramTfIdf_ el',\n",
       " 'text_CharGramTfIdf_ em',\n",
       " 'text_CharGramTfIdf_ en',\n",
       " 'text_CharGramTfIdf_ es',\n",
       " 'text_CharGramTfIdf_ ev',\n",
       " 'text_CharGramTfIdf_ ex',\n",
       " 'text_CharGramTfIdf_ fa',\n",
       " 'text_CharGramTfIdf_ fe',\n",
       " 'text_CharGramTfIdf_ fg',\n",
       " 'text_CharGramTfIdf_ fi',\n",
       " 'text_CharGramTfIdf_ fl',\n",
       " 'text_CharGramTfIdf_ fo',\n",
       " 'text_CharGramTfIdf_ fr',\n",
       " 'text_CharGramTfIdf_ fu',\n",
       " 'text_CharGramTfIdf_ ga',\n",
       " 'text_CharGramTfIdf_ ge',\n",
       " 'text_CharGramTfIdf_ gi',\n",
       " 'text_CharGramTfIdf_ go',\n",
       " 'text_CharGramTfIdf_ gr',\n",
       " 'text_CharGramTfIdf_ gu',\n",
       " 'text_CharGramTfIdf_ ha',\n",
       " 'text_CharGramTfIdf_ he',\n",
       " 'text_CharGramTfIdf_ hi',\n",
       " 'text_CharGramTfIdf_ ho',\n",
       " 'text_CharGramTfIdf_ hu',\n",
       " 'text_CharGramTfIdf_ hw',\n",
       " 'text_CharGramTfIdf_ hy',\n",
       " 'text_CharGramTfIdf_ i ',\n",
       " \"text_CharGramTfIdf_ i'\",\n",
       " 'text_CharGramTfIdf_ if',\n",
       " 'text_CharGramTfIdf_ ig',\n",
       " 'text_CharGramTfIdf_ ii',\n",
       " 'text_CharGramTfIdf_ im',\n",
       " 'text_CharGramTfIdf_ in',\n",
       " 'text_CharGramTfIdf_ ir',\n",
       " 'text_CharGramTfIdf_ is',\n",
       " 'text_CharGramTfIdf_ it',\n",
       " 'text_CharGramTfIdf_ jo',\n",
       " 'text_CharGramTfIdf_ ju',\n",
       " 'text_CharGramTfIdf_ ke',\n",
       " 'text_CharGramTfIdf_ ki',\n",
       " 'text_CharGramTfIdf_ kn',\n",
       " 'text_CharGramTfIdf_ la',\n",
       " 'text_CharGramTfIdf_ le',\n",
       " 'text_CharGramTfIdf_ li',\n",
       " 'text_CharGramTfIdf_ lo',\n",
       " 'text_CharGramTfIdf_ ma',\n",
       " 'text_CharGramTfIdf_ me',\n",
       " 'text_CharGramTfIdf_ mi',\n",
       " 'text_CharGramTfIdf_ mo',\n",
       " 'text_CharGramTfIdf_ mu',\n",
       " 'text_CharGramTfIdf_ my',\n",
       " 'text_CharGramTfIdf_ ne',\n",
       " 'text_CharGramTfIdf_ no',\n",
       " 'text_CharGramTfIdf_ np',\n",
       " 'text_CharGramTfIdf_ o ',\n",
       " 'text_CharGramTfIdf_ oc',\n",
       " 'text_CharGramTfIdf_ of',\n",
       " 'text_CharGramTfIdf_ ok',\n",
       " 'text_CharGramTfIdf_ ol',\n",
       " 'text_CharGramTfIdf_ on',\n",
       " 'text_CharGramTfIdf_ op',\n",
       " 'text_CharGramTfIdf_ or',\n",
       " 'text_CharGramTfIdf_ ot',\n",
       " 'text_CharGramTfIdf_ ou',\n",
       " 'text_CharGramTfIdf_ ov',\n",
       " 'text_CharGramTfIdf_ ow',\n",
       " 'text_CharGramTfIdf_ pa',\n",
       " 'text_CharGramTfIdf_ pe',\n",
       " 'text_CharGramTfIdf_ pi',\n",
       " 'text_CharGramTfIdf_ pl',\n",
       " 'text_CharGramTfIdf_ po',\n",
       " 'text_CharGramTfIdf_ pr',\n",
       " 'text_CharGramTfIdf_ ps',\n",
       " 'text_CharGramTfIdf_ pu',\n",
       " 'text_CharGramTfIdf_ qu',\n",
       " 'text_CharGramTfIdf_ ra',\n",
       " 'text_CharGramTfIdf_ re',\n",
       " 'text_CharGramTfIdf_ ri',\n",
       " 'text_CharGramTfIdf_ ro',\n",
       " 'text_CharGramTfIdf_ sa',\n",
       " 'text_CharGramTfIdf_ sc',\n",
       " 'text_CharGramTfIdf_ se',\n",
       " 'text_CharGramTfIdf_ sh',\n",
       " 'text_CharGramTfIdf_ si',\n",
       " 'text_CharGramTfIdf_ sl',\n",
       " 'text_CharGramTfIdf_ sm',\n",
       " 'text_CharGramTfIdf_ so',\n",
       " 'text_CharGramTfIdf_ sp',\n",
       " 'text_CharGramTfIdf_ st',\n",
       " 'text_CharGramTfIdf_ su',\n",
       " 'text_CharGramTfIdf_ ta',\n",
       " 'text_CharGramTfIdf_ te',\n",
       " 'text_CharGramTfIdf_ th',\n",
       " 'text_CharGramTfIdf_ ti',\n",
       " 'text_CharGramTfIdf_ to',\n",
       " 'text_CharGramTfIdf_ tr',\n",
       " 'text_CharGramTfIdf_ tw',\n",
       " 'text_CharGramTfIdf_ un',\n",
       " 'text_CharGramTfIdf_ up',\n",
       " 'text_CharGramTfIdf_ us',\n",
       " 'text_CharGramTfIdf_ ut',\n",
       " 'text_CharGramTfIdf_ va',\n",
       " 'text_CharGramTfIdf_ ve',\n",
       " 'text_CharGramTfIdf_ vi',\n",
       " 'text_CharGramTfIdf_ wa',\n",
       " 'text_CharGramTfIdf_ we',\n",
       " 'text_CharGramTfIdf_ wh',\n",
       " 'text_CharGramTfIdf_ wi',\n",
       " 'text_CharGramTfIdf_ wo',\n",
       " 'text_CharGramTfIdf_ ye',\n",
       " 'text_CharGramTfIdf_ yo',\n",
       " 'text_CharGramTfIdf_ …h',\n",
       " \"text_CharGramTfIdf_'m \",\n",
       " \"text_CharGramTfIdf_'s \",\n",
       " \"text_CharGramTfIdf_'t \",\n",
       " 'text_CharGramTfIdf_(po',\n",
       " 'text_CharGramTfIdf_)mo',\n",
       " 'text_CharGramTfIdf_, -',\n",
       " 'text_CharGramTfIdf_, a',\n",
       " 'text_CharGramTfIdf_, d',\n",
       " 'text_CharGramTfIdf_, e',\n",
       " 'text_CharGramTfIdf_, h',\n",
       " 'text_CharGramTfIdf_, i',\n",
       " 'text_CharGramTfIdf_, l',\n",
       " 'text_CharGramTfIdf_, m',\n",
       " 'text_CharGramTfIdf_, n',\n",
       " 'text_CharGramTfIdf_, p',\n",
       " 'text_CharGramTfIdf_, r',\n",
       " 'text_CharGramTfIdf_, s',\n",
       " 'text_CharGramTfIdf_, t',\n",
       " 'text_CharGramTfIdf_, u',\n",
       " 'text_CharGramTfIdf_, w',\n",
       " 'text_CharGramTfIdf_,ab',\n",
       " 'text_CharGramTfIdf_,al',\n",
       " 'text_CharGramTfIdf_,co',\n",
       " 'text_CharGramTfIdf_,di',\n",
       " 'text_CharGramTfIdf_,fe',\n",
       " 'text_CharGramTfIdf_,ha',\n",
       " 'text_CharGramTfIdf_,he',\n",
       " 'text_CharGramTfIdf_,ho',\n",
       " 'text_CharGramTfIdf_,i ',\n",
       " 'text_CharGramTfIdf_,is',\n",
       " 'text_CharGramTfIdf_,lo',\n",
       " 'text_CharGramTfIdf_,no',\n",
       " 'text_CharGramTfIdf_,sa',\n",
       " 'text_CharGramTfIdf_,sh',\n",
       " 'text_CharGramTfIdf_,si',\n",
       " 'text_CharGramTfIdf_,so',\n",
       " 'text_CharGramTfIdf_,st',\n",
       " 'text_CharGramTfIdf_,th',\n",
       " 'text_CharGramTfIdf_,un',\n",
       " 'text_CharGramTfIdf_,wa',\n",
       " 'text_CharGramTfIdf_,wh',\n",
       " 'text_CharGramTfIdf_,wi',\n",
       " 'text_CharGramTfIdf_-ar',\n",
       " 'text_CharGramTfIdf_-di',\n",
       " 'text_CharGramTfIdf_-ho',\n",
       " 'text_CharGramTfIdf_-on',\n",
       " 'text_CharGramTfIdf_. h',\n",
       " 'text_CharGramTfIdf_. i',\n",
       " 'text_CharGramTfIdf_. r',\n",
       " 'text_CharGramTfIdf_. w',\n",
       " 'text_CharGramTfIdf_/ r',\n",
       " 'text_CharGramTfIdf_/sh',\n",
       " 'text_CharGramTfIdf_? d',\n",
       " 'text_CharGramTfIdf_? o',\n",
       " 'text_CharGramTfIdf_? w',\n",
       " 'text_CharGramTfIdf_?wh',\n",
       " 'text_CharGramTfIdf_a b',\n",
       " 'text_CharGramTfIdf_a c',\n",
       " 'text_CharGramTfIdf_a d',\n",
       " 'text_CharGramTfIdf_a f',\n",
       " 'text_CharGramTfIdf_a g',\n",
       " 'text_CharGramTfIdf_a h',\n",
       " 'text_CharGramTfIdf_a l',\n",
       " 'text_CharGramTfIdf_a m',\n",
       " 'text_CharGramTfIdf_a n',\n",
       " 'text_CharGramTfIdf_a p',\n",
       " 'text_CharGramTfIdf_a r',\n",
       " 'text_CharGramTfIdf_a t',\n",
       " 'text_CharGramTfIdf_a w',\n",
       " 'text_CharGramTfIdf_a,h',\n",
       " 'text_CharGramTfIdf_aba',\n",
       " 'text_CharGramTfIdf_abi',\n",
       " 'text_CharGramTfIdf_abl',\n",
       " 'text_CharGramTfIdf_abo',\n",
       " 'text_CharGramTfIdf_abs',\n",
       " 'text_CharGramTfIdf_abu',\n",
       " 'text_CharGramTfIdf_aca',\n",
       " 'text_CharGramTfIdf_ace',\n",
       " 'text_CharGramTfIdf_ach',\n",
       " 'text_CharGramTfIdf_aci',\n",
       " 'text_CharGramTfIdf_ack',\n",
       " 'text_CharGramTfIdf_acr',\n",
       " 'text_CharGramTfIdf_act',\n",
       " 'text_CharGramTfIdf_acy',\n",
       " 'text_CharGramTfIdf_ad ',\n",
       " 'text_CharGramTfIdf_ad,',\n",
       " 'text_CharGramTfIdf_ad?',\n",
       " 'text_CharGramTfIdf_ada',\n",
       " 'text_CharGramTfIdf_add',\n",
       " 'text_CharGramTfIdf_ade',\n",
       " 'text_CharGramTfIdf_adn',\n",
       " 'text_CharGramTfIdf_adu',\n",
       " 'text_CharGramTfIdf_adv',\n",
       " 'text_CharGramTfIdf_afe',\n",
       " 'text_CharGramTfIdf_aff',\n",
       " 'text_CharGramTfIdf_aft',\n",
       " 'text_CharGramTfIdf_aga',\n",
       " 'text_CharGramTfIdf_age',\n",
       " 'text_CharGramTfIdf_ahd',\n",
       " 'text_CharGramTfIdf_ail',\n",
       " 'text_CharGramTfIdf_ain',\n",
       " 'text_CharGramTfIdf_air',\n",
       " 'text_CharGramTfIdf_ais',\n",
       " 'text_CharGramTfIdf_ak ',\n",
       " 'text_CharGramTfIdf_ak?',\n",
       " 'text_CharGramTfIdf_ake',\n",
       " 'text_CharGramTfIdf_aki',\n",
       " 'text_CharGramTfIdf_al ',\n",
       " 'text_CharGramTfIdf_alc',\n",
       " 'text_CharGramTfIdf_ali',\n",
       " 'text_CharGramTfIdf_alk',\n",
       " 'text_CharGramTfIdf_all',\n",
       " 'text_CharGramTfIdf_alm',\n",
       " 'text_CharGramTfIdf_alo',\n",
       " 'text_CharGramTfIdf_als',\n",
       " 'text_CharGramTfIdf_alt',\n",
       " 'text_CharGramTfIdf_alu',\n",
       " 'text_CharGramTfIdf_alw',\n",
       " 'text_CharGramTfIdf_am ',\n",
       " 'text_CharGramTfIdf_amb',\n",
       " 'text_CharGramTfIdf_ame',\n",
       " 'text_CharGramTfIdf_ami',\n",
       " 'text_CharGramTfIdf_amm',\n",
       " 'text_CharGramTfIdf_amp',\n",
       " 'text_CharGramTfIdf_ams',\n",
       " 'text_CharGramTfIdf_an ',\n",
       " \"text_CharGramTfIdf_an'\",\n",
       " 'text_CharGramTfIdf_ana',\n",
       " 'text_CharGramTfIdf_anc',\n",
       " 'text_CharGramTfIdf_and',\n",
       " 'text_CharGramTfIdf_ane',\n",
       " 'text_CharGramTfIdf_ang',\n",
       " 'text_CharGramTfIdf_ani',\n",
       " 'text_CharGramTfIdf_ank',\n",
       " 'text_CharGramTfIdf_ann',\n",
       " 'text_CharGramTfIdf_ano',\n",
       " 'text_CharGramTfIdf_ant',\n",
       " 'text_CharGramTfIdf_anu',\n",
       " 'text_CharGramTfIdf_anx',\n",
       " 'text_CharGramTfIdf_any',\n",
       " 'text_CharGramTfIdf_aot',\n",
       " 'text_CharGramTfIdf_apa',\n",
       " 'text_CharGramTfIdf_aph',\n",
       " 'text_CharGramTfIdf_app',\n",
       " 'text_CharGramTfIdf_ar ',\n",
       " 'text_CharGramTfIdf_ara',\n",
       " 'text_CharGramTfIdf_ard',\n",
       " 'text_CharGramTfIdf_are',\n",
       " 'text_CharGramTfIdf_arf',\n",
       " 'text_CharGramTfIdf_arg',\n",
       " 'text_CharGramTfIdf_ari',\n",
       " 'text_CharGramTfIdf_arm',\n",
       " 'text_CharGramTfIdf_aro',\n",
       " 'text_CharGramTfIdf_arr',\n",
       " 'text_CharGramTfIdf_art',\n",
       " 'text_CharGramTfIdf_as ',\n",
       " 'text_CharGramTfIdf_ase',\n",
       " 'text_CharGramTfIdf_asi',\n",
       " 'text_CharGramTfIdf_ask',\n",
       " 'text_CharGramTfIdf_aso',\n",
       " 'text_CharGramTfIdf_asp',\n",
       " 'text_CharGramTfIdf_ass',\n",
       " 'text_CharGramTfIdf_ast',\n",
       " 'text_CharGramTfIdf_asu',\n",
       " 'text_CharGramTfIdf_asy',\n",
       " 'text_CharGramTfIdf_at ',\n",
       " \"text_CharGramTfIdf_at'\",\n",
       " 'text_CharGramTfIdf_at(',\n",
       " 'text_CharGramTfIdf_ata',\n",
       " 'text_CharGramTfIdf_ate',\n",
       " 'text_CharGramTfIdf_ath',\n",
       " 'text_CharGramTfIdf_ati',\n",
       " 'text_CharGramTfIdf_ato',\n",
       " 'text_CharGramTfIdf_atr',\n",
       " 'text_CharGramTfIdf_att',\n",
       " 'text_CharGramTfIdf_aug',\n",
       " 'text_CharGramTfIdf_aus',\n",
       " 'text_CharGramTfIdf_ave',\n",
       " 'text_CharGramTfIdf_avi',\n",
       " 'text_CharGramTfIdf_avo',\n",
       " 'text_CharGramTfIdf_avy',\n",
       " 'text_CharGramTfIdf_aw ',\n",
       " 'text_CharGramTfIdf_awa',\n",
       " 'text_CharGramTfIdf_awf',\n",
       " 'text_CharGramTfIdf_awn',\n",
       " 'text_CharGramTfIdf_ax,',\n",
       " 'text_CharGramTfIdf_ay ',\n",
       " 'text_CharGramTfIdf_ay?',\n",
       " 'text_CharGramTfIdf_aye',\n",
       " 'text_CharGramTfIdf_ays',\n",
       " 'text_CharGramTfIdf_azy',\n",
       " 'text_CharGramTfIdf_b e',\n",
       " 'text_CharGramTfIdf_bab',\n",
       " 'text_CharGramTfIdf_bac',\n",
       " 'text_CharGramTfIdf_bad',\n",
       " 'text_CharGramTfIdf_ban',\n",
       " 'text_CharGramTfIdf_bas',\n",
       " 'text_CharGramTfIdf_be ',\n",
       " 'text_CharGramTfIdf_bea',\n",
       " 'text_CharGramTfIdf_bec',\n",
       " 'text_CharGramTfIdf_bed',\n",
       " 'text_CharGramTfIdf_bee',\n",
       " 'text_CharGramTfIdf_beh',\n",
       " 'text_CharGramTfIdf_bei',\n",
       " 'text_CharGramTfIdf_bel',\n",
       " 'text_CharGramTfIdf_ben',\n",
       " 'text_CharGramTfIdf_ber',\n",
       " 'text_CharGramTfIdf_bes',\n",
       " 'text_CharGramTfIdf_bet',\n",
       " 'text_CharGramTfIdf_bha',\n",
       " 'text_CharGramTfIdf_bil',\n",
       " 'text_CharGramTfIdf_bin',\n",
       " 'text_CharGramTfIdf_bit',\n",
       " 'text_CharGramTfIdf_ble',\n",
       " 'text_CharGramTfIdf_bli',\n",
       " 'text_CharGramTfIdf_bod',\n",
       " 'text_CharGramTfIdf_bor',\n",
       " 'text_CharGramTfIdf_bot',\n",
       " 'text_CharGramTfIdf_bou',\n",
       " 'text_CharGramTfIdf_bre',\n",
       " 'text_CharGramTfIdf_bro',\n",
       " 'text_CharGramTfIdf_bse',\n",
       " 'text_CharGramTfIdf_bts',\n",
       " 'text_CharGramTfIdf_bur',\n",
       " 'text_CharGramTfIdf_bus',\n",
       " 'text_CharGramTfIdf_but',\n",
       " 'text_CharGramTfIdf_by ',\n",
       " 'text_CharGramTfIdf_c i',\n",
       " 'text_CharGramTfIdf_c n',\n",
       " 'text_CharGramTfIdf_c p',\n",
       " 'text_CharGramTfIdf_c r',\n",
       " 'text_CharGramTfIdf_c t',\n",
       " 'text_CharGramTfIdf_c,s',\n",
       " 'text_CharGramTfIdf_cad',\n",
       " 'text_CharGramTfIdf_cal',\n",
       " 'text_CharGramTfIdf_cam',\n",
       " 'text_CharGramTfIdf_can',\n",
       " 'text_CharGramTfIdf_car',\n",
       " 'text_CharGramTfIdf_cat',\n",
       " 'text_CharGramTfIdf_cau',\n",
       " 'text_CharGramTfIdf_cce',\n",
       " 'text_CharGramTfIdf_cco',\n",
       " 'text_CharGramTfIdf_ccu',\n",
       " 'text_CharGramTfIdf_ce ',\n",
       " 'text_CharGramTfIdf_ce,',\n",
       " 'text_CharGramTfIdf_ce?',\n",
       " 'text_CharGramTfIdf_ced',\n",
       " 'text_CharGramTfIdf_cei',\n",
       " 'text_CharGramTfIdf_cen',\n",
       " 'text_CharGramTfIdf_ces',\n",
       " 'text_CharGramTfIdf_ch ',\n",
       " 'text_CharGramTfIdf_ch?',\n",
       " 'text_CharGramTfIdf_cha',\n",
       " 'text_CharGramTfIdf_che',\n",
       " 'text_CharGramTfIdf_chi',\n",
       " 'text_CharGramTfIdf_cho',\n",
       " 'text_CharGramTfIdf_chu',\n",
       " 'text_CharGramTfIdf_cia',\n",
       " 'text_CharGramTfIdf_cid',\n",
       " 'text_CharGramTfIdf_cie',\n",
       " 'text_CharGramTfIdf_cil',\n",
       " 'text_CharGramTfIdf_cin',\n",
       " 'text_CharGramTfIdf_ciz',\n",
       " 'text_CharGramTfIdf_ck ',\n",
       " 'text_CharGramTfIdf_ckg',\n",
       " 'text_CharGramTfIdf_cki',\n",
       " 'text_CharGramTfIdf_ckl',\n",
       " 'text_CharGramTfIdf_cla',\n",
       " 'text_CharGramTfIdf_cle',\n",
       " 'text_CharGramTfIdf_clo',\n",
       " 'text_CharGramTfIdf_coh',\n",
       " 'text_CharGramTfIdf_col',\n",
       " 'text_CharGramTfIdf_com',\n",
       " 'text_CharGramTfIdf_con',\n",
       " 'text_CharGramTfIdf_cop',\n",
       " 'text_CharGramTfIdf_cor',\n",
       " 'text_CharGramTfIdf_cou',\n",
       " 'text_CharGramTfIdf_cra',\n",
       " 'text_CharGramTfIdf_cri',\n",
       " 'text_CharGramTfIdf_cru',\n",
       " 'text_CharGramTfIdf_ct ',\n",
       " 'text_CharGramTfIdf_ct.',\n",
       " 'text_CharGramTfIdf_ct?',\n",
       " 'text_CharGramTfIdf_cta',\n",
       " 'text_CharGramTfIdf_cte',\n",
       " 'text_CharGramTfIdf_cti',\n",
       " 'text_CharGramTfIdf_ctl',\n",
       " 'text_CharGramTfIdf_cts',\n",
       " 'text_CharGramTfIdf_ctu',\n",
       " 'text_CharGramTfIdf_cul',\n",
       " 'text_CharGramTfIdf_cur',\n",
       " 'text_CharGramTfIdf_d a',\n",
       " 'text_CharGramTfIdf_d b',\n",
       " 'text_CharGramTfIdf_d c',\n",
       " 'text_CharGramTfIdf_d d',\n",
       " 'text_CharGramTfIdf_d e',\n",
       " 'text_CharGramTfIdf_d f',\n",
       " 'text_CharGramTfIdf_d g',\n",
       " 'text_CharGramTfIdf_d h',\n",
       " 'text_CharGramTfIdf_d i',\n",
       " 'text_CharGramTfIdf_d k',\n",
       " 'text_CharGramTfIdf_d l',\n",
       " 'text_CharGramTfIdf_d m',\n",
       " 'text_CharGramTfIdf_d n',\n",
       " 'text_CharGramTfIdf_d o',\n",
       " 'text_CharGramTfIdf_d p',\n",
       " 'text_CharGramTfIdf_d r',\n",
       " 'text_CharGramTfIdf_d s',\n",
       " 'text_CharGramTfIdf_d t',\n",
       " 'text_CharGramTfIdf_d u',\n",
       " 'text_CharGramTfIdf_d v',\n",
       " 'text_CharGramTfIdf_d w',\n",
       " 'text_CharGramTfIdf_d y',\n",
       " 'text_CharGramTfIdf_d, ',\n",
       " 'text_CharGramTfIdf_d,a',\n",
       " 'text_CharGramTfIdf_d,f',\n",
       " 'text_CharGramTfIdf_d,i',\n",
       " 'text_CharGramTfIdf_d,l',\n",
       " 'text_CharGramTfIdf_d,n',\n",
       " 'text_CharGramTfIdf_d,s',\n",
       " 'text_CharGramTfIdf_d,w',\n",
       " 'text_CharGramTfIdf_d. ',\n",
       " 'text_CharGramTfIdf_d? ',\n",
       " 'text_CharGramTfIdf_dac',\n",
       " 'text_CharGramTfIdf_dai',\n",
       " 'text_CharGramTfIdf_dal',\n",
       " 'text_CharGramTfIdf_dan',\n",
       " 'text_CharGramTfIdf_dau',\n",
       " 'text_CharGramTfIdf_day',\n",
       " 'text_CharGramTfIdf_dct',\n",
       " 'text_CharGramTfIdf_dd ',\n",
       " 'text_CharGramTfIdf_ddi',\n",
       " 'text_CharGramTfIdf_de ',\n",
       " 'text_CharGramTfIdf_de?',\n",
       " 'text_CharGramTfIdf_dea',\n",
       " 'text_CharGramTfIdf_deb',\n",
       " 'text_CharGramTfIdf_ded',\n",
       " 'text_CharGramTfIdf_dee',\n",
       " 'text_CharGramTfIdf_def',\n",
       " 'text_CharGramTfIdf_dem',\n",
       " 'text_CharGramTfIdf_den',\n",
       " 'text_CharGramTfIdf_dep',\n",
       " 'text_CharGramTfIdf_deq',\n",
       " 'text_CharGramTfIdf_der',\n",
       " 'text_CharGramTfIdf_des',\n",
       " 'text_CharGramTfIdf_det',\n",
       " 'text_CharGramTfIdf_dev',\n",
       " 'text_CharGramTfIdf_dge',\n",
       " 'text_CharGramTfIdf_di ',\n",
       " 'text_CharGramTfIdf_dia',\n",
       " 'text_CharGramTfIdf_dic',\n",
       " 'text_CharGramTfIdf_did',\n",
       " 'text_CharGramTfIdf_die',\n",
       " 'text_CharGramTfIdf_dif',\n",
       " 'text_CharGramTfIdf_din',\n",
       " 'text_CharGramTfIdf_dis',\n",
       " 'text_CharGramTfIdf_diz',\n",
       " 'text_CharGramTfIdf_dle',\n",
       " 'text_CharGramTfIdf_dli',\n",
       " 'text_CharGramTfIdf_dm[',\n",
       " 'text_CharGramTfIdf_dne',\n",
       " 'text_CharGramTfIdf_dno',\n",
       " 'text_CharGramTfIdf_dn’',\n",
       " 'text_CharGramTfIdf_do ',\n",
       " 'text_CharGramTfIdf_do?',\n",
       " 'text_CharGramTfIdf_doe',\n",
       " 'text_CharGramTfIdf_doi',\n",
       " 'text_CharGramTfIdf_dom',\n",
       " 'text_CharGramTfIdf_don',\n",
       " 'text_CharGramTfIdf_dot',\n",
       " 'text_CharGramTfIdf_dow',\n",
       " 'text_CharGramTfIdf_dra',\n",
       " 'text_CharGramTfIdf_dri',\n",
       " 'text_CharGramTfIdf_dru',\n",
       " 'text_CharGramTfIdf_ds ',\n",
       " 'text_CharGramTfIdf_ds?',\n",
       " 'text_CharGramTfIdf_ds…',\n",
       " 'text_CharGramTfIdf_dua',\n",
       " 'text_CharGramTfIdf_duc',\n",
       " 'text_CharGramTfIdf_dul',\n",
       " 'text_CharGramTfIdf_dum',\n",
       " 'text_CharGramTfIdf_dvi',\n",
       " 'text_CharGramTfIdf_dy ',\n",
       " 'text_CharGramTfIdf_dy?',\n",
       " 'text_CharGramTfIdf_e ,',\n",
       " 'text_CharGramTfIdf_e a',\n",
       " 'text_CharGramTfIdf_e b',\n",
       " 'text_CharGramTfIdf_e c',\n",
       " 'text_CharGramTfIdf_e d',\n",
       " 'text_CharGramTfIdf_e e',\n",
       " 'text_CharGramTfIdf_e f',\n",
       " 'text_CharGramTfIdf_e g',\n",
       " 'text_CharGramTfIdf_e h',\n",
       " 'text_CharGramTfIdf_e i',\n",
       " 'text_CharGramTfIdf_e j',\n",
       " 'text_CharGramTfIdf_e k',\n",
       " 'text_CharGramTfIdf_e l',\n",
       " 'text_CharGramTfIdf_e m',\n",
       " 'text_CharGramTfIdf_e n',\n",
       " 'text_CharGramTfIdf_e o',\n",
       " 'text_CharGramTfIdf_e p',\n",
       " 'text_CharGramTfIdf_e r',\n",
       " 'text_CharGramTfIdf_e s',\n",
       " 'text_CharGramTfIdf_e t',\n",
       " 'text_CharGramTfIdf_e u',\n",
       " 'text_CharGramTfIdf_e v',\n",
       " 'text_CharGramTfIdf_e w',\n",
       " 'text_CharGramTfIdf_e y',\n",
       " 'text_CharGramTfIdf_e, ',\n",
       " 'text_CharGramTfIdf_e,s',\n",
       " 'text_CharGramTfIdf_e,w',\n",
       " 'text_CharGramTfIdf_e/s',\n",
       " 'text_CharGramTfIdf_ead',\n",
       " 'text_CharGramTfIdf_eak',\n",
       " 'text_CharGramTfIdf_eal',\n",
       " 'text_CharGramTfIdf_eam',\n",
       " 'text_CharGramTfIdf_ean',\n",
       " 'text_CharGramTfIdf_ear',\n",
       " 'text_CharGramTfIdf_eas',\n",
       " 'text_CharGramTfIdf_eat',\n",
       " 'text_CharGramTfIdf_eav',\n",
       " 'text_CharGramTfIdf_ebt',\n",
       " 'text_CharGramTfIdf_eca',\n",
       " 'text_CharGramTfIdf_ece',\n",
       " 'text_CharGramTfIdf_ech',\n",
       " 'text_CharGramTfIdf_eci',\n",
       " 'text_CharGramTfIdf_eco',\n",
       " 'text_CharGramTfIdf_ect',\n",
       " 'text_CharGramTfIdf_ecu',\n",
       " 'text_CharGramTfIdf_ed ',\n",
       " 'text_CharGramTfIdf_ed,',\n",
       " 'text_CharGramTfIdf_ed.',\n",
       " 'text_CharGramTfIdf_ed?',\n",
       " 'text_CharGramTfIdf_ede',\n",
       " 'text_CharGramTfIdf_edi',\n",
       " 'text_CharGramTfIdf_edn',\n",
       " 'text_CharGramTfIdf_edo',\n",
       " 'text_CharGramTfIdf_eds',\n",
       " 'text_CharGramTfIdf_edu',\n",
       " 'text_CharGramTfIdf_edy',\n",
       " 'text_CharGramTfIdf_ee ',\n",
       " 'text_CharGramTfIdf_eed',\n",
       " 'text_CharGramTfIdf_eek',\n",
       " 'text_CharGramTfIdf_eel',\n",
       " 'text_CharGramTfIdf_eem',\n",
       " 'text_CharGramTfIdf_een',\n",
       " 'text_CharGramTfIdf_eep',\n",
       " 'text_CharGramTfIdf_eer',\n",
       " 'text_CharGramTfIdf_ees',\n",
       " 'text_CharGramTfIdf_ef?',\n",
       " 'text_CharGramTfIdf_efe',\n",
       " 'text_CharGramTfIdf_eff',\n",
       " 'text_CharGramTfIdf_efi',\n",
       " 'text_CharGramTfIdf_eft',\n",
       " 'text_CharGramTfIdf_ega',\n",
       " 'text_CharGramTfIdf_egi',\n",
       " 'text_CharGramTfIdf_egl',\n",
       " 'text_CharGramTfIdf_eha',\n",
       " 'text_CharGramTfIdf_ein',\n",
       " 'text_CharGramTfIdf_eir',\n",
       " 'text_CharGramTfIdf_eiv',\n",
       " 'text_CharGramTfIdf_eje',\n",
       " 'text_CharGramTfIdf_ek ',\n",
       " 'text_CharGramTfIdf_eki',\n",
       " 'text_CharGramTfIdf_el ',\n",
       " 'text_CharGramTfIdf_ela',\n",
       " 'text_CharGramTfIdf_eld',\n",
       " 'text_CharGramTfIdf_ele',\n",
       " 'text_CharGramTfIdf_elf',\n",
       " 'text_CharGramTfIdf_eli',\n",
       " 'text_CharGramTfIdf_ell',\n",
       " 'text_CharGramTfIdf_elm',\n",
       " 'text_CharGramTfIdf_elo',\n",
       " 'text_CharGramTfIdf_elp',\n",
       " 'text_CharGramTfIdf_els',\n",
       " 'text_CharGramTfIdf_elt',\n",
       " 'text_CharGramTfIdf_ely',\n",
       " 'text_CharGramTfIdf_em ',\n",
       " 'text_CharGramTfIdf_em?',\n",
       " 'text_CharGramTfIdf_emb',\n",
       " 'text_CharGramTfIdf_eme',\n",
       " 'text_CharGramTfIdf_emi',\n",
       " 'text_CharGramTfIdf_emo',\n",
       " 'text_CharGramTfIdf_emp',\n",
       " 'text_CharGramTfIdf_ems',\n",
       " 'text_CharGramTfIdf_en ',\n",
       " 'text_CharGramTfIdf_en?',\n",
       " 'text_CharGramTfIdf_enc',\n",
       " 'text_CharGramTfIdf_end',\n",
       " 'text_CharGramTfIdf_ene',\n",
       " 'text_CharGramTfIdf_eng',\n",
       " 'text_CharGramTfIdf_enl',\n",
       " 'text_CharGramTfIdf_eno',\n",
       " 'text_CharGramTfIdf_ens',\n",
       " 'text_CharGramTfIdf_ent',\n",
       " 'text_CharGramTfIdf_eny',\n",
       " 'text_CharGramTfIdf_eon',\n",
       " 'text_CharGramTfIdf_eop',\n",
       " 'text_CharGramTfIdf_ep ',\n",
       " 'text_CharGramTfIdf_ep,',\n",
       " 'text_CharGramTfIdf_epa',\n",
       " 'text_CharGramTfIdf_epi',\n",
       " 'text_CharGramTfIdf_epl',\n",
       " 'text_CharGramTfIdf_epr',\n",
       " 'text_CharGramTfIdf_eps',\n",
       " 'text_CharGramTfIdf_equ',\n",
       " 'text_CharGramTfIdf_er ',\n",
       " 'text_CharGramTfIdf_er,',\n",
       " 'text_CharGramTfIdf_er-',\n",
       " 'text_CharGramTfIdf_er?',\n",
       " 'text_CharGramTfIdf_era',\n",
       " 'text_CharGramTfIdf_erc',\n",
       " 'text_CharGramTfIdf_erd',\n",
       " 'text_CharGramTfIdf_ere',\n",
       " 'text_CharGramTfIdf_erf',\n",
       " 'text_CharGramTfIdf_erg',\n",
       " 'text_CharGramTfIdf_eri',\n",
       " 'text_CharGramTfIdf_erl',\n",
       " 'text_CharGramTfIdf_erm',\n",
       " 'text_CharGramTfIdf_ern',\n",
       " 'text_CharGramTfIdf_ero',\n",
       " 'text_CharGramTfIdf_err',\n",
       " 'text_CharGramTfIdf_ers',\n",
       " 'text_CharGramTfIdf_ert',\n",
       " 'text_CharGramTfIdf_erv',\n",
       " 'text_CharGramTfIdf_erw',\n",
       " 'text_CharGramTfIdf_ery',\n",
       " 'text_CharGramTfIdf_es ',\n",
       " 'text_CharGramTfIdf_es,',\n",
       " 'text_CharGramTfIdf_es-',\n",
       " 'text_CharGramTfIdf_esc',\n",
       " 'text_CharGramTfIdf_ese',\n",
       " 'text_CharGramTfIdf_esi',\n",
       " 'text_CharGramTfIdf_eso',\n",
       " 'text_CharGramTfIdf_esp',\n",
       " 'text_CharGramTfIdf_ess',\n",
       " 'text_CharGramTfIdf_est',\n",
       " 'text_CharGramTfIdf_esu',\n",
       " 'text_CharGramTfIdf_et ',\n",
       " 'text_CharGramTfIdf_ete',\n",
       " 'text_CharGramTfIdf_eth',\n",
       " 'text_CharGramTfIdf_eti',\n",
       " 'text_CharGramTfIdf_etr',\n",
       " 'text_CharGramTfIdf_ett',\n",
       " 'text_CharGramTfIdf_ety',\n",
       " 'text_CharGramTfIdf_eva',\n",
       " 'text_CharGramTfIdf_eve',\n",
       " 'text_CharGramTfIdf_ewe',\n",
       " 'text_CharGramTfIdf_ex ',\n",
       " 'text_CharGramTfIdf_ex?',\n",
       " 'text_CharGramTfIdf_exa',\n",
       " 'text_CharGramTfIdf_exc',\n",
       " 'text_CharGramTfIdf_exi',\n",
       " 'text_CharGramTfIdf_exp',\n",
       " 'text_CharGramTfIdf_ey ',\n",
       " 'text_CharGramTfIdf_e…i',\n",
       " 'text_CharGramTfIdf_e…w',\n",
       " 'text_CharGramTfIdf_f a',\n",
       " 'text_CharGramTfIdf_f b',\n",
       " 'text_CharGramTfIdf_f c',\n",
       " 'text_CharGramTfIdf_f d',\n",
       " 'text_CharGramTfIdf_f e',\n",
       " 'text_CharGramTfIdf_f f',\n",
       " 'text_CharGramTfIdf_f h',\n",
       " 'text_CharGramTfIdf_f i',\n",
       " 'text_CharGramTfIdf_f l',\n",
       " 'text_CharGramTfIdf_f m',\n",
       " 'text_CharGramTfIdf_f n',\n",
       " 'text_CharGramTfIdf_f o',\n",
       " 'text_CharGramTfIdf_f p',\n",
       " 'text_CharGramTfIdf_f r',\n",
       " 'text_CharGramTfIdf_f s',\n",
       " 'text_CharGramTfIdf_f t',\n",
       " 'text_CharGramTfIdf_f u',\n",
       " 'text_CharGramTfIdf_f w',\n",
       " 'text_CharGramTfIdf_f y',\n",
       " 'text_CharGramTfIdf_f, ',\n",
       " 'text_CharGramTfIdf_fac',\n",
       " 'text_CharGramTfIdf_fai',\n",
       " 'text_CharGramTfIdf_fal',\n",
       " 'text_CharGramTfIdf_fam',\n",
       " 'text_CharGramTfIdf_fan',\n",
       " 'text_CharGramTfIdf_fat',\n",
       " 'text_CharGramTfIdf_fe ',\n",
       " 'text_CharGramTfIdf_fe,',\n",
       " 'text_CharGramTfIdf_fe.',\n",
       " 'text_CharGramTfIdf_fe?',\n",
       " 'text_CharGramTfIdf_fea',\n",
       " 'text_CharGramTfIdf_fec',\n",
       " 'text_CharGramTfIdf_fee',\n",
       " 'text_CharGramTfIdf_fel',\n",
       " 'text_CharGramTfIdf_fer',\n",
       " 'text_CharGramTfIdf_ff ',\n",
       " 'text_CharGramTfIdf_ffa',\n",
       " 'text_CharGramTfIdf_ffe',\n",
       " 'text_CharGramTfIdf_ffi',\n",
       " 'text_CharGramTfIdf_ffo',\n",
       " 'text_CharGramTfIdf_fgm',\n",
       " 'text_CharGramTfIdf_fic',\n",
       " 'text_CharGramTfIdf_fie',\n",
       " 'text_CharGramTfIdf_fin',\n",
       " 'text_CharGramTfIdf_fir',\n",
       " 'text_CharGramTfIdf_fit',\n",
       " 'text_CharGramTfIdf_flu',\n",
       " 'text_CharGramTfIdf_fly',\n",
       " 'text_CharGramTfIdf_fo ',\n",
       " 'text_CharGramTfIdf_fol',\n",
       " 'text_CharGramTfIdf_for',\n",
       " 'text_CharGramTfIdf_fri',\n",
       " 'text_CharGramTfIdf_fro',\n",
       " 'text_CharGramTfIdf_fru',\n",
       " 'text_CharGramTfIdf_ft ',\n",
       " 'text_CharGramTfIdf_fte',\n",
       " 'text_CharGramTfIdf_ful',\n",
       " 'text_CharGramTfIdf_fus',\n",
       " 'text_CharGramTfIdf_fut',\n",
       " 'text_CharGramTfIdf_g a',\n",
       " 'text_CharGramTfIdf_g b',\n",
       " 'text_CharGramTfIdf_g c',\n",
       " 'text_CharGramTfIdf_g d',\n",
       " 'text_CharGramTfIdf_g e',\n",
       " 'text_CharGramTfIdf_g f',\n",
       " 'text_CharGramTfIdf_g h',\n",
       " 'text_CharGramTfIdf_g i',\n",
       " 'text_CharGramTfIdf_g k',\n",
       " 'text_CharGramTfIdf_g l',\n",
       " 'text_CharGramTfIdf_g m',\n",
       " 'text_CharGramTfIdf_g o',\n",
       " 'text_CharGramTfIdf_g p',\n",
       " 'text_CharGramTfIdf_g q',\n",
       " 'text_CharGramTfIdf_g r',\n",
       " 'text_CharGramTfIdf_g s',\n",
       " 'text_CharGramTfIdf_g t',\n",
       " 'text_CharGramTfIdf_g u',\n",
       " 'text_CharGramTfIdf_g w',\n",
       " 'text_CharGramTfIdf_g. ',\n",
       " 'text_CharGramTfIdf_gai',\n",
       " 'text_CharGramTfIdf_gam',\n",
       " 'text_CharGramTfIdf_gat',\n",
       " 'text_CharGramTfIdf_gav',\n",
       " 'text_CharGramTfIdf_ge ',\n",
       " 'text_CharGramTfIdf_ge?',\n",
       " 'text_CharGramTfIdf_ged',\n",
       " 'text_CharGramTfIdf_gem',\n",
       " 'text_CharGramTfIdf_ger',\n",
       " 'text_CharGramTfIdf_ges',\n",
       " 'text_CharGramTfIdf_get',\n",
       " 'text_CharGramTfIdf_gh ',\n",
       " 'text_CharGramTfIdf_gh?',\n",
       " 'text_CharGramTfIdf_ghs',\n",
       " 'text_CharGramTfIdf_ght',\n",
       " 'text_CharGramTfIdf_gi ',\n",
       " 'text_CharGramTfIdf_gic',\n",
       " 'text_CharGramTfIdf_gie',\n",
       " 'text_CharGramTfIdf_gin',\n",
       " 'text_CharGramTfIdf_gir',\n",
       " 'text_CharGramTfIdf_giv',\n",
       " 'text_CharGramTfIdf_gle',\n",
       " 'text_CharGramTfIdf_gm ',\n",
       " 'text_CharGramTfIdf_gno',\n",
       " 'text_CharGramTfIdf_go ',\n",
       " 'text_CharGramTfIdf_god',\n",
       " 'text_CharGramTfIdf_gof',\n",
       " 'text_CharGramTfIdf_goi',\n",
       " 'text_CharGramTfIdf_goo',\n",
       " 'text_CharGramTfIdf_got',\n",
       " 'text_CharGramTfIdf_gra',\n",
       " 'text_CharGramTfIdf_gro',\n",
       " 'text_CharGramTfIdf_gry',\n",
       " 'text_CharGramTfIdf_gs ',\n",
       " 'text_CharGramTfIdf_gs?',\n",
       " 'text_CharGramTfIdf_gsn',\n",
       " 'text_CharGramTfIdf_gui',\n",
       " 'text_CharGramTfIdf_gus',\n",
       " 'text_CharGramTfIdf_gy ',\n",
       " 'text_CharGramTfIdf_h a',\n",
       " 'text_CharGramTfIdf_h b',\n",
       " 'text_CharGramTfIdf_h c',\n",
       " 'text_CharGramTfIdf_h d',\n",
       " 'text_CharGramTfIdf_h e',\n",
       " 'text_CharGramTfIdf_h f',\n",
       " 'text_CharGramTfIdf_h h',\n",
       " 'text_CharGramTfIdf_h i',\n",
       " 'text_CharGramTfIdf_h l',\n",
       " 'text_CharGramTfIdf_h m',\n",
       " 'text_CharGramTfIdf_h n',\n",
       " 'text_CharGramTfIdf_h o',\n",
       " 'text_CharGramTfIdf_h p',\n",
       " 'text_CharGramTfIdf_h r',\n",
       " 'text_CharGramTfIdf_h s',\n",
       " 'text_CharGramTfIdf_h t',\n",
       " 'text_CharGramTfIdf_h w',\n",
       " 'text_CharGramTfIdf_h. ',\n",
       " 'text_CharGramTfIdf_hab',\n",
       " 'text_CharGramTfIdf_had',\n",
       " 'text_CharGramTfIdf_hal',\n",
       " 'text_CharGramTfIdf_ham',\n",
       " 'text_CharGramTfIdf_han',\n",
       " 'text_CharGramTfIdf_hao',\n",
       " 'text_CharGramTfIdf_hap',\n",
       " 'text_CharGramTfIdf_har',\n",
       " 'text_CharGramTfIdf_has',\n",
       " 'text_CharGramTfIdf_hat',\n",
       " 'text_CharGramTfIdf_hav',\n",
       " 'text_CharGramTfIdf_hd ',\n",
       " 'text_CharGramTfIdf_hdr',\n",
       " 'text_CharGramTfIdf_he ',\n",
       " 'text_CharGramTfIdf_he,',\n",
       " 'text_CharGramTfIdf_he/',\n",
       " 'text_CharGramTfIdf_hea',\n",
       " 'text_CharGramTfIdf_hed',\n",
       " 'text_CharGramTfIdf_hei',\n",
       " 'text_CharGramTfIdf_hel',\n",
       " 'text_CharGramTfIdf_hem',\n",
       " 'text_CharGramTfIdf_hen',\n",
       " 'text_CharGramTfIdf_her',\n",
       " 'text_CharGramTfIdf_hes',\n",
       " 'text_CharGramTfIdf_hey',\n",
       " 'text_CharGramTfIdf_hib',\n",
       " 'text_CharGramTfIdf_hic',\n",
       " 'text_CharGramTfIdf_hig',\n",
       " 'text_CharGramTfIdf_hil',\n",
       " 'text_CharGramTfIdf_hin',\n",
       " 'text_CharGramTfIdf_hip',\n",
       " 'text_CharGramTfIdf_his',\n",
       " 'text_CharGramTfIdf_hn ',\n",
       " 'text_CharGramTfIdf_ho ',\n",
       " 'text_CharGramTfIdf_hod',\n",
       " 'text_CharGramTfIdf_hoi',\n",
       " 'text_CharGramTfIdf_hol',\n",
       " 'text_CharGramTfIdf_hom',\n",
       " 'text_CharGramTfIdf_hoo',\n",
       " 'text_CharGramTfIdf_hop',\n",
       " 'text_CharGramTfIdf_hor',\n",
       " 'text_CharGramTfIdf_hou',\n",
       " 'text_CharGramTfIdf_how',\n",
       " 'text_CharGramTfIdf_hre',\n",
       " 'text_CharGramTfIdf_hro',\n",
       " 'text_CharGramTfIdf_hs ',\n",
       " 'text_CharGramTfIdf_hsc',\n",
       " 'text_CharGramTfIdf_ht ',\n",
       " 'text_CharGramTfIdf_hte',\n",
       " 'text_CharGramTfIdf_htl',\n",
       " 'text_CharGramTfIdf_hts',\n",
       " 'text_CharGramTfIdf_hun',\n",
       " 'text_CharGramTfIdf_hur',\n",
       " 'text_CharGramTfIdf_hus',\n",
       " 'text_CharGramTfIdf_hw ',\n",
       " 'text_CharGramTfIdf_hy ',\n",
       " 'text_CharGramTfIdf_hy?',\n",
       " 'text_CharGramTfIdf_hyn',\n",
       " 'text_CharGramTfIdf_hyp',\n",
       " 'text_CharGramTfIdf_i a',\n",
       " 'text_CharGramTfIdf_i b',\n",
       " 'text_CharGramTfIdf_i c',\n",
       " 'text_CharGramTfIdf_i d',\n",
       " 'text_CharGramTfIdf_i e',\n",
       " 'text_CharGramTfIdf_i f',\n",
       " 'text_CharGramTfIdf_i g',\n",
       " 'text_CharGramTfIdf_i h',\n",
       " 'text_CharGramTfIdf_i i',\n",
       " 'text_CharGramTfIdf_i j',\n",
       " 'text_CharGramTfIdf_i k',\n",
       " 'text_CharGramTfIdf_i l',\n",
       " 'text_CharGramTfIdf_i m',\n",
       " 'text_CharGramTfIdf_i n',\n",
       " 'text_CharGramTfIdf_i o',\n",
       " 'text_CharGramTfIdf_i q',\n",
       " 'text_CharGramTfIdf_i r',\n",
       " 'text_CharGramTfIdf_i s',\n",
       " 'text_CharGramTfIdf_i t',\n",
       " 'text_CharGramTfIdf_i u',\n",
       " 'text_CharGramTfIdf_i w',\n",
       " \"text_CharGramTfIdf_i'm\",\n",
       " 'text_CharGramTfIdf_ia,',\n",
       " 'text_CharGramTfIdf_iag',\n",
       " 'text_CharGramTfIdf_ial',\n",
       " 'text_CharGramTfIdf_iat',\n",
       " 'text_CharGramTfIdf_iba',\n",
       " 'text_CharGramTfIdf_ibi',\n",
       " 'text_CharGramTfIdf_ibl',\n",
       " 'text_CharGramTfIdf_ic ',\n",
       " 'text_CharGramTfIdf_ic,',\n",
       " 'text_CharGramTfIdf_ica',\n",
       " 'text_CharGramTfIdf_ice',\n",
       " 'text_CharGramTfIdf_ich',\n",
       " 'text_CharGramTfIdf_ici',\n",
       " 'text_CharGramTfIdf_ick',\n",
       " 'text_CharGramTfIdf_ics',\n",
       " 'text_CharGramTfIdf_ict',\n",
       " 'text_CharGramTfIdf_icu',\n",
       " 'text_CharGramTfIdf_id ',\n",
       " 'text_CharGramTfIdf_id?',\n",
       " 'text_CharGramTfIdf_ida',\n",
       " 'text_CharGramTfIdf_idc',\n",
       " 'text_CharGramTfIdf_ide',\n",
       " 'text_CharGramTfIdf_idn',\n",
       " 'text_CharGramTfIdf_iea',\n",
       " 'text_CharGramTfIdf_ied',\n",
       " 'text_CharGramTfIdf_ief',\n",
       " 'text_CharGramTfIdf_ien',\n",
       " 'text_CharGramTfIdf_ier',\n",
       " 'text_CharGramTfIdf_ies',\n",
       " 'text_CharGramTfIdf_iet',\n",
       " 'text_CharGramTfIdf_iev',\n",
       " 'text_CharGramTfIdf_iew',\n",
       " 'text_CharGramTfIdf_if ',\n",
       " 'text_CharGramTfIdf_ife',\n",
       " 'text_CharGramTfIdf_iff',\n",
       " 'text_CharGramTfIdf_ifi',\n",
       " 'text_CharGramTfIdf_igh',\n",
       " 'text_CharGramTfIdf_ign',\n",
       " 'text_CharGramTfIdf_igr',\n",
       " 'text_CharGramTfIdf_ii ',\n",
       " 'text_CharGramTfIdf_ike',\n",
       " 'text_CharGramTfIdf_il ',\n",
       " 'text_CharGramTfIdf_ild',\n",
       " 'text_CharGramTfIdf_ile',\n",
       " 'text_CharGramTfIdf_ili',\n",
       " 'text_CharGramTfIdf_ill',\n",
       " 'text_CharGramTfIdf_ilu',\n",
       " 'text_CharGramTfIdf_ily',\n",
       " 'text_CharGramTfIdf_im ',\n",
       " 'text_CharGramTfIdf_ime',\n",
       " 'text_CharGramTfIdf_imi',\n",
       " 'text_CharGramTfIdf_imp',\n",
       " 'text_CharGramTfIdf_in ',\n",
       " 'text_CharGramTfIdf_ina',\n",
       " 'text_CharGramTfIdf_inc',\n",
       " 'text_CharGramTfIdf_ind',\n",
       " 'text_CharGramTfIdf_ine',\n",
       " 'text_CharGramTfIdf_inf',\n",
       " 'text_CharGramTfIdf_ing',\n",
       " 'text_CharGramTfIdf_ini',\n",
       " 'text_CharGramTfIdf_ink',\n",
       " 'text_CharGramTfIdf_inm',\n",
       " 'text_CharGramTfIdf_inn',\n",
       " 'text_CharGramTfIdf_ino',\n",
       " 'text_CharGramTfIdf_ins',\n",
       " 'text_CharGramTfIdf_int',\n",
       " 'text_CharGramTfIdf_inu',\n",
       " 'text_CharGramTfIdf_inv',\n",
       " ...]"
      ]
     },
     "execution_count": 42,
     "metadata": {},
     "output_type": "execute_result"
    }
   ],
   "source": [
    "fitted_model.named_steps[\"datatransformer\"].get_engineered_feature_names()"
   ]
  },
  {
   "cell_type": "code",
   "execution_count": 43,
   "metadata": {
    "gather": {
     "logged": 1609929607509
    },
    "jupyter": {
     "outputs_hidden": false,
     "source_hidden": false
    },
    "nteract": {
     "transient": {
      "deleting": false
     }
    }
   },
   "outputs": [
    {
     "data": {
      "text/plain": [
       "[{'RawFeatureName': 'text',\n",
       "  'TypeDetected': 'Text',\n",
       "  'Dropped': 'No',\n",
       "  'EngineeredFeatureCount': 5090,\n",
       "  'Transformations': ['StringCast-CharGramTfIdf', 'StringCast-WordGramTfIdf']}]"
      ]
     },
     "execution_count": 43,
     "metadata": {},
     "output_type": "execute_result"
    }
   ],
   "source": [
    "fitted_model.named_steps[\"datatransformer\"].get_featurization_summary()"
   ]
  },
  {
   "cell_type": "code",
   "execution_count": 44,
   "metadata": {
    "gather": {
     "logged": 1609929607947
    },
    "jupyter": {
     "outputs_hidden": false,
     "source_hidden": false
    },
    "nteract": {
     "transient": {
      "deleting": false
     }
    }
   },
   "outputs": [
    {
     "data": {
      "text/plain": [
       "[('datatransformer',\n",
       "  DataTransformer(enable_dnn=None, enable_feature_sweeping=None,\n",
       "                  feature_sweeping_config=None, feature_sweeping_timeout=None,\n",
       "                  featurization_config=None, force_text_dnn=None,\n",
       "                  is_cross_validation=None, is_onnx_compatible=None, logger=None,\n",
       "                  observer=None, task=None, working_dir=None)),\n",
       " ('prefittedsoftvotingclassifier',\n",
       "  PreFittedSoftVotingClassifier(classification_labels=None,\n",
       "                                estimators=[('12',\n",
       "                                             Pipeline(memory=None,\n",
       "                                                      steps=[('sparsenormalizer',\n",
       "                                                              <azureml.automl.runtime.shared.model_wrappers.SparseNormalizer object at 0x7f5a52598390>),\n",
       "                                                             ('xgboostclassifier',\n",
       "                                                              XGBoostClassifier(base_score=0.5,\n",
       "                                                                                booster='gbtree',\n",
       "                                                                                colsample_bylevel=1,\n",
       "                                                                                colsample_bynode=1,\n",
       "                                                                                colsample_bytree=0.9,\n",
       "                                                                                eta=0.3,\n",
       "                                                                                g...\n",
       "                                                                                 fit_intercept=True,\n",
       "                                                                                 intercept_scaling=1,\n",
       "                                                                                 l1_ratio=None,\n",
       "                                                                                 max_iter=100,\n",
       "                                                                                 multi_class='multinomial',\n",
       "                                                                                 n_jobs=1,\n",
       "                                                                                 penalty='l2',\n",
       "                                                                                 random_state=None,\n",
       "                                                                                 solver='lbfgs',\n",
       "                                                                                 tol=0.0001,\n",
       "                                                                                 verbose=0,\n",
       "                                                                                 warm_start=False))],\n",
       "                                                      verbose=False))],\n",
       "                                flatten_transform=None,\n",
       "                                weights=[0.16666666666666666, 0.16666666666666666,\n",
       "                                         0.16666666666666666, 0.16666666666666666,\n",
       "                                         0.16666666666666666,\n",
       "                                         0.16666666666666666]))]"
      ]
     },
     "execution_count": 44,
     "metadata": {},
     "output_type": "execute_result"
    }
   ],
   "source": [
    "fitted_model.steps"
   ]
  },
  {
   "cell_type": "code",
   "execution_count": 45,
   "metadata": {
    "gather": {
     "logged": 1609929608388
    },
    "jupyter": {
     "outputs_hidden": false,
     "source_hidden": false
    },
    "nteract": {
     "transient": {
      "deleting": false
     }
    }
   },
   "outputs": [
    {
     "data": {
      "text/html": [
       "<div>\n",
       "<style scoped>\n",
       "    .dataframe tbody tr th:only-of-type {\n",
       "        vertical-align: middle;\n",
       "    }\n",
       "\n",
       "    .dataframe tbody tr th {\n",
       "        vertical-align: top;\n",
       "    }\n",
       "\n",
       "    .dataframe thead th {\n",
       "        text-align: right;\n",
       "    }\n",
       "</style>\n",
       "<table border=\"1\" class=\"dataframe\">\n",
       "  <thead>\n",
       "    <tr style=\"text-align: right;\">\n",
       "      <th></th>\n",
       "      <th>ID</th>\n",
       "      <th>text</th>\n",
       "    </tr>\n",
       "  </thead>\n",
       "  <tbody>\n",
       "    <tr>\n",
       "      <th>0</th>\n",
       "      <td>02V56KMO</td>\n",
       "      <td>How to overcome bad feelings and emotions</td>\n",
       "    </tr>\n",
       "    <tr>\n",
       "      <th>1</th>\n",
       "      <td>03BMGTOK</td>\n",
       "      <td>I feel like giving up in life</td>\n",
       "    </tr>\n",
       "    <tr>\n",
       "      <th>2</th>\n",
       "      <td>03LZVFM6</td>\n",
       "      <td>I was so depressed feel like got no strength t...</td>\n",
       "    </tr>\n",
       "    <tr>\n",
       "      <th>3</th>\n",
       "      <td>0EPULUM5</td>\n",
       "      <td>I feel so low especially since I had no one to...</td>\n",
       "    </tr>\n",
       "    <tr>\n",
       "      <th>4</th>\n",
       "      <td>0GM4C5GD</td>\n",
       "      <td>can i be successful when I am a drug addict?</td>\n",
       "    </tr>\n",
       "  </tbody>\n",
       "</table>\n",
       "</div>"
      ],
      "text/plain": [
       "         ID                                               text\n",
       "0  02V56KMO          How to overcome bad feelings and emotions\n",
       "1  03BMGTOK                     I feel like giving up in life \n",
       "2  03LZVFM6  I was so depressed feel like got no strength t...\n",
       "3  0EPULUM5  I feel so low especially since I had no one to...\n",
       "4  0GM4C5GD       can i be successful when I am a drug addict?"
      ]
     },
     "execution_count": 45,
     "metadata": {},
     "output_type": "execute_result"
    }
   ],
   "source": [
    "test=pd.read_csv(\"./Test.csv\")\n",
    "test.head()"
   ]
  },
  {
   "cell_type": "code",
   "execution_count": 46,
   "metadata": {
    "gather": {
     "logged": 1609929608823
    },
    "jupyter": {
     "outputs_hidden": false,
     "source_hidden": false
    },
    "nteract": {
     "transient": {
      "deleting": false
     }
    }
   },
   "outputs": [
    {
     "data": {
      "text/plain": [
       "Index(['ID', 'text'], dtype='object')"
      ]
     },
     "execution_count": 46,
     "metadata": {},
     "output_type": "execute_result"
    }
   ],
   "source": [
    "test.columns"
   ]
  },
  {
   "cell_type": "code",
   "execution_count": 93,
   "metadata": {},
   "outputs": [
    {
     "data": {
      "text/plain": [
       "array(['Drugs'], dtype=object)"
      ]
     },
     "execution_count": 93,
     "metadata": {},
     "output_type": "execute_result"
    }
   ],
   "source": [
    "fitted_model.predict(pd.DataFrame({\"text\": [\"drugs\"]}))"
   ]
  },
  {
   "cell_type": "code",
   "execution_count": 47,
   "metadata": {
    "gather": {
     "logged": 1609929609241
    },
    "jupyter": {
     "outputs_hidden": false,
     "source_hidden": false
    },
    "nteract": {
     "transient": {
      "deleting": false
     }
    }
   },
   "outputs": [
    {
     "name": "stdout",
     "output_type": "stream",
     "text": [
      "Model accuracy:  0.7258064516129032\n"
     ]
    }
   ],
   "source": [
    "from sklearn.metrics import accuracy_score\n",
    "\n",
    "y_pred=fitted_model.predict(valid.iloc[:, :1])\n",
    "\n",
    "print(\"Model accuracy: \", accuracy_score(valid['label'], y_pred))"
   ]
  },
  {
   "cell_type": "code",
   "execution_count": 48,
   "metadata": {
    "gather": {
     "logged": 1609929609665
    },
    "jupyter": {
     "outputs_hidden": false,
     "source_hidden": false
    },
    "nteract": {
     "transient": {
      "deleting": false
     }
    }
   },
   "outputs": [],
   "source": [
    "y_proba=fitted_model.predict_proba(test[[\"text\"]])"
   ]
  },
  {
   "cell_type": "code",
   "execution_count": 49,
   "metadata": {
    "gather": {
     "logged": 1609929610441
    },
    "jupyter": {
     "outputs_hidden": false,
     "source_hidden": false
    },
    "nteract": {
     "transient": {
      "deleting": false
     }
    }
   },
   "outputs": [
    {
     "data": {
      "text/html": [
       "<div>\n",
       "<style scoped>\n",
       "    .dataframe tbody tr th:only-of-type {\n",
       "        vertical-align: middle;\n",
       "    }\n",
       "\n",
       "    .dataframe tbody tr th {\n",
       "        vertical-align: top;\n",
       "    }\n",
       "\n",
       "    .dataframe thead th {\n",
       "        text-align: right;\n",
       "    }\n",
       "</style>\n",
       "<table border=\"1\" class=\"dataframe\">\n",
       "  <thead>\n",
       "    <tr style=\"text-align: right;\">\n",
       "      <th></th>\n",
       "      <th>Alcohol</th>\n",
       "      <th>Depression</th>\n",
       "      <th>Drugs</th>\n",
       "      <th>Suicide</th>\n",
       "    </tr>\n",
       "  </thead>\n",
       "  <tbody>\n",
       "    <tr>\n",
       "      <th>0</th>\n",
       "      <td>0.06</td>\n",
       "      <td>0.82</td>\n",
       "      <td>0.03</td>\n",
       "      <td>0.09</td>\n",
       "    </tr>\n",
       "    <tr>\n",
       "      <th>1</th>\n",
       "      <td>0.02</td>\n",
       "      <td>0.95</td>\n",
       "      <td>0.01</td>\n",
       "      <td>0.02</td>\n",
       "    </tr>\n",
       "    <tr>\n",
       "      <th>2</th>\n",
       "      <td>0.02</td>\n",
       "      <td>0.94</td>\n",
       "      <td>0.02</td>\n",
       "      <td>0.03</td>\n",
       "    </tr>\n",
       "    <tr>\n",
       "      <th>3</th>\n",
       "      <td>0.03</td>\n",
       "      <td>0.89</td>\n",
       "      <td>0.03</td>\n",
       "      <td>0.04</td>\n",
       "    </tr>\n",
       "    <tr>\n",
       "      <th>4</th>\n",
       "      <td>0.18</td>\n",
       "      <td>0.43</td>\n",
       "      <td>0.14</td>\n",
       "      <td>0.24</td>\n",
       "    </tr>\n",
       "    <tr>\n",
       "      <th>...</th>\n",
       "      <td>...</td>\n",
       "      <td>...</td>\n",
       "      <td>...</td>\n",
       "      <td>...</td>\n",
       "    </tr>\n",
       "    <tr>\n",
       "      <th>304</th>\n",
       "      <td>0.07</td>\n",
       "      <td>0.81</td>\n",
       "      <td>0.05</td>\n",
       "      <td>0.07</td>\n",
       "    </tr>\n",
       "    <tr>\n",
       "      <th>305</th>\n",
       "      <td>0.07</td>\n",
       "      <td>0.74</td>\n",
       "      <td>0.05</td>\n",
       "      <td>0.14</td>\n",
       "    </tr>\n",
       "    <tr>\n",
       "      <th>306</th>\n",
       "      <td>0.21</td>\n",
       "      <td>0.62</td>\n",
       "      <td>0.06</td>\n",
       "      <td>0.10</td>\n",
       "    </tr>\n",
       "    <tr>\n",
       "      <th>307</th>\n",
       "      <td>0.03</td>\n",
       "      <td>0.05</td>\n",
       "      <td>0.88</td>\n",
       "      <td>0.04</td>\n",
       "    </tr>\n",
       "    <tr>\n",
       "      <th>308</th>\n",
       "      <td>0.34</td>\n",
       "      <td>0.41</td>\n",
       "      <td>0.07</td>\n",
       "      <td>0.18</td>\n",
       "    </tr>\n",
       "  </tbody>\n",
       "</table>\n",
       "<p>309 rows × 4 columns</p>\n",
       "</div>"
      ],
      "text/plain": [
       "     Alcohol  Depression  Drugs  Suicide\n",
       "0       0.06        0.82   0.03     0.09\n",
       "1       0.02        0.95   0.01     0.02\n",
       "2       0.02        0.94   0.02     0.03\n",
       "3       0.03        0.89   0.03     0.04\n",
       "4       0.18        0.43   0.14     0.24\n",
       "..       ...         ...    ...      ...\n",
       "304     0.07        0.81   0.05     0.07\n",
       "305     0.07        0.74   0.05     0.14\n",
       "306     0.21        0.62   0.06     0.10\n",
       "307     0.03        0.05   0.88     0.04\n",
       "308     0.34        0.41   0.07     0.18\n",
       "\n",
       "[309 rows x 4 columns]"
      ]
     },
     "execution_count": 49,
     "metadata": {},
     "output_type": "execute_result"
    }
   ],
   "source": [
    "y_proba"
   ]
  },
  {
   "cell_type": "code",
   "execution_count": 50,
   "metadata": {
    "gather": {
     "logged": 1609929611030
    },
    "jupyter": {
     "outputs_hidden": false,
     "source_hidden": false
    },
    "nteract": {
     "transient": {
      "deleting": false
     }
    }
   },
   "outputs": [],
   "source": [
    "sub=pd.DataFrame()"
   ]
  },
  {
   "cell_type": "code",
   "execution_count": 51,
   "metadata": {
    "gather": {
     "logged": 1609929611445
    },
    "jupyter": {
     "outputs_hidden": false,
     "source_hidden": false
    },
    "nteract": {
     "transient": {
      "deleting": false
     }
    }
   },
   "outputs": [],
   "source": [
    "sub[\"ID\"]=test.ID\n",
    "sub[\"Depression\"]=y_proba.Depression\n",
    "sub[\"Alcohol\"]=y_proba.Alcohol\n",
    "sub[\"Suicide\"]=y_proba.Suicide\n",
    "sub[\"Drugs\"]=y_proba.Drugs"
   ]
  },
  {
   "cell_type": "code",
   "execution_count": 52,
   "metadata": {
    "gather": {
     "logged": 1609929611879
    },
    "jupyter": {
     "outputs_hidden": false,
     "source_hidden": false
    },
    "nteract": {
     "transient": {
      "deleting": false
     }
    }
   },
   "outputs": [
    {
     "data": {
      "text/html": [
       "<div>\n",
       "<style scoped>\n",
       "    .dataframe tbody tr th:only-of-type {\n",
       "        vertical-align: middle;\n",
       "    }\n",
       "\n",
       "    .dataframe tbody tr th {\n",
       "        vertical-align: top;\n",
       "    }\n",
       "\n",
       "    .dataframe thead th {\n",
       "        text-align: right;\n",
       "    }\n",
       "</style>\n",
       "<table border=\"1\" class=\"dataframe\">\n",
       "  <thead>\n",
       "    <tr style=\"text-align: right;\">\n",
       "      <th></th>\n",
       "      <th>ID</th>\n",
       "      <th>Depression</th>\n",
       "      <th>Alcohol</th>\n",
       "      <th>Suicide</th>\n",
       "      <th>Drugs</th>\n",
       "    </tr>\n",
       "  </thead>\n",
       "  <tbody>\n",
       "    <tr>\n",
       "      <th>0</th>\n",
       "      <td>02V56KMO</td>\n",
       "      <td>0.82</td>\n",
       "      <td>0.06</td>\n",
       "      <td>0.09</td>\n",
       "      <td>0.03</td>\n",
       "    </tr>\n",
       "    <tr>\n",
       "      <th>1</th>\n",
       "      <td>03BMGTOK</td>\n",
       "      <td>0.95</td>\n",
       "      <td>0.02</td>\n",
       "      <td>0.02</td>\n",
       "      <td>0.01</td>\n",
       "    </tr>\n",
       "    <tr>\n",
       "      <th>2</th>\n",
       "      <td>03LZVFM6</td>\n",
       "      <td>0.94</td>\n",
       "      <td>0.02</td>\n",
       "      <td>0.03</td>\n",
       "      <td>0.02</td>\n",
       "    </tr>\n",
       "    <tr>\n",
       "      <th>3</th>\n",
       "      <td>0EPULUM5</td>\n",
       "      <td>0.89</td>\n",
       "      <td>0.03</td>\n",
       "      <td>0.04</td>\n",
       "      <td>0.03</td>\n",
       "    </tr>\n",
       "    <tr>\n",
       "      <th>4</th>\n",
       "      <td>0GM4C5GD</td>\n",
       "      <td>0.43</td>\n",
       "      <td>0.18</td>\n",
       "      <td>0.24</td>\n",
       "      <td>0.14</td>\n",
       "    </tr>\n",
       "  </tbody>\n",
       "</table>\n",
       "</div>"
      ],
      "text/plain": [
       "         ID  Depression  Alcohol  Suicide  Drugs\n",
       "0  02V56KMO        0.82     0.06     0.09   0.03\n",
       "1  03BMGTOK        0.95     0.02     0.02   0.01\n",
       "2  03LZVFM6        0.94     0.02     0.03   0.02\n",
       "3  0EPULUM5        0.89     0.03     0.04   0.03\n",
       "4  0GM4C5GD        0.43     0.18     0.24   0.14"
      ]
     },
     "execution_count": 52,
     "metadata": {},
     "output_type": "execute_result"
    }
   ],
   "source": [
    "sub.head()"
   ]
  },
  {
   "cell_type": "code",
   "execution_count": 53,
   "metadata": {
    "gather": {
     "logged": 1609929612305
    },
    "jupyter": {
     "outputs_hidden": false,
     "source_hidden": false
    },
    "nteract": {
     "transient": {
      "deleting": false
     }
    }
   },
   "outputs": [],
   "source": [
    "sub.to_csv(\"./automl_3.csv\", index=False)"
   ]
  },
  {
   "cell_type": "markdown",
   "metadata": {},
   "source": [
    "## Model Deployment\n",
    "\n",
    "Remember you have to deploy only one of the two models you trained.. Perform the steps in the rest of this notebook only if you wish to deploy this model.\n",
    "\n",
    "TODO: In the cell below, register the model, create an inference config and deploy the model as a web service."
   ]
  },
  {
   "cell_type": "code",
   "execution_count": 78,
   "metadata": {
    "gather": {
     "logged": 1609923640492
    },
    "jupyter": {
     "outputs_hidden": false,
     "source_hidden": false
    },
    "nteract": {
     "transient": {
      "deleting": false
     }
    }
   },
   "outputs": [],
   "source": [
    "description=\"AutoML model. 0.85 training accuracy valid 0.70\"\n",
    "model=remote_run.register_model(model_name=\"automl-clf\", description=description,tags={\"area\": \"mental_health\", \"type\":\"classification\"})"
   ]
  },
  {
   "cell_type": "code",
   "execution_count": 82,
   "metadata": {},
   "outputs": [
    {
     "data": {
      "text/plain": [
       "Model(workspace=Workspace.create(name='quick-starts-ws-133629', subscription_id='a24a24d5-8d87-4c8a-99b6-91ed2d2df51f', resource_group='aml-quickstarts-133629'), name=automl-clf, id=automl-clf:2, version=2, tags={'area': 'mental_health', 'type': 'classification'}, properties={})"
      ]
     },
     "execution_count": 82,
     "metadata": {},
     "output_type": "execute_result"
    }
   ],
   "source": [
    "model"
   ]
  },
  {
   "cell_type": "code",
   "execution_count": 83,
   "metadata": {
    "gather": {
     "logged": 1609923680368
    },
    "jupyter": {
     "outputs_hidden": false,
     "source_hidden": false
    },
    "nteract": {
     "transient": {
      "deleting": false
     }
    }
   },
   "outputs": [
    {
     "name": "stdout",
     "output_type": "stream",
     "text": [
      "automl-clf\n"
     ]
    }
   ],
   "source": [
    "print(remote_run.model_id)"
   ]
  },
  {
   "cell_type": "code",
   "execution_count": 80,
   "metadata": {},
   "outputs": [],
   "source": [
    "model_id=remote_run.model_id"
   ]
  },
  {
   "cell_type": "code",
   "execution_count": 81,
   "metadata": {},
   "outputs": [
    {
     "name": "stdout",
     "output_type": "stream",
     "text": [
      "automl-clf\tautoml-clf:2\t2\n"
     ]
    }
   ],
   "source": [
    "print(model.name, model.id, model.version, sep='\\t')"
   ]
  },
  {
   "cell_type": "markdown",
   "metadata": {},
   "source": [
    "### Create scoring file"
   ]
  },
  {
   "cell_type": "code",
   "execution_count": 96,
   "metadata": {
    "jupyter": {
     "outputs_hidden": false,
     "source_hidden": false
    },
    "nteract": {
     "transient": {
      "deleting": false
     }
    }
   },
   "outputs": [
    {
     "name": "stdout",
     "output_type": "stream",
     "text": [
      "Overwriting score.py\n"
     ]
    }
   ],
   "source": [
    "%%writefile score.py\n",
    "import json\n",
    "import numpy as np\n",
    "import os\n",
    "import pickle\n",
    "import joblib\n",
    "import pandas as pd\n",
    "\n",
    "def init():\n",
    "    global model\n",
    "    # AZUREML_MODEL_DIR is an environment variable created during deployment.\n",
    "    # It is the path to the model folder (./azureml-models/$MODEL_NAME/$VERSION)\n",
    "    # For multiple models, it points to the folder containing all deployed models (./azureml-models)\n",
    "    model_path = os.path.join(os.getenv('AZUREML_MODEL_DIR'),'model.pkl')\n",
    "    model = joblib.load(model_path)\n",
    "\n",
    "def run(raw_data):\n",
    "    try: \n",
    "        data = pd.DataFrame({\"text\": np.array(json.loads(raw_data)['data'])})\n",
    "        # make prediction\n",
    "        y_hat = model.predict(data)\n",
    "        # you can return any data type as long as it is JSON-serializable\n",
    "        return y_hat.tolist()\n",
    "    except Exception as e:\n",
    "        error=str(e)\n",
    "        return error"
   ]
  },
  {
   "cell_type": "markdown",
   "metadata": {
    "nteract": {
     "transient": {
      "deleting": false
     }
    }
   },
   "source": [
    "### Inference Config"
   ]
  },
  {
   "cell_type": "code",
   "execution_count": 85,
   "metadata": {},
   "outputs": [],
   "source": [
    "from azureml.core.webservice import AciWebservice\n",
    "\n",
    "aciconfig = AciWebservice.deploy_configuration(cpu_cores=1, \n",
    "                                               memory_gb=1, \n",
    "                                               tags={\"data\": \"mental health\",  \"type\" : \"classification\"}, \n",
    "                                               description='classify mental health respones')\n"
   ]
  },
  {
   "cell_type": "code",
   "execution_count": 103,
   "metadata": {},
   "outputs": [
    {
     "name": "stdout",
     "output_type": "stream",
     "text": [
      "Tips: You can try get_logs(): https://aka.ms/debugimage#dockerlog or local deployment: https://aka.ms/debugimage#debug-locally to debug if deployment takes longer than 10 minutes.\n",
      "Running.................................................\n",
      "Succeeded\n",
      "ACI service creation operation finished, operation \"Succeeded\"\n",
      "CPU times: user 4.57 s, sys: 194 ms, total: 4.77 s\n",
      "Wall time: 4min 37s\n"
     ]
    }
   ],
   "source": [
    "%%time\n",
    "from azureml.core.webservice import Webservice\n",
    "from azureml.core.model import InferenceConfig\n",
    "from azureml.core.environment import Environment\n",
    "from azureml.core import Workspace\n",
    "from azureml.core.model import Model\n",
    "\n",
    "ws = Workspace.from_config()\n",
    "model = Model(ws, model_id)\n",
    "\n",
    "\n",
    "myenv = Environment.get(workspace=ws, name=\"AzureML-AutoML\")\n",
    "inference_config = InferenceConfig(entry_script=\"score.py\", environment=myenv)\n",
    "\n",
    "service = Model.deploy(workspace=ws, \n",
    "                       name='mental-health-classification', \n",
    "                       models=[model], \n",
    "                       inference_config=inference_config, \n",
    "                       deployment_config=aciconfig)\n",
    "\n",
    "service.wait_for_deployment(show_output=True)"
   ]
  },
  {
   "cell_type": "code",
   "execution_count": 77,
   "metadata": {},
   "outputs": [
    {
     "data": {
      "text/plain": [
       "Model(workspace=Workspace.create(name='quick-starts-ws-133629', subscription_id='a24a24d5-8d87-4c8a-99b6-91ed2d2df51f', resource_group='aml-quickstarts-133629'), name=automl-clf, id=automl-clf:1, version=1, tags={'area': 'mental_health', 'type': 'classification'}, properties={})"
      ]
     },
     "execution_count": 77,
     "metadata": {},
     "output_type": "execute_result"
    }
   ],
   "source": [
    "model\n"
   ]
  },
  {
   "cell_type": "markdown",
   "metadata": {
    "collapsed": true,
    "gather": {
     "logged": 1598431657736
    },
    "jupyter": {
     "outputs_hidden": false,
     "source_hidden": false
    },
    "nteract": {
     "transient": {
      "deleting": false
     }
    }
   },
   "source": [
    "TODO: In the cell below, send a request to the web service you deployed to test it."
   ]
  },
  {
   "cell_type": "code",
   "execution_count": 124,
   "metadata": {
    "gather": {
     "logged": 1598432707604
    },
    "jupyter": {
     "outputs_hidden": false,
     "source_hidden": false
    },
    "nteract": {
     "transient": {
      "deleting": false
     }
    }
   },
   "outputs": [],
   "source": [
    "import json\n",
    "test = json.dumps({\"data\": list(valid[\"text\"])})\n",
    "test = bytes(test, encoding='utf8')\n",
    "y_hat = service.run(input_data=test)"
   ]
  },
  {
   "cell_type": "code",
   "execution_count": 125,
   "metadata": {},
   "outputs": [
    {
     "name": "stdout",
     "output_type": "stream",
     "text": [
      "[[11  2  0  0]\n",
      " [ 0 29  0  2]\n",
      " [ 1  4  4  0]\n",
      " [ 0  8  0  1]]\n",
      "Overall accuracy: 0.7258064516129032\n"
     ]
    }
   ],
   "source": [
    "from sklearn.metrics import confusion_matrix\n",
    "\n",
    "conf_mx = confusion_matrix(valid[\"label\"], y_hat)\n",
    "print(conf_mx)\n",
    "print('Overall accuracy:',accuracy_score(y_hat, valid[\"label\"]))"
   ]
  },
  {
   "cell_type": "code",
   "execution_count": 111,
   "metadata": {},
   "outputs": [
    {
     "data": {
      "text/html": [
       "<div>\n",
       "<style scoped>\n",
       "    .dataframe tbody tr th:only-of-type {\n",
       "        vertical-align: middle;\n",
       "    }\n",
       "\n",
       "    .dataframe tbody tr th {\n",
       "        vertical-align: top;\n",
       "    }\n",
       "\n",
       "    .dataframe thead th {\n",
       "        text-align: right;\n",
       "    }\n",
       "</style>\n",
       "<table border=\"1\" class=\"dataframe\">\n",
       "  <thead>\n",
       "    <tr style=\"text-align: right;\">\n",
       "      <th></th>\n",
       "      <th>text</th>\n",
       "      <th>label</th>\n",
       "    </tr>\n",
       "  </thead>\n",
       "  <tbody>\n",
       "    <tr>\n",
       "      <th>78</th>\n",
       "      <td>How can I overcome alcoholism?</td>\n",
       "      <td>Alcohol</td>\n",
       "    </tr>\n",
       "    <tr>\n",
       "      <th>208</th>\n",
       "      <td>what are ways of dealing with depression</td>\n",
       "      <td>Depression</td>\n",
       "    </tr>\n",
       "    <tr>\n",
       "      <th>570</th>\n",
       "      <td>Is it right to smoke weed in the name of doing...</td>\n",
       "      <td>Drugs</td>\n",
       "    </tr>\n",
       "    <tr>\n",
       "      <th>181</th>\n",
       "      <td>How to avoid the thoughts?</td>\n",
       "      <td>Suicide</td>\n",
       "    </tr>\n",
       "    <tr>\n",
       "      <th>101</th>\n",
       "      <td>I am thinking about school expenses</td>\n",
       "      <td>Depression</td>\n",
       "    </tr>\n",
       "  </tbody>\n",
       "</table>\n",
       "</div>"
      ],
      "text/plain": [
       "                                                  text       label\n",
       "78                     How can I overcome alcoholism?      Alcohol\n",
       "208           what are ways of dealing with depression  Depression\n",
       "570  Is it right to smoke weed in the name of doing...       Drugs\n",
       "181                         How to avoid the thoughts?     Suicide\n",
       "101                I am thinking about school expenses  Depression"
      ]
     },
     "execution_count": 111,
     "metadata": {},
     "output_type": "execute_result"
    }
   ],
   "source": [
    "valid.head()"
   ]
  },
  {
   "cell_type": "markdown",
   "metadata": {},
   "source": [
    "#### HTTP request"
   ]
  },
  {
   "cell_type": "code",
   "execution_count": 120,
   "metadata": {},
   "outputs": [
    {
     "data": {
      "text/plain": [
       "'{\"data\": [\"How to avoid the thoughts?\"]}'"
      ]
     },
     "execution_count": 120,
     "metadata": {},
     "output_type": "execute_result"
    }
   ],
   "source": [
    "json.dumps({\"data\": [str(valid.loc[random_index, \"text\"])]})"
   ]
  },
  {
   "cell_type": "code",
   "execution_count": 123,
   "metadata": {},
   "outputs": [
    {
     "name": "stdout",
     "output_type": "stream",
     "text": [
      "POST to url http://74cf312d-3e19-4e00-b426-df26289fc3af.southcentralus.azurecontainer.io/score\n",
      "label: Suicide\n",
      "prediction: [\"Depression\"]\n"
     ]
    }
   ],
   "source": [
    "import requests\n",
    "\n",
    "# send a random row from the test set to score\n",
    "random_index=181\n",
    "# input_data = \"{\\\"data\\\": [\" + str(list(valid.loc[random_index, \"text\"])) + \"]}\"\n",
    "input_data=json.dumps({\"data\": [str(valid.loc[random_index, \"text\"])]})\n",
    "\n",
    "headers = {'Content-Type': 'application/json'}\n",
    "\n",
    "# for AKS deployment you'd need to the service key in the header as well\n",
    "# api_key = service.get_key()\n",
    "# headers = {'Content-Type':'application/json',  'Authorization':('Bearer '+ api_key)} \n",
    "\n",
    "resp = requests.post(service.scoring_uri, input_data, headers=headers)\n",
    "\n",
    "print(\"POST to url\", service.scoring_uri)\n",
    "#print(\"input data:\", input_data)\n",
    "print(\"label:\", valid.loc[random_index,\"label\"])\n",
    "print(\"prediction:\", resp.text)"
   ]
  },
  {
   "cell_type": "markdown",
   "metadata": {
    "collapsed": true,
    "gather": {
     "logged": 1598432765711
    },
    "jupyter": {
     "outputs_hidden": false,
     "source_hidden": false
    },
    "nteract": {
     "transient": {
      "deleting": false
     }
    }
   },
   "source": [
    "TODO: In the cell below, print the logs of the web service and delete the service"
   ]
  },
  {
   "cell_type": "code",
   "execution_count": 122,
   "metadata": {},
   "outputs": [
    {
     "name": "stdout",
     "output_type": "stream",
     "text": [
      "2021-01-06T13:12:26,832465100+00:00 - gunicorn/run \n",
      "2021-01-06T13:12:26,840431600+00:00 - rsyslog/run \n",
      "2021-01-06T13:12:26,849077200+00:00 - iot-server/run \n",
      "2021-01-06T13:12:26,878760100+00:00 - nginx/run \n",
      "rsyslogd: /azureml-envs/azureml_8eff28b157f42edcd2424a5aae6c8074/lib/libuuid.so.1: no version information available (required by rsyslogd)\n",
      "/usr/sbin/nginx: /azureml-envs/azureml_8eff28b157f42edcd2424a5aae6c8074/lib/libcrypto.so.1.0.0: no version information available (required by /usr/sbin/nginx)\n",
      "/usr/sbin/nginx: /azureml-envs/azureml_8eff28b157f42edcd2424a5aae6c8074/lib/libcrypto.so.1.0.0: no version information available (required by /usr/sbin/nginx)\n",
      "/usr/sbin/nginx: /azureml-envs/azureml_8eff28b157f42edcd2424a5aae6c8074/lib/libssl.so.1.0.0: no version information available (required by /usr/sbin/nginx)\n",
      "/usr/sbin/nginx: /azureml-envs/azureml_8eff28b157f42edcd2424a5aae6c8074/lib/libssl.so.1.0.0: no version information available (required by /usr/sbin/nginx)\n",
      "/usr/sbin/nginx: /azureml-envs/azureml_8eff28b157f42edcd2424a5aae6c8074/lib/libssl.so.1.0.0: no version information available (required by /usr/sbin/nginx)\n",
      "EdgeHubConnectionString and IOTEDGE_IOTHUBHOSTNAME are not set. Exiting...\n",
      "2021-01-06T13:12:29,160221300+00:00 - iot-server/finish 1 0\n",
      "2021-01-06T13:12:29,215161800+00:00 - Exit code 1 is normal. Not restarting iot-server.\n",
      "Starting gunicorn 19.9.0\n",
      "Listening at: http://127.0.0.1:31311 (70)\n",
      "Using worker: sync\n",
      "worker timeout is set to 300\n",
      "Booting worker with pid: 100\n",
      "SPARK_HOME not set. Skipping PySpark Initialization.\n",
      "Generating new fontManager, this may take some time...\n",
      "Initializing logger\n",
      "2021-01-06 13:12:35,863 | root | INFO | Starting up app insights client\n",
      "Starting up app insights client\n",
      "2021-01-06 13:12:35,865 | root | INFO | Starting up request id generator\n",
      "Starting up request id generator\n",
      "2021-01-06 13:12:35,865 | root | INFO | Starting up app insight hooks\n",
      "Starting up app insight hooks\n",
      "2021-01-06 13:12:35,867 | root | INFO | Invoking user's init function\n",
      "Invoking user's init function\n",
      "2021-01-06 13:12:46,938 | root | INFO | Users's init has completed successfully\n",
      "Users's init has completed successfully\n",
      "2021-01-06 13:12:46,945 | root | INFO | Skipping middleware: dbg_model_info as it's not enabled.\n",
      "Skipping middleware: dbg_model_info as it's not enabled.\n",
      "2021-01-06 13:12:46,945 | root | INFO | Skipping middleware: dbg_resource_usage as it's not enabled.\n",
      "Skipping middleware: dbg_resource_usage as it's not enabled.\n",
      "2021-01-06 13:12:46,950 | root | INFO | Scoring timeout is found from os.environ: 60000 ms\n",
      "Scoring timeout is found from os.environ: 60000 ms\n",
      "2021-01-06 13:12:47,734 | root | INFO | Swagger file not present\n",
      "Swagger file not present\n",
      "2021-01-06 13:12:47,735 | root | INFO | 404\n",
      "404\n",
      "127.0.0.1 - - [06/Jan/2021:13:12:47 +0000] \"GET /swagger.json HTTP/1.0\" 404 19 \"-\" \"Go-http-client/1.1\"\n",
      "2021-01-06 13:12:59,272 | root | INFO | Swagger file not present\n",
      "Swagger file not present\n",
      "2021-01-06 13:12:59,272 | root | INFO | 404\n",
      "404\n",
      "127.0.0.1 - - [06/Jan/2021:13:12:59 +0000] \"GET /swagger.json HTTP/1.0\" 404 19 \"-\" \"Go-http-client/1.1\"\n",
      "2021-01-06 13:15:17,097 | root | INFO | Validation Request Content-Type\n",
      "Validation Request Content-Type\n",
      "2021-01-06 13:15:17,098 | root | INFO | \tHost: localhost:5001\n",
      "\tHost: localhost:5001\n",
      "2021-01-06 13:15:17,098 | root | INFO | \tX-Real-Ip: 127.0.0.1\n",
      "\tX-Real-Ip: 127.0.0.1\n",
      "2021-01-06 13:15:17,099 | root | INFO | \tX-Forwarded-For: 127.0.0.1\n",
      "\tX-Forwarded-For: 127.0.0.1\n",
      "2021-01-06 13:15:17,099 | root | INFO | \tX-Forwarded-Proto: http\n",
      "\tX-Forwarded-Proto: http\n",
      "2021-01-06 13:15:17,099 | root | INFO | \tConnection: close\n",
      "\tConnection: close\n",
      "2021-01-06 13:15:17,100 | root | INFO | \tContent-Length: 2560\n",
      "\tContent-Length: 2560\n",
      "2021-01-06 13:15:17,100 | root | INFO | \tUser-Agent: python-requests/2.25.0\n",
      "\tUser-Agent: python-requests/2.25.0\n",
      "2021-01-06 13:15:17,100 | root | INFO | \tAccept: application/json\n",
      "\tAccept: application/json\n",
      "2021-01-06 13:15:17,100 | root | INFO | \tAccept-Encoding: gzip, deflate\n",
      "\tAccept-Encoding: gzip, deflate\n",
      "2021-01-06 13:15:17,100 | root | INFO | \tContent-Type: application/json\n",
      "\tContent-Type: application/json\n",
      "2021-01-06 13:15:17,100 | root | INFO | \tX-Ms-Request-Id: 6f140cef-7be5-46eb-83f2-c2014da35485\n",
      "\tX-Ms-Request-Id: 6f140cef-7be5-46eb-83f2-c2014da35485\n",
      "2021-01-06 13:15:17,102 | root | INFO | Scoring Timer is set to 60.0 seconds\n",
      "Scoring Timer is set to 60.0 seconds\n",
      "2021-01-06 13:15:17,238 | root | INFO | 200\n",
      "200\n",
      "127.0.0.1 - - [06/Jan/2021:13:15:17 +0000] \"POST /score HTTP/1.0\" 200 803 \"-\" \"python-requests/2.25.0\"\n",
      "2021-01-06 13:19:29,742 | root | INFO | Validation Request Content-Type\n",
      "Validation Request Content-Type\n",
      "2021-01-06 13:19:29,744 | root | INFO | \tHost: localhost:5001\n",
      "\tHost: localhost:5001\n",
      "2021-01-06 13:19:29,744 | root | INFO | \tX-Real-Ip: 127.0.0.1\n",
      "\tX-Real-Ip: 127.0.0.1\n",
      "2021-01-06 13:19:29,745 | root | INFO | \tX-Forwarded-For: 127.0.0.1\n",
      "\tX-Forwarded-For: 127.0.0.1\n",
      "2021-01-06 13:19:29,746 | root | INFO | \tX-Forwarded-Proto: http\n",
      "\tX-Forwarded-Proto: http\n",
      "2021-01-06 13:19:29,746 | root | INFO | \tConnection: close\n",
      "\tConnection: close\n",
      "2021-01-06 13:19:29,747 | root | INFO | \tContent-Length: 142\n",
      "\tContent-Length: 142\n",
      "2021-01-06 13:19:29,748 | root | INFO | \tUser-Agent: python-requests/2.25.0\n",
      "\tUser-Agent: python-requests/2.25.0\n",
      "2021-01-06 13:19:29,748 | root | INFO | \tAccept: */*\n",
      "\tAccept: */*\n",
      "2021-01-06 13:19:29,749 | root | INFO | \tAccept-Encoding: gzip, deflate\n",
      "\tAccept-Encoding: gzip, deflate\n",
      "2021-01-06 13:19:29,749 | root | INFO | \tContent-Type: application/json\n",
      "\tContent-Type: application/json\n",
      "2021-01-06 13:19:29,749 | root | INFO | \tX-Ms-Request-Id: c36095c5-fbc5-4ef2-9cb2-e7431e5d1f32\n",
      "\tX-Ms-Request-Id: c36095c5-fbc5-4ef2-9cb2-e7431e5d1f32\n",
      "2021-01-06 13:19:29,750 | root | INFO | Scoring Timer is set to 60.0 seconds\n",
      "Scoring Timer is set to 60.0 seconds\n",
      "2021-01-06 13:19:29,751 | root | INFO | 200\n",
      "200\n",
      "127.0.0.1 - - [06/Jan/2021:13:19:29 +0000] \"POST /score HTTP/1.0\" 200 45 \"-\" \"python-requests/2.25.0\"\n",
      "2021-01-06 13:20:02,695 | root | INFO | Validation Request Content-Type\n",
      "Validation Request Content-Type\n",
      "2021-01-06 13:20:02,696 | root | INFO | \tHost: localhost:5001\n",
      "\tHost: localhost:5001\n",
      "2021-01-06 13:20:02,696 | root | INFO | \tX-Real-Ip: 127.0.0.1\n",
      "\tX-Real-Ip: 127.0.0.1\n",
      "2021-01-06 13:20:02,697 | root | INFO | \tX-Forwarded-For: 127.0.0.1\n",
      "\tX-Forwarded-For: 127.0.0.1\n",
      "2021-01-06 13:20:02,698 | root | INFO | \tX-Forwarded-Proto: http\n",
      "\tX-Forwarded-Proto: http\n",
      "2021-01-06 13:20:02,698 | root | INFO | \tConnection: close\n",
      "\tConnection: close\n",
      "2021-01-06 13:20:02,702 | root | INFO | \tContent-Length: 142\n",
      "\tContent-Length: 142\n",
      "2021-01-06 13:20:02,702 | root | INFO | \tUser-Agent: python-requests/2.25.0\n",
      "\tUser-Agent: python-requests/2.25.0\n",
      "2021-01-06 13:20:02,703 | root | INFO | \tAccept: */*\n",
      "\tAccept: */*\n",
      "2021-01-06 13:20:02,703 | root | INFO | \tAccept-Encoding: gzip, deflate\n",
      "\tAccept-Encoding: gzip, deflate\n",
      "2021-01-06 13:20:02,703 | root | INFO | \tContent-Type: application/json\n",
      "\tContent-Type: application/json\n",
      "2021-01-06 13:20:02,703 | root | INFO | \tX-Ms-Request-Id: c30cb3c1-800f-4ec2-bde1-ed52b983c29e\n",
      "\tX-Ms-Request-Id: c30cb3c1-800f-4ec2-bde1-ed52b983c29e\n",
      "2021-01-06 13:20:02,704 | root | INFO | Scoring Timer is set to 60.0 seconds\n",
      "Scoring Timer is set to 60.0 seconds\n",
      "2021-01-06 13:20:02,704 | root | INFO | 200\n",
      "200\n",
      "127.0.0.1 - - [06/Jan/2021:13:20:02 +0000] \"POST /score HTTP/1.0\" 200 45 \"-\" \"python-requests/2.25.0\"\n",
      "2021-01-06 13:20:40,635 | root | INFO | Validation Request Content-Type\n",
      "Validation Request Content-Type\n",
      "2021-01-06 13:20:40,636 | root | INFO | \tHost: localhost:5001\n",
      "\tHost: localhost:5001\n",
      "2021-01-06 13:20:40,636 | root | INFO | \tX-Real-Ip: 127.0.0.1\n",
      "\tX-Real-Ip: 127.0.0.1\n",
      "2021-01-06 13:20:40,637 | root | INFO | \tX-Forwarded-For: 127.0.0.1\n",
      "\tX-Forwarded-For: 127.0.0.1\n",
      "2021-01-06 13:20:40,637 | root | INFO | \tX-Forwarded-Proto: http\n",
      "\tX-Forwarded-Proto: http\n",
      "2021-01-06 13:20:40,637 | root | INFO | \tConnection: close\n",
      "\tConnection: close\n",
      "2021-01-06 13:20:40,637 | root | INFO | \tContent-Length: 142\n",
      "\tContent-Length: 142\n",
      "2021-01-06 13:20:40,638 | root | INFO | \tUser-Agent: python-requests/2.25.0\n",
      "\tUser-Agent: python-requests/2.25.0\n",
      "2021-01-06 13:20:40,638 | root | INFO | \tAccept: */*\n",
      "\tAccept: */*\n",
      "2021-01-06 13:20:40,638 | root | INFO | \tAccept-Encoding: gzip, deflate\n",
      "\tAccept-Encoding: gzip, deflate\n",
      "2021-01-06 13:20:40,638 | root | INFO | \tContent-Type: application/json\n",
      "\tContent-Type: application/json\n",
      "2021-01-06 13:20:40,638 | root | INFO | \tX-Ms-Request-Id: dce9ccae-3f9c-4307-80b2-33e5d5dce263\n",
      "\tX-Ms-Request-Id: dce9ccae-3f9c-4307-80b2-33e5d5dce263\n",
      "2021-01-06 13:20:40,639 | root | INFO | Scoring Timer is set to 60.0 seconds\n",
      "Scoring Timer is set to 60.0 seconds\n",
      "2021-01-06 13:20:40,639 | root | INFO | 200\n",
      "200\n",
      "127.0.0.1 - - [06/Jan/2021:13:20:40 +0000] \"POST /score HTTP/1.0\" 200 45 \"-\" \"python-requests/2.25.0\"\n",
      "2021-01-06 13:27:20,620 | root | INFO | Validation Request Content-Type\n",
      "Validation Request Content-Type\n",
      "2021-01-06 13:27:20,624 | root | INFO | \tHost: localhost:5001\n",
      "\tHost: localhost:5001\n",
      "2021-01-06 13:27:20,624 | root | INFO | \tX-Real-Ip: 127.0.0.1\n",
      "\tX-Real-Ip: 127.0.0.1\n",
      "2021-01-06 13:27:20,624 | root | INFO | \tX-Forwarded-For: 127.0.0.1\n",
      "\tX-Forwarded-For: 127.0.0.1\n",
      "2021-01-06 13:27:20,624 | root | INFO | \tX-Forwarded-Proto: http\n",
      "\tX-Forwarded-Proto: http\n",
      "2021-01-06 13:27:20,624 | root | INFO | \tConnection: close\n",
      "\tConnection: close\n",
      "2021-01-06 13:27:20,625 | root | INFO | \tContent-Length: 40\n",
      "\tContent-Length: 40\n",
      "2021-01-06 13:27:20,625 | root | INFO | \tUser-Agent: python-requests/2.25.0\n",
      "\tUser-Agent: python-requests/2.25.0\n",
      "2021-01-06 13:27:20,625 | root | INFO | \tAccept: */*\n",
      "\tAccept: */*\n",
      "2021-01-06 13:27:20,625 | root | INFO | \tAccept-Encoding: gzip, deflate\n",
      "\tAccept-Encoding: gzip, deflate\n",
      "2021-01-06 13:27:20,626 | root | INFO | \tContent-Type: application/json\n",
      "\tContent-Type: application/json\n",
      "2021-01-06 13:27:20,626 | root | INFO | \tX-Ms-Request-Id: adc4cd83-65dc-492d-aeb9-d7cdc5d3f937\n",
      "\tX-Ms-Request-Id: adc4cd83-65dc-492d-aeb9-d7cdc5d3f937\n",
      "2021-01-06 13:27:20,626 | root | INFO | Scoring Timer is set to 60.0 seconds\n",
      "Scoring Timer is set to 60.0 seconds\n",
      "2021-01-06 13:27:20,748 | root | INFO | 200\n",
      "200\n",
      "127.0.0.1 - - [06/Jan/2021:13:27:20 +0000] \"POST /score HTTP/1.0\" 200 14 \"-\" \"python-requests/2.25.0\"\n",
      "\n"
     ]
    }
   ],
   "source": [
    "print(service.get_logs())"
   ]
  },
  {
   "cell_type": "code",
   "execution_count": 126,
   "metadata": {
    "jupyter": {
     "outputs_hidden": false,
     "source_hidden": false
    },
    "nteract": {
     "transient": {
      "deleting": false
     }
    }
   },
   "outputs": [],
   "source": [
    "##deleting the service\n",
    "service.delete()"
   ]
  },
  {
   "cell_type": "code",
   "execution_count": 128,
   "metadata": {},
   "outputs": [],
   "source": [
    "##delete the compute resource that we created -\n",
    "cpu_cluster.delete()\n"
   ]
  }
 ],
 "metadata": {
  "kernel_info": {
   "name": "python3-azureml"
  },
  "kernelspec": {
   "display_name": "Python 3",
   "language": "python",
   "name": "python3"
  },
  "language_info": {
   "codemirror_mode": {
    "name": "ipython",
    "version": 3
   },
   "file_extension": ".py",
   "mimetype": "text/x-python",
   "name": "python",
   "nbconvert_exporter": "python",
   "pygments_lexer": "ipython3",
   "version": "3.8.3"
  },
  "nteract": {
   "version": "nteract-front-end@1.0.0"
  }
 },
 "nbformat": 4,
 "nbformat_minor": 2
}
